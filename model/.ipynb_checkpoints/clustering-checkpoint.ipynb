{
 "cells": [
  {
   "cell_type": "markdown",
   "metadata": {},
   "source": [
    "# Clustering \n",
    "## [Cleaning](#cleaning)\n",
    "- [renaming columns](#renamingColumns)\n",
    "- [converting strings to numericals](#cleaning)\n",
    "\n",
    "## [Feature Engineering](#featureEngineering)\n",
    "- [bust size conversion](#bustSize)\n",
    "- [height conversion](#heightConversion)\n",
    "- [creating dummy variables for body types](#bodyTypeDummy)\n",
    "\n",
    "## [Clustering](#clustering)\n",
    "- [first kmeans](#kmeans1)\n",
    "    - [investigating optimal k](#investigatingK1)\n",
    "    - [modelling](#modelling1)\n",
    "    - [cluster analysis](#clusterAnalysis1)\n",
    "- [second kmeans](#kmeans1)\n",
    "    - [manipulating features](#manipulatingFeatures)\n",
    "    - [investigating optimal k](#investigatingK2)\n",
    "    - [modelling](#modelling2)\n",
    "    - [cluster analysis](#clusterAnalysis2)\n",
    "- [hierarchical](#hier)\n",
    "    - [investigating optimal k](#investigatingK1)\n",
    "    - [modelling](#modelling1)\n",
    "    - [cluster analysis](#clusterAnalysis1)"
   ]
  },
  {
   "cell_type": "code",
   "execution_count": 3,
   "metadata": {
    "collapsed": false
   },
   "outputs": [],
   "source": [
    "from sklearn.decomposition import PCA\n",
    "from sklearn import metrics\n",
    "from sklearn.metrics import pairwise_distances\n",
    "from sklearn.metrics import silhouette_score\n",
    "from sklearn.preprocessing import scale\n",
    "from sklearn.datasets import fetch_mldata\n",
    "from sklearn.cluster import KMeans\n",
    "from sklearn.utils import shuffle\n",
    "from pymongo import MongoClient\n",
    "import pandas as pd\n",
    "import numpy as np\n",
    "from seaborn import plt\n",
    "import matplotlib.pyplot as mplt\n",
    "%matplotlib inline"
   ]
  },
  {
   "cell_type": "code",
   "execution_count": 4,
   "metadata": {
    "collapsed": true
   },
   "outputs": [],
   "source": [
    "client = MongoClient('ec2-34-198-179-91.compute-1.amazonaws.com', 27017)\n",
    "db = client.fletcher\n",
    "dress_col = db.rtr_dresses\n",
    "rev_col = db.rtr_reviews"
   ]
  },
  {
   "cell_type": "code",
   "execution_count": 5,
   "metadata": {
    "collapsed": true
   },
   "outputs": [],
   "source": [
    "cur = rev_col.find()\n",
    "df =  pd.DataFrame(list(cur))\n",
    "del df['_id']"
   ]
  },
  {
   "cell_type": "code",
   "execution_count": 6,
   "metadata": {
    "collapsed": true
   },
   "outputs": [],
   "source": [
    "cur_2 = dress_col.find()\n",
    "dress_df =  pd.DataFrame(list(cur_2))\n",
    "del dress_df['_id']"
   ]
  },
  {
   "cell_type": "markdown",
   "metadata": {},
   "source": [
    "<a id=\"cleaning\"></a>\n",
    "## Cleaning\n",
    "<a id=\"renamingColumns\"></a>\n",
    "### Renaming Columns"
   ]
  },
  {
   "cell_type": "code",
   "execution_count": 7,
   "metadata": {
    "collapsed": true
   },
   "outputs": [],
   "source": [
    "new_cols = []\n",
    "for col in df.columns:\n",
    "    new_c = col.lower().strip().replace(' ', '_')\n",
    "    new_c = new_c.replace(':', '')\n",
    "    new_cols.append(new_c)\n",
    "df.columns = new_cols"
   ]
  },
  {
   "cell_type": "markdown",
   "metadata": {},
   "source": [
    "<a id=\"clearning\"></a>\n",
    "### Converting strings to numericals"
   ]
  },
  {
   "cell_type": "code",
   "execution_count": 10,
   "metadata": {
    "collapsed": false
   },
   "outputs": [],
   "source": [
    "df.rating = df['rating'].str.extract(r'stars-([\\d]+)', expand=True).astype(float)\n",
    "df.loc[df.age.notnull(), 'age'] = df[df.age.notnull()].age.astype(float)"
   ]
  },
  {
   "cell_type": "markdown",
   "metadata": {},
   "source": [
    "Remove ages that does't make sense"
   ]
  },
  {
   "cell_type": "code",
   "execution_count": 11,
   "metadata": {
    "collapsed": false
   },
   "outputs": [],
   "source": [
    "df.loc[df.age < 10, 'age'] = np.nan\n",
    "df.loc[df.age > 100, 'age'] = np.nan"
   ]
  },
  {
   "cell_type": "markdown",
   "metadata": {},
   "source": [
    "Getting additional weight or height data from the comments."
   ]
  },
  {
   "cell_type": "code",
   "execution_count": 13,
   "metadata": {
    "collapsed": true
   },
   "outputs": [],
   "source": [
    "df.loc[(df.weight.isnull()) & (df.review.str.contains('lbs')), 'weight'] = df[(df.weight.isnull()) & (df.review.str.contains('lbs'))].review.str.extract('([\\d]+)[\\s]?lbs', expand=True)\n",
    "df.loc[df.height.isnull(), 'height'] = df[df.height.isnull()].review.str.extract(r'(\\d+\\s?\\'\\s?\\d+)', expand=True)"
   ]
  },
  {
   "cell_type": "markdown",
   "metadata": {},
   "source": [
    "Looking into the comments to see whether the user is pregnant by searching for the word \"pregnant\""
   ]
  },
  {
   "cell_type": "code",
   "execution_count": 15,
   "metadata": {
    "collapsed": true
   },
   "outputs": [],
   "source": [
    "df['pregnant'] = df.review.str.contains('pregnant', case=False)"
   ]
  },
  {
   "cell_type": "code",
   "execution_count": 16,
   "metadata": {
    "collapsed": false
   },
   "outputs": [],
   "source": [
    "df.loc[df.usually_wears == '24+', 'usually_wears'] = '24'"
   ]
  },
  {
   "cell_type": "markdown",
   "metadata": {},
   "source": [
    "<a id=\"featureEngineering\"></a>\n",
    "## Feature Engineering\n",
    "I want to take features that are specifi to the person, so that I can cluster people based on body types. From the data, I can use these values:\n",
    "- age\n",
    "- body_type\n",
    "- bust_size \n",
    "- height \n",
    "- weight \n",
    "- usually_wears\n",
    "- pregnant"
   ]
  },
  {
   "cell_type": "code",
   "execution_count": 17,
   "metadata": {
    "collapsed": false
   },
   "outputs": [],
   "source": [
    "df_body = df[['age', 'body_type', 'bust_size', 'height', 'usually_wears', 'pregnant', 'weight']]\n",
    "df_body = df_body.dropna()"
   ]
  },
  {
   "cell_type": "markdown",
   "metadata": {},
   "source": [
    "<a id=\"bustSize\"></a>\n",
    "## Bust size conversion"
   ]
  },
  {
   "cell_type": "code",
   "execution_count": 22,
   "metadata": {
    "collapsed": false
   },
   "outputs": [],
   "source": [
    "import pickle\n",
    "under_bust_dict = pickle.load( open( \"../data/under_bust.pkl\", \"rb\" ) )\n",
    "upper_bust_dict = pickle.load( open( \"../data/upper_bust.pkl\", \"rb\" ) )"
   ]
  },
  {
   "cell_type": "code",
   "execution_count": 23,
   "metadata": {
    "collapsed": false
   },
   "outputs": [],
   "source": [
    "df_body['cup'] = df_body.bust_size.str.extract('\\d+(.*)', expand=True)\n",
    "df_body['band_size'] = df_body.bust_size.str.extract('(\\d+).*', expand=True)\n",
    "df_body.loc[df_body.cup == 'D+', 'cup'] = 'DD'\n",
    "df_body.band_size = df_body.band_size.astype(int)\n",
    "for cup in df_body.cup.unique():\n",
    "    df_body.loc[df_body.cup == cup, 'upper_bust'] = df_body[df_body.cup == cup].band_size.replace(upper_bust_dict[cup])"
   ]
  },
  {
   "cell_type": "code",
   "execution_count": 24,
   "metadata": {
    "collapsed": false
   },
   "outputs": [],
   "source": [
    "df_body['under_bust'] = df_body.band_size.replace(under_bust_dict)\n",
    "df_body.weight = df_body.weight.str.extract('(\\d+)\\s?lbs', expand=True)\n",
    "df_body.weight = df_body.weight.astype(int)\n",
    "del df_body['cup']\n",
    "del df_body['band_size']"
   ]
  },
  {
   "cell_type": "markdown",
   "metadata": {},
   "source": [
    "<a id=\"heightConversion\"></a>\n",
    "## Height conversion"
   ]
  },
  {
   "cell_type": "code",
   "execution_count": 25,
   "metadata": {
    "collapsed": false
   },
   "outputs": [],
   "source": [
    "df_body['feet'] = df_body.height.str.extract(r'(\\d)\\'', expand=True).astype(int)\n",
    "df_body['inches'] = df_body.height.str.extract(r'\\d\\'\\s?(\\d+)', expand=True).astype(int)\n",
    "df_body['height_in'] = df_body.feet * 12 + df_body.inches\n",
    "del df_body['feet']\n",
    "del df_body['inches']"
   ]
  },
  {
   "cell_type": "code",
   "execution_count": 26,
   "metadata": {
    "collapsed": true
   },
   "outputs": [],
   "source": [
    "df_body.age = df_body.age.astype(int)\n",
    "df_body.usually_wears = df_body.usually_wears.astype(int)"
   ]
  },
  {
   "cell_type": "code",
   "execution_count": 37,
   "metadata": {
    "collapsed": false
   },
   "outputs": [],
   "source": [
    "# sanity checks\n",
    "df_body[df_body.weight < 80] = np.nan\n",
    "df_body = df_body.dropna()"
   ]
  },
  {
   "cell_type": "markdown",
   "metadata": {},
   "source": [
    "<a id=\"bodyTypeDummy\"></a>\n",
    "## Body types dummy variables"
   ]
  },
  {
   "cell_type": "code",
   "execution_count": 40,
   "metadata": {
    "collapsed": true
   },
   "outputs": [],
   "source": [
    "df_X = df_body[['age', 'usually_wears', 'pregnant', 'weight', 'upper_bust', 'under_bust', 'height_in']]"
   ]
  },
  {
   "cell_type": "code",
   "execution_count": 41,
   "metadata": {
    "collapsed": false
   },
   "outputs": [],
   "source": [
    "import patsy\n",
    "from sklearn.preprocessing import normalize\n",
    "from sklearn.metrics import silhouette_score"
   ]
  },
  {
   "cell_type": "code",
   "execution_count": 42,
   "metadata": {
    "collapsed": false
   },
   "outputs": [],
   "source": [
    "# make dummys for body types\n",
    "df_body_type = patsy.dmatrix('body_type',data=df_body,return_type='dataframe')\n",
    "df_X= df_X.join(df_body_type)\n",
    "df_X = pd.DataFrame(normalize(df_X, axis=0, norm='max'), columns = df_X.columns)"
   ]
  },
  {
   "cell_type": "code",
   "execution_count": 43,
   "metadata": {
    "collapsed": true
   },
   "outputs": [],
   "source": [
    "del df_X['Intercept']"
   ]
  },
  {
   "cell_type": "markdown",
   "metadata": {},
   "source": [
    "<a id=\"clustering\"></a>\n",
    "# Clustering\n",
    "<a id=\"kmeans1\"></a>\n",
    "## KMeans - 1"
   ]
  },
  {
   "cell_type": "code",
   "execution_count": 50,
   "metadata": {
    "collapsed": true
   },
   "outputs": [],
   "source": [
    "import time\n",
    "def plot_kmeans(df, k_clusters = range(4,10)):\n",
    "    sses = []\n",
    "    sil_coefs = []\n",
    "    for k in k_clusters:\n",
    "        st = time.time()\n",
    "        print('Starting kmeans on k={}'.format(k))\n",
    "        km = KMeans(n_clusters=k, random_state=1)\n",
    "        print('Elapsed time: {}'.format(time.time() - st))\n",
    "        km.fit(df)\n",
    "        labels = km.labels_\n",
    "        sil_coefs.append(silhouette_score(df, labels, metric='euclidean'))\n",
    "        sses.append(km.inertia_)\n",
    "    fig, (ax1, ax2) = plt.subplots(1,2, figsize=(15,5), sharex=True)\n",
    "    ax1.plot(k_clusters, sil_coefs)\n",
    "    ax1.set_xlabel('number of clusters')\n",
    "    ax1.set_ylabel('silhouette coefficient')\n",
    "\n",
    "    # plot here on ax2\n",
    "    ax2.plot(k_clusters, sses)\n",
    "    ax2.set_xlabel('number of clusters')\n",
    "    ax2.set_ylabel('SSE');"
   ]
  },
  {
   "cell_type": "markdown",
   "metadata": {},
   "source": [
    "<a id=\"investigatingK1\"></a>\n",
    "### investigating optimal k"
   ]
  },
  {
   "cell_type": "code",
   "execution_count": null,
   "metadata": {
    "collapsed": false
   },
   "outputs": [
    {
     "name": "stdout",
     "output_type": "stream",
     "text": [
      "Starting kmeans on k=6\n"
     ]
    }
   ],
   "source": [
    "plot_kmeans(df_X, k_clusters=range(6,8))"
   ]
  },
  {
   "cell_type": "markdown",
   "metadata": {},
   "source": [
    "It is pretty clear that the best number for k is 6."
   ]
  },
  {
   "cell_type": "markdown",
   "metadata": {},
   "source": [
    "<a id=\"modelling1\"></a>\n",
    "### modelling"
   ]
  },
  {
   "cell_type": "code",
   "execution_count": 52,
   "metadata": {
    "collapsed": false
   },
   "outputs": [],
   "source": [
    "km = KMeans(n_clusters=6, random_state=1)\n",
    "km.fit(df_X)\n",
    "labels = km.labels_"
   ]
  },
  {
   "cell_type": "code",
   "execution_count": 114,
   "metadata": {
    "collapsed": false
   },
   "outputs": [],
   "source": [
    "df_body['kmean_label'] = labels"
   ]
  },
  {
   "cell_type": "code",
   "execution_count": 130,
   "metadata": {
    "collapsed": false
   },
   "outputs": [],
   "source": [
    "def print_cluster_medians(df, label_col='kmean_label'):\n",
    "    for l in df[label_col].unique():\n",
    "        print('--------label {}-----------'.format(l))\n",
    "        cur_type = df[df[label_col] == l]\n",
    "        print('Body type mode: {}'.format(cur_type['body_type'].mode()))\n",
    "        print('Upper bust median: {}'.format(cur_type['upper_bust'].median()))\n",
    "        print('Under bust median: {}'.format(cur_type['under_bust'].median()))\n",
    "        print('Height median: {}'.format(cur_type['height_in'].median()))\n",
    "        print('Weight median: {}'.format(cur_type['weight'].median()))\n",
    "        print('Age range: {} - {}'.format(cur_type.age.min(), cur_type.age.max()))\n",
    "        print('****** GROUP BY *******')\n",
    "        print(cur_type.groupby('body_type').size())"
   ]
  },
  {
   "cell_type": "markdown",
   "metadata": {},
   "source": [
    "<a id=\"clusterAnalysis1\"></a>\n",
    "### cluster analysis"
   ]
  },
  {
   "cell_type": "code",
   "execution_count": 131,
   "metadata": {
    "collapsed": false
   },
   "outputs": [
    {
     "name": "stdout",
     "output_type": "stream",
     "text": [
      "--------label 0-----------\n",
      "Body type mode: 0    Athletic\n",
      "dtype: object\n",
      "Upper bust median: 92.5\n",
      "Under bust median: 75.0\n",
      "Height median: 66.0\n",
      "Weight median: 135.0\n",
      "Age range: 17 - 64\n",
      "****** GROUP BY *******\n",
      "body_type\n",
      "Athletic    1378\n",
      "dtype: int64\n",
      "--------label 1-----------\n",
      "Body type mode: 0    Hourglass\n",
      "dtype: object\n",
      "Upper bust median: 95.5\n",
      "Under bust median: 75.0\n",
      "Height median: 65.0\n",
      "Weight median: 142.0\n",
      "Age range: 17 - 65\n",
      "****** GROUP BY *******\n",
      "body_type\n",
      "Hourglass    1889\n",
      "dtype: int64\n",
      "--------label 4-----------\n",
      "Body type mode: 0    Straight & narrow\n",
      "dtype: object\n",
      "Upper bust median: 90.0\n",
      "Under bust median: 75.0\n",
      "Height median: 67.0\n",
      "Weight median: 125.0\n",
      "Age range: 18 - 68\n",
      "****** GROUP BY *******\n",
      "body_type\n",
      "Straight & narrow    472\n",
      "dtype: int64\n",
      "--------label 2-----------\n",
      "Body type mode: 0    Full Bust\n",
      "dtype: object\n",
      "Upper bust median: 98.0\n",
      "Under bust median: 80.0\n",
      "Height median: 65.0\n",
      "Weight median: 150.0\n",
      "Age range: 17 - 69\n",
      "****** GROUP BY *******\n",
      "body_type\n",
      "Apple        195\n",
      "Full Bust    508\n",
      "dtype: int64\n",
      "--------label 3-----------\n",
      "Body type mode: 0    Pear\n",
      "dtype: object\n",
      "Upper bust median: 92.5\n",
      "Under bust median: 75.0\n",
      "Height median: 65.0\n",
      "Weight median: 145.0\n",
      "Age range: 17 - 62\n",
      "****** GROUP BY *******\n",
      "body_type\n",
      "Pear    724\n",
      "dtype: int64\n",
      "--------label 5-----------\n",
      "Body type mode: 0    Petite\n",
      "dtype: object\n",
      "Upper bust median: 90.0\n",
      "Under bust median: 75.0\n",
      "Height median: 62.0\n",
      "Weight median: 115.0\n",
      "Age range: 15 - 60\n",
      "****** GROUP BY *******\n",
      "body_type\n",
      "Petite    676\n",
      "dtype: int64\n"
     ]
    }
   ],
   "source": [
    "print_cluster_medians(df_body)"
   ]
  },
  {
   "cell_type": "markdown",
   "metadata": {},
   "source": [
    "\n",
    "- They're simply clustering on body types.\n",
    "- I have to tweak the coefficients."
   ]
  },
  {
   "cell_type": "markdown",
   "metadata": {},
   "source": [
    "<a id=\"kmeans2\"></a>\n",
    "## KMeans - 2"
   ]
  },
  {
   "cell_type": "markdown",
   "metadata": {},
   "source": [
    "<a id=\"manipulatingFeatures\"></a>\n",
    "### manipulating features "
   ]
  },
  {
   "cell_type": "code",
   "execution_count": 119,
   "metadata": {
    "collapsed": true
   },
   "outputs": [],
   "source": [
    "df_X_2 = df_X.copy()"
   ]
  },
  {
   "cell_type": "markdown",
   "metadata": {},
   "source": [
    "The problem is, kmeans will split by the different body types because the distance of a person with, for example an athletic body, to someone in pear shaped will be distance of 1, which is further away than the other sort of features. I have to multiply these categorical columns by a fraction to make them closer together. I have chosen **0.2**\n"
   ]
  },
  {
   "cell_type": "code",
   "execution_count": 120,
   "metadata": {
    "collapsed": false
   },
   "outputs": [],
   "source": [
    "for col in df_X_2.columns.values[7:]:\n",
    "    df_X_2[col] = df_X_2[col] * 0.2"
   ]
  },
  {
   "cell_type": "markdown",
   "metadata": {},
   "source": [
    "I think that weight and height are important features; I will multiply these features by 1.5, so that there's more division between these categories. I also think that being pregnant is a strong feature - I would like to cluster the pregnant ladies by themselves - so that I've multiplied them by **0.5**, slightly higher than 0.2."
   ]
  },
  {
   "cell_type": "code",
   "execution_count": 135,
   "metadata": {
    "collapsed": true
   },
   "outputs": [],
   "source": [
    "df_X_2['weight'] = df_X_2['weight'] * 1.5\n",
    "df_X_2['height_in'] = df_X_2['height_in'] * 1.5\n",
    "df_X_2['pregnant'] = df_X_2['pregnant'] * 0.5"
   ]
  },
  {
   "cell_type": "markdown",
   "metadata": {},
   "source": [
    "<a id=\"investigatingK2\"></a>\n",
    "### investigating optimum k"
   ]
  },
  {
   "cell_type": "code",
   "execution_count": 136,
   "metadata": {
    "collapsed": false
   },
   "outputs": [
    {
     "data": {
      "image/png": "[encoded data removed]",
      "text/plain": [
       "<matplotlib.figure.Figure at 0x116bbfba8>"
      ]
     },
     "metadata": {},
     "output_type": "display_data"
    }
   ],
   "source": [
    "plot_kmeans(df_X_2)"
   ]
  },
  {
   "cell_type": "markdown",
   "metadata": {},
   "source": [
    "<a id=\"modelling2\"></a>\n",
    "### modelling"
   ]
  },
  {
   "cell_type": "code",
   "execution_count": 137,
   "metadata": {
    "collapsed": true
   },
   "outputs": [],
   "source": [
    "km = KMeans(n_clusters=12, random_state=1)\n",
    "km.fit(df_X_2)\n",
    "labels = km.labels_"
   ]
  },
  {
   "cell_type": "code",
   "execution_count": 138,
   "metadata": {
    "collapsed": true
   },
   "outputs": [],
   "source": [
    "df_body['kmean_label_2'] = labels"
   ]
  },
  {
   "cell_type": "markdown",
   "metadata": {},
   "source": [
    "<a id=\"clusterAnalysis2\"></a>\n",
    "### cluster analysis"
   ]
  },
  {
   "cell_type": "code",
   "execution_count": 139,
   "metadata": {
    "collapsed": false
   },
   "outputs": [
    {
     "name": "stdout",
     "output_type": "stream",
     "text": [
      "--------label 3-----------\n",
      "Body type mode: 0    Athletic\n",
      "dtype: object\n",
      "Upper bust median: 90.0\n",
      "Under bust median: 75.0\n",
      "Height median: 65.0\n",
      "Weight median: 128.0\n",
      "Age range: 17 - 50\n",
      "****** GROUP BY *******\n",
      "body_type\n",
      "Athletic    765\n",
      "dtype: int64\n",
      "--------label 6-----------\n",
      "Body type mode: 0    Athletic\n",
      "dtype: object\n",
      "Upper bust median: 95.5\n",
      "Under bust median: 75.0\n",
      "Height median: 67.0\n",
      "Weight median: 146.0\n",
      "Age range: 18 - 50\n",
      "****** GROUP BY *******\n",
      "body_type\n",
      "Apple         3\n",
      "Athletic    521\n",
      "dtype: int64\n",
      "--------label 7-----------\n",
      "Body type mode: 0    Hourglass\n",
      "dtype: object\n",
      "Upper bust median: 92.5\n",
      "Under bust median: 75.0\n",
      "Height median: 65.0\n",
      "Weight median: 130.0\n",
      "Age range: 17 - 45\n",
      "****** GROUP BY *******\n",
      "body_type\n",
      "Apple          7\n",
      "Hourglass    922\n",
      "dtype: int64\n",
      "--------label 1-----------\n",
      "Body type mode: 0    Straight & narrow\n",
      "dtype: object\n",
      "Upper bust median: 90.0\n",
      "Under bust median: 75.0\n",
      "Height median: 67.0\n",
      "Weight median: 125.0\n",
      "Age range: 18 - 48\n",
      "****** GROUP BY *******\n",
      "body_type\n",
      "Apple                  2\n",
      "Straight & narrow    433\n",
      "dtype: int64\n",
      "--------label 0-----------\n",
      "Body type mode: 0    Hourglass\n",
      "dtype: object\n",
      "Upper bust median: 95.5\n",
      "Under bust median: 75.0\n",
      "Height median: 65.0\n",
      "Weight median: 136.0\n",
      "Age range: 40 - 69\n",
      "****** GROUP BY *******\n",
      "body_type\n",
      "Apple                 21\n",
      "Athletic              44\n",
      "Full Bust             23\n",
      "Hourglass            128\n",
      "Pear                  38\n",
      "Petite                19\n",
      "Straight & narrow     24\n",
      "dtype: int64\n",
      "--------label 2-----------\n",
      "Body type mode: 0    Hourglass\n",
      "dtype: object\n",
      "Upper bust median: 98.0\n",
      "Under bust median: 80.0\n",
      "Height median: 66.0\n",
      "Weight median: 160.0\n",
      "Age range: 17 - 53\n",
      "****** GROUP BY *******\n",
      "body_type\n",
      "Hourglass    692\n",
      "dtype: int64\n",
      "--------label 10-----------\n",
      "Body type mode: 0    Pear\n",
      "dtype: object\n",
      "Upper bust median: 100.0\n",
      "Under bust median: 80.0\n",
      "Height median: 65.0\n",
      "Weight median: 165.0\n",
      "Age range: 17 - 61\n",
      "****** GROUP BY *******\n",
      "body_type\n",
      "Apple                 79\n",
      "Athletic              27\n",
      "Full Bust            138\n",
      "Pear                 160\n",
      "Petite                23\n",
      "Straight & narrow      8\n",
      "dtype: int64\n",
      "--------label 5-----------\n",
      "Body type mode: 0    Pear\n",
      "dtype: object\n",
      "Upper bust median: 90.0\n",
      "Under bust median: 75.0\n",
      "Height median: 65.0\n",
      "Weight median: 135.0\n",
      "Age range: 18 - 45\n",
      "****** GROUP BY *******\n",
      "body_type\n",
      "Apple      2\n",
      "Pear     470\n",
      "dtype: int64\n",
      "--------label 4-----------\n",
      "Body type mode: 0    Petite\n",
      "dtype: object\n",
      "Upper bust median: 90.0\n",
      "Under bust median: 75.0\n",
      "Height median: 62.0\n",
      "Weight median: 115.0\n",
      "Age range: 15 - 55\n",
      "****** GROUP BY *******\n",
      "body_type\n",
      "Apple          6\n",
      "Full Bust      6\n",
      "Petite       617\n",
      "dtype: int64\n",
      "--------label 8-----------\n",
      "Body type mode: 0    Hourglass\n",
      "dtype: object\n",
      "Upper bust median: 105.5\n",
      "Under bust median: 85.0\n",
      "Height median: 67.0\n",
      "Weight median: 200.0\n",
      "Age range: 19 - 58\n",
      "****** GROUP BY *******\n",
      "body_type\n",
      "Apple                 42\n",
      "Athletic              12\n",
      "Full Bust             46\n",
      "Hourglass            133\n",
      "Pear                  52\n",
      "Petite                 1\n",
      "Straight & narrow      2\n",
      "dtype: int64\n",
      "--------label 9-----------\n",
      "Body type mode: 0    Full Bust\n",
      "dtype: object\n",
      "Upper bust median: 95.5\n",
      "Under bust median: 75.0\n",
      "Height median: 64.0\n",
      "Weight median: 136.0\n",
      "Age range: 18 - 46\n",
      "****** GROUP BY *******\n",
      "body_type\n",
      "Apple         30\n",
      "Full Bust    288\n",
      "Petite        12\n",
      "dtype: int64\n",
      "--------label 11-----------\n",
      "Body type mode: 0    Hourglass\n",
      "dtype: object\n",
      "Upper bust median: 92.5\n",
      "Under bust median: 75.0\n",
      "Height median: 65.0\n",
      "Weight median: 135.0\n",
      "Age range: 27 - 55\n",
      "****** GROUP BY *******\n",
      "body_type\n",
      "Apple                 3\n",
      "Athletic              9\n",
      "Full Bust             7\n",
      "Hourglass            14\n",
      "Pear                  4\n",
      "Petite                4\n",
      "Straight & narrow     5\n",
      "dtype: int64\n"
     ]
    }
   ],
   "source": [
    "print_cluster_medians(df_body, label_col='kmean_label_2')"
   ]
  },
  {
   "cell_type": "code",
   "execution_count": 160,
   "metadata": {
    "collapsed": false
   },
   "outputs": [],
   "source": [
    "import matplotlib.cm as cm\n",
    "label_list = df_body['kmean_label_2'].unique()\n",
    "\n",
    "colors = cm.rainbow(np.linspace(0, 1, len(label_list)))"
   ]
  },
  {
   "cell_type": "code",
   "execution_count": 161,
   "metadata": {
    "collapsed": false
   },
   "outputs": [
    {
     "data": {
      "text/plain": [
       "<matplotlib.legend.Legend at 0x118512550>"
      ]
     },
     "execution_count": 161,
     "metadata": {},
     "output_type": "execute_result"
    },
    {
     "data": {
      "image/png": "[encoded data removed]",
      "text/plain": [
       "<matplotlib.figure.Figure at 0x1184e8b70>"
      ]
     },
     "metadata": {},
     "output_type": "display_data"
    }
   ],
   "source": [
    "for label, c in zip(label_list, colors):\n",
    "    cur_df = df_body[df_body['kmean_label_2'] == label]\n",
    "    plt.scatter(cur_df['height_in'] ,cur_df['weight'], label='label #{}'.format(label), c=c, alpha=0.2)\n",
    "plt.legend(loc='best')"
   ]
  },
  {
   "cell_type": "markdown",
   "metadata": {
    "collapsed": true
   },
   "source": [
    "<a id=\"hier\"></a>\n",
    "## Hierarchical Clustering"
   ]
  },
  {
   "cell_type": "code",
   "execution_count": 1,
   "metadata": {
    "collapsed": false
   },
   "outputs": [
    {
     "ename": "NameError",
     "evalue": "name 'df_X' is not defined",
     "output_type": "error",
     "traceback": [
      "\u001b[0;31m---------------------------------------------------------------------------\u001b[0m",
      "\u001b[0;31mNameError\u001b[0m                                 Traceback (most recent call last)",
      "\u001b[0;32m<ipython-input-1-e7f20983dd3e>\u001b[0m in \u001b[0;36m<module>\u001b[0;34m()\u001b[0m\n\u001b[0;32m----> 1\u001b[0;31m \u001b[0mdf_X\u001b[0m\u001b[0;34m\u001b[0m\u001b[0m\n\u001b[0m",
      "\u001b[0;31mNameError\u001b[0m: name 'df_X' is not defined"
     ]
    }
   ],
   "source": [
    "df_X"
   ]
  },
  {
   "cell_type": "code",
   "execution_count": null,
   "metadata": {
    "collapsed": true
   },
   "outputs": [],
   "source": []
  }
 ],
 "metadata": {
  "anaconda-cloud": {},
  "kernelspec": {
   "display_name": "Python [conda root]",
   "language": "python",
   "name": "conda-root-py"
  },
  "language_info": {
   "codemirror_mode": {
    "name": "ipython",
    "version": 3
   },
   "file_extension": ".py",
   "mimetype": "text/x-python",
   "name": "python",
   "nbconvert_exporter": "python",
   "pygments_lexer": "ipython3",
   "version": "3.5.2"
  }
 },
 "nbformat": 4,
 "nbformat_minor": 1
}
