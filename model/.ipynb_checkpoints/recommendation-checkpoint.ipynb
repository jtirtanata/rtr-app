{
 "cells": [
  {
   "cell_type": "markdown",
   "metadata": {},
   "source": [
    "## Recommendation App\n",
    "- [Importing libraries](#import)\n",
    "- [Fetching data frames and models](#fetching)\n",
    "### [Normalization](#norm)\n",
    "### [Recommendation walkthrough](#walkthrough)\n",
    "- [finding cluster function](#findingCluster)\n",
    "- [combining features](#combination)"
   ]
  },
  {
   "cell_type": "markdown",
   "metadata": {},
   "source": [
    "<a id=\"import\"></a>\n",
    "### Imports"
   ]
  },
  {
   "cell_type": "code",
   "execution_count": 104,
   "metadata": {
    "collapsed": true
   },
   "outputs": [],
   "source": [
    "import pandas as pd\n",
    "import pickle\n",
    "import numpy as np\n",
    "from sklearn.metrics import pairwise_distances\n",
    "\n",
    "from pymongo import MongoClient"
   ]
  },
  {
   "cell_type": "code",
   "execution_count": 105,
   "metadata": {
    "collapsed": true
   },
   "outputs": [],
   "source": [
    "client = MongoClient('ec2-34-198-179-91.compute-1.amazonaws.com', 27017)\n",
    "db = client.fletcher\n",
    "dress_col = db.rtr_dresses\n",
    "cur_dress = dress_col.find()"
   ]
  },
  {
   "cell_type": "markdown",
   "metadata": {},
   "source": [
    "<a id=\"fetching\"></a>\n",
    "### Fetching the related data frames and models"
   ]
  },
  {
   "cell_type": "code",
   "execution_count": 3,
   "metadata": {
    "collapsed": false
   },
   "outputs": [],
   "source": [
    "df_general = pd.read_csv('../data/dress_features.csv', index_col=0)"
   ]
  },
  {
   "cell_type": "code",
   "execution_count": 78,
   "metadata": {
    "collapsed": true
   },
   "outputs": [],
   "source": [
    "df_body = pd.read_csv('../data/dress_features_bt.csv', index_col=0)"
   ]
  },
  {
   "cell_type": "markdown",
   "metadata": {},
   "source": [
    "<a id=\"norm\"></a>\n",
    "### Normalization\n",
    "- Normalizing df_body is not needed. We need to simply list the dresses in order of the score.\n",
    "- For df_general, we need to normalize it per column. Make all columns go from 0 to 1."
   ]
  },
  {
   "cell_type": "code",
   "execution_count": 16,
   "metadata": {
    "collapsed": true
   },
   "outputs": [],
   "source": [
    "def normalize(df):\n",
    "    mapping = {}\n",
    "    df_norm = df.copy()\n",
    "    for col in df.columns:\n",
    "        max = df[col].max()\n",
    "        min = df[col].min()\n",
    "        col_range = max - min\n",
    "        df_norm[col] = (df[col] - min) / col_range\n",
    "        mapping[col] = {'min' : min, 'col_range' : col_range}\n",
    "    return df_norm, mapping"
   ]
  },
  {
   "cell_type": "code",
   "execution_count": 17,
   "metadata": {
    "collapsed": false
   },
   "outputs": [],
   "source": [
    "df_norm, mapping = normalize(df_general)"
   ]
  },
  {
   "cell_type": "code",
   "execution_count": 19,
   "metadata": {
    "collapsed": false
   },
   "outputs": [
    {
     "data": {
      "text/html": [
       "<div>\n",
       "<table border=\"1\" class=\"dataframe\">\n",
       "  <thead>\n",
       "    <tr style=\"text-align: right;\">\n",
       "      <th></th>\n",
       "      <th>back</th>\n",
       "      <th>bra</th>\n",
       "      <th>color</th>\n",
       "      <th>material</th>\n",
       "      <th>sequins_polar</th>\n",
       "      <th>sequins_unpolar</th>\n",
       "      <th>wedding</th>\n",
       "      <th>pockets</th>\n",
       "    </tr>\n",
       "    <tr>\n",
       "      <th>url</th>\n",
       "      <th></th>\n",
       "      <th></th>\n",
       "      <th></th>\n",
       "      <th></th>\n",
       "      <th></th>\n",
       "      <th></th>\n",
       "      <th></th>\n",
       "      <th></th>\n",
       "    </tr>\n",
       "  </thead>\n",
       "  <tbody>\n",
       "    <tr>\n",
       "      <th>https://www.renttherunway.com/shop/designers/alexis/red_leona_dress</th>\n",
       "      <td>0.490403</td>\n",
       "      <td>0.367929</td>\n",
       "      <td>0.681637</td>\n",
       "      <td>0.397041</td>\n",
       "      <td>0.265116</td>\n",
       "      <td>0.015512</td>\n",
       "      <td>0.297983</td>\n",
       "      <td>0.000096</td>\n",
       "    </tr>\n",
       "    <tr>\n",
       "      <th>https://www.renttherunway.com/shop/designers/allison_parris/cobalt_marilyn_gown</th>\n",
       "      <td>0.580244</td>\n",
       "      <td>0.270334</td>\n",
       "      <td>0.574516</td>\n",
       "      <td>0.361258</td>\n",
       "      <td>0.381998</td>\n",
       "      <td>0.012793</td>\n",
       "      <td>0.596208</td>\n",
       "      <td>0.464545</td>\n",
       "    </tr>\n",
       "    <tr>\n",
       "      <th>https://www.renttherunway.com/shop/designers/badgley_mischka/award_winner_gown</th>\n",
       "      <td>0.611154</td>\n",
       "      <td>0.350834</td>\n",
       "      <td>0.596360</td>\n",
       "      <td>0.329520</td>\n",
       "      <td>0.310286</td>\n",
       "      <td>0.281476</td>\n",
       "      <td>0.302956</td>\n",
       "      <td>0.000126</td>\n",
       "    </tr>\n",
       "    <tr>\n",
       "      <th>https://www.renttherunway.com/shop/designers/badgley_mischka/curves_for_days_gown</th>\n",
       "      <td>0.525334</td>\n",
       "      <td>0.389743</td>\n",
       "      <td>0.539367</td>\n",
       "      <td>0.338634</td>\n",
       "      <td>0.459688</td>\n",
       "      <td>0.000890</td>\n",
       "      <td>0.351250</td>\n",
       "      <td>0.000076</td>\n",
       "    </tr>\n",
       "    <tr>\n",
       "      <th>https://www.renttherunway.com/shop/designers/badgley_mischka/evergreen_sequin_dress</th>\n",
       "      <td>0.567095</td>\n",
       "      <td>0.497440</td>\n",
       "      <td>0.644953</td>\n",
       "      <td>0.284895</td>\n",
       "      <td>0.350572</td>\n",
       "      <td>0.575796</td>\n",
       "      <td>0.097662</td>\n",
       "      <td>0.000775</td>\n",
       "    </tr>\n",
       "    <tr>\n",
       "      <th>https://www.renttherunway.com/shop/designers/badgley_mischka/fifth_avenue_showstopper_dress</th>\n",
       "      <td>0.494343</td>\n",
       "      <td>0.439424</td>\n",
       "      <td>0.560989</td>\n",
       "      <td>0.302429</td>\n",
       "      <td>0.319496</td>\n",
       "      <td>0.471619</td>\n",
       "      <td>0.296763</td>\n",
       "      <td>0.003644</td>\n",
       "    </tr>\n",
       "    <tr>\n",
       "      <th>https://www.renttherunway.com/shop/designers/badgley_mischka/forbidden_territory_gown</th>\n",
       "      <td>0.559083</td>\n",
       "      <td>0.483927</td>\n",
       "      <td>0.325848</td>\n",
       "      <td>0.297377</td>\n",
       "      <td>0.413565</td>\n",
       "      <td>0.030063</td>\n",
       "      <td>0.238648</td>\n",
       "      <td>0.000727</td>\n",
       "    </tr>\n",
       "    <tr>\n",
       "      <th>https://www.renttherunway.com/shop/designers/badgley_mischka/garden_of_sequins_dress</th>\n",
       "      <td>0.465413</td>\n",
       "      <td>0.404489</td>\n",
       "      <td>0.571204</td>\n",
       "      <td>0.421545</td>\n",
       "      <td>0.238415</td>\n",
       "      <td>0.346876</td>\n",
       "      <td>0.423181</td>\n",
       "      <td>0.000011</td>\n",
       "    </tr>\n",
       "    <tr>\n",
       "      <th>https://www.renttherunway.com/shop/designers/badgley_mischka/glitz_gown</th>\n",
       "      <td>0.489033</td>\n",
       "      <td>0.428355</td>\n",
       "      <td>0.580295</td>\n",
       "      <td>0.264312</td>\n",
       "      <td>0.316740</td>\n",
       "      <td>0.301871</td>\n",
       "      <td>0.237510</td>\n",
       "      <td>0.001017</td>\n",
       "    </tr>\n",
       "    <tr>\n",
       "      <th>https://www.renttherunway.com/shop/designers/badgley_mischka/ivy_gown</th>\n",
       "      <td>0.419384</td>\n",
       "      <td>0.496229</td>\n",
       "      <td>0.648871</td>\n",
       "      <td>0.363530</td>\n",
       "      <td>0.296689</td>\n",
       "      <td>0.562428</td>\n",
       "      <td>0.345795</td>\n",
       "      <td>0.000240</td>\n",
       "    </tr>\n",
       "  </tbody>\n",
       "</table>\n",
       "</div>"
      ],
      "text/plain": [
       "                                                        back       bra  \\\n",
       "url                                                                      \n",
       "https://www.renttherunway.com/shop/designers/al...  0.490403  0.367929   \n",
       "https://www.renttherunway.com/shop/designers/al...  0.580244  0.270334   \n",
       "https://www.renttherunway.com/shop/designers/ba...  0.611154  0.350834   \n",
       "https://www.renttherunway.com/shop/designers/ba...  0.525334  0.389743   \n",
       "https://www.renttherunway.com/shop/designers/ba...  0.567095  0.497440   \n",
       "https://www.renttherunway.com/shop/designers/ba...  0.494343  0.439424   \n",
       "https://www.renttherunway.com/shop/designers/ba...  0.559083  0.483927   \n",
       "https://www.renttherunway.com/shop/designers/ba...  0.465413  0.404489   \n",
       "https://www.renttherunway.com/shop/designers/ba...  0.489033  0.428355   \n",
       "https://www.renttherunway.com/shop/designers/ba...  0.419384  0.496229   \n",
       "\n",
       "                                                       color  material  \\\n",
       "url                                                                      \n",
       "https://www.renttherunway.com/shop/designers/al...  0.681637  0.397041   \n",
       "https://www.renttherunway.com/shop/designers/al...  0.574516  0.361258   \n",
       "https://www.renttherunway.com/shop/designers/ba...  0.596360  0.329520   \n",
       "https://www.renttherunway.com/shop/designers/ba...  0.539367  0.338634   \n",
       "https://www.renttherunway.com/shop/designers/ba...  0.644953  0.284895   \n",
       "https://www.renttherunway.com/shop/designers/ba...  0.560989  0.302429   \n",
       "https://www.renttherunway.com/shop/designers/ba...  0.325848  0.297377   \n",
       "https://www.renttherunway.com/shop/designers/ba...  0.571204  0.421545   \n",
       "https://www.renttherunway.com/shop/designers/ba...  0.580295  0.264312   \n",
       "https://www.renttherunway.com/shop/designers/ba...  0.648871  0.363530   \n",
       "\n",
       "                                                    sequins_polar  \\\n",
       "url                                                                 \n",
       "https://www.renttherunway.com/shop/designers/al...       0.265116   \n",
       "https://www.renttherunway.com/shop/designers/al...       0.381998   \n",
       "https://www.renttherunway.com/shop/designers/ba...       0.310286   \n",
       "https://www.renttherunway.com/shop/designers/ba...       0.459688   \n",
       "https://www.renttherunway.com/shop/designers/ba...       0.350572   \n",
       "https://www.renttherunway.com/shop/designers/ba...       0.319496   \n",
       "https://www.renttherunway.com/shop/designers/ba...       0.413565   \n",
       "https://www.renttherunway.com/shop/designers/ba...       0.238415   \n",
       "https://www.renttherunway.com/shop/designers/ba...       0.316740   \n",
       "https://www.renttherunway.com/shop/designers/ba...       0.296689   \n",
       "\n",
       "                                                    sequins_unpolar   wedding  \\\n",
       "url                                                                             \n",
       "https://www.renttherunway.com/shop/designers/al...         0.015512  0.297983   \n",
       "https://www.renttherunway.com/shop/designers/al...         0.012793  0.596208   \n",
       "https://www.renttherunway.com/shop/designers/ba...         0.281476  0.302956   \n",
       "https://www.renttherunway.com/shop/designers/ba...         0.000890  0.351250   \n",
       "https://www.renttherunway.com/shop/designers/ba...         0.575796  0.097662   \n",
       "https://www.renttherunway.com/shop/designers/ba...         0.471619  0.296763   \n",
       "https://www.renttherunway.com/shop/designers/ba...         0.030063  0.238648   \n",
       "https://www.renttherunway.com/shop/designers/ba...         0.346876  0.423181   \n",
       "https://www.renttherunway.com/shop/designers/ba...         0.301871  0.237510   \n",
       "https://www.renttherunway.com/shop/designers/ba...         0.562428  0.345795   \n",
       "\n",
       "                                                     pockets  \n",
       "url                                                           \n",
       "https://www.renttherunway.com/shop/designers/al...  0.000096  \n",
       "https://www.renttherunway.com/shop/designers/al...  0.464545  \n",
       "https://www.renttherunway.com/shop/designers/ba...  0.000126  \n",
       "https://www.renttherunway.com/shop/designers/ba...  0.000076  \n",
       "https://www.renttherunway.com/shop/designers/ba...  0.000775  \n",
       "https://www.renttherunway.com/shop/designers/ba...  0.003644  \n",
       "https://www.renttherunway.com/shop/designers/ba...  0.000727  \n",
       "https://www.renttherunway.com/shop/designers/ba...  0.000011  \n",
       "https://www.renttherunway.com/shop/designers/ba...  0.001017  \n",
       "https://www.renttherunway.com/shop/designers/ba...  0.000240  "
      ]
     },
     "execution_count": 19,
     "metadata": {},
     "output_type": "execute_result"
    }
   ],
   "source": [
    "df_norm.head(10)"
   ]
  },
  {
   "cell_type": "code",
   "execution_count": 20,
   "metadata": {
    "collapsed": false
   },
   "outputs": [
    {
     "data": {
      "text/plain": [
       "{'back': {'col_range': 0.89583333333333337, 'min': -0.39583333333333337},\n",
       " 'bra': {'col_range': 0.42010582010582009, 'min': 0.0},\n",
       " 'color': {'col_range': 0.80833333333333346, 'min': -0.083333333333333329},\n",
       " 'material': {'col_range': 0.99041666666666661, 'min': -0.07166666666666667},\n",
       " 'pockets': {'col_range': 0.027574314277116586, 'min': 0.0},\n",
       " 'sequins_polar': {'col_range': 0.7414783950617283,\n",
       "  'min': -0.15131172839506174},\n",
       " 'sequins_unpolar': {'col_range': 0.013589843511914119, 'min': 0.0},\n",
       " 'wedding': {'col_range': 0.010429103797054551, 'min': 0.00012572456065779416}}"
      ]
     },
     "execution_count": 20,
     "metadata": {},
     "output_type": "execute_result"
    }
   ],
   "source": [
    "mapping"
   ]
  },
  {
   "cell_type": "markdown",
   "metadata": {},
   "source": [
    "<a id='walkthrough'></a>\n",
    "## Recommendation Walkthrough\n",
    "1. User inputs body information.\n",
    "2. Assign user to a cluster.\n",
    "3. Ranks dress from 1 to 10.\n",
    "4. Get user's preferences.\n",
    "5. Take the columns that users care about, and assign 1. "
   ]
  },
  {
   "cell_type": "code",
   "execution_count": 27,
   "metadata": {
    "collapsed": false
   },
   "outputs": [],
   "source": [
    "cluster_model = pickle.load(open('../tools/clustering_model.sav', 'rb'))\n",
    "cluster_mapping = pickle.load(open('../data/cluster_mapping.pkl', 'rb'))"
   ]
  },
  {
   "cell_type": "code",
   "execution_count": 83,
   "metadata": {
    "collapsed": false
   },
   "outputs": [],
   "source": [
    "df_body = df_body.replace(np.nan, 0)"
   ]
  },
  {
   "cell_type": "markdown",
   "metadata": {},
   "source": [
    "<a id=\"findingCluster\"></a>\n",
    "#### Finding cluster"
   ]
  },
  {
   "cell_type": "code",
   "execution_count": 51,
   "metadata": {
    "collapsed": false
   },
   "outputs": [],
   "source": [
    "num_cols = ['age', 'usually_wears', 'pregnant', 'weight', 'upper_bust', 'under_bust', 'height_in']\n",
    "def cluster(age=None, usually_wears=None, pregnant=None, weight=None, upper_bust=None, under_bust=None, height=None, body_type=None):\n",
    "    body_info = np.array([age, usually_wears, pregnant, weight, upper_bust, under_bust, height])\n",
    "    norm_vals = []\n",
    "    for col, val in zip(num_cols, body_info):\n",
    "        mapping = cluster_mapping[col]\n",
    "        if not val:\n",
    "            normed = 0.5\n",
    "        else:\n",
    "            normed = (val - mapping['min'] ) / mapping['col_range']\n",
    "        if 'weight' in mapping:\n",
    "            normed = normed * mapping['weight']\n",
    "        norm_vals.append(normed)\n",
    "    \n",
    "    body_type_array = np.zeros(6) \n",
    "    if body_type >= 0:\n",
    "        body_type_array[body_type] = 1\n",
    "    input = np.append(norm_vals, body_type_array)\n",
    "    return cluster_model.predict(input)[0]"
   ]
  },
  {
   "cell_type": "markdown",
   "metadata": {},
   "source": [
    "<a id=\"combination\"></a>\n",
    "#### Combining general and body specific recommender"
   ]
  },
  {
   "cell_type": "code",
   "execution_count": 79,
   "metadata": {
    "collapsed": false
   },
   "outputs": [],
   "source": [
    "def get_dress_weights(cluster):  \n",
    "    return df_body[df_body.index==cluster].transpose().sort_values(by=cluster,ascending=False)\n",
    "    "
   ]
  },
  {
   "cell_type": "code",
   "execution_count": 117,
   "metadata": {
    "collapsed": false
   },
   "outputs": [],
   "source": [
    "def get_general_df(df, columns):\n",
    "    cur_df = df.iloc[:, columns]\n",
    "    cur_df['dist'] = pairwise_distances(cur_df, [1] * len(columns))\n",
    "    return cur_df "
   ]
  },
  {
   "cell_type": "code",
   "execution_count": 111,
   "metadata": {
    "collapsed": false
   },
   "outputs": [],
   "source": [
    "def get_recommendations(cluster, columns, n):\n",
    "    df_cur = get_dress_weights(cluster)\n",
    "    df_gen = get_general_df(df_norm, columns)\n",
    "    main_df = df_cur.join(df_gen)\n",
    "    main_df['total'] = main_df['dist'] * main_df[cluster]\n",
    "    \n",
    "    rec = []\n",
    "    for url in main_df.sort_values('total', ascending=False).head(n).index:\n",
    "        dress = dress_col.find_one({'url': url})\n",
    "        rec.append((dress['dress_name'], dress['designer_name'], dress['img_link']))\n",
    "    return rec"
   ]
  },
  {
   "cell_type": "code",
   "execution_count": 121,
   "metadata": {
    "collapsed": false
   },
   "outputs": [],
   "source": [
    "df_norm.to_csv('../data/dress_features_norm.csv')"
   ]
  },
  {
   "cell_type": "code",
   "execution_count": 127,
   "metadata": {
    "collapsed": false
   },
   "outputs": [],
   "source": [
    "pickle.dump(df_norm.columns, open('../data/pref_columns.pkl', 'wb'))"
   ]
  },
  {
   "cell_type": "code",
   "execution_count": null,
   "metadata": {
    "collapsed": true
   },
   "outputs": [],
   "source": []
  }
 ],
 "metadata": {
  "anaconda-cloud": {},
  "kernelspec": {
   "display_name": "Python [default]",
   "language": "python",
   "name": "python3"
  },
  "language_info": {
   "codemirror_mode": {
    "name": "ipython",
    "version": 3
   },
   "file_extension": ".py",
   "mimetype": "text/x-python",
   "name": "python",
   "nbconvert_exporter": "python",
   "pygments_lexer": "ipython3",
   "version": "3.5.2"
  }
 },
 "nbformat": 4,
 "nbformat_minor": 1
}
