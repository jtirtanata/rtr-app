{
 "cells": [
  {
   "cell_type": "markdown",
   "metadata": {},
   "source": [
    "## Topic Modelling \n",
    "- [helper functions](#helperFunctions)\n",
    "\n",
    "### [Sentence Tokenizing](#sentTokenizing)\n",
    "\n",
    "### [Cleaning](#cleaning)\n",
    "\n",
    "### [NMF](#nmf)\n",
    "- [5 topics](#nmf-5topics)\n",
    "    - [topic breakdown](#topicBreakdown1)\n",
    "- [4 topics](#nmf-4topics)\n",
    "    - [topic breakdown](#topicBreakdown2)\n",
    "    \n",
    "### [NMF With Nouns](#nmfNouns)\n",
    "- [model 1](#nmfNouns1)\n",
    "    - [topic analysis](#nouns-ta)\n",
    "\n",
    "### [Polarized topics](#polarized)\n",
    "- \n",
    "### [Unpolarized topics](#unpolarized)\n",
    "- "
   ]
  },
  {
   "cell_type": "code",
   "execution_count": 10,
   "metadata": {
    "collapsed": false
   },
   "outputs": [],
   "source": [
    "from sklearn.decomposition import PCA\n",
    "from sklearn import metrics\n",
    "from sklearn.metrics import pairwise_distances\n",
    "from sklearn.metrics import silhouette_score\n",
    "from sklearn.preprocessing import scale\n",
    "from sklearn.datasets import fetch_mldata\n",
    "from sklearn.cluster import KMeans\n",
    "from sklearn.utils import shuffle\n",
    "from nltk.corpus import stopwords\n",
    "from nltk.tokenize import sent_tokenize\n",
    "from pymongo import MongoClient\n",
    "import pandas as pd\n",
    "import numpy as np\n",
    "from seaborn import plt\n",
    "import matplotlib.pyplot as mplt\n",
    "%matplotlib inline\n",
    "from sklearn.feature_extraction.text import TfidfVectorizer, CountVectorizer\n",
    "from sklearn.decomposition import NMF, LatentDirichletAllocation\n",
    "import time\n",
    "import nltk\n",
    "from nltk import word_tokenize"
   ]
  },
  {
   "cell_type": "code",
   "execution_count": 2,
   "metadata": {
    "collapsed": true
   },
   "outputs": [],
   "source": [
    "client = MongoClient('ec2-34-198-179-91.compute-1.amazonaws.com', 27017)\n",
    "db = client.fletcher\n",
    "dress_col = db.rtr_dresses\n",
    "rev_col = db.rtr_reviews"
   ]
  },
  {
   "cell_type": "code",
   "execution_count": 3,
   "metadata": {
    "collapsed": true
   },
   "outputs": [],
   "source": [
    "cur = rev_col.find({}, {\"review\":1, \"title\":1,\"_id\":0})\n",
    "rev_df = pd.DataFrame(list(cur))"
   ]
  },
  {
   "cell_type": "code",
   "execution_count": 4,
   "metadata": {
    "collapsed": false
   },
   "outputs": [
    {
     "data": {
      "text/plain": [
       "Index(['review', 'title'], dtype='object')"
      ]
     },
     "execution_count": 4,
     "metadata": {},
     "output_type": "execute_result"
    }
   ],
   "source": [
    "rev_df.columns"
   ]
  },
  {
   "cell_type": "markdown",
   "metadata": {},
   "source": [
    "<a id=\"helperFunctions\"></a>\n",
    "## Helper Functions"
   ]
  },
  {
   "cell_type": "code",
   "execution_count": 125,
   "metadata": {
    "collapsed": false
   },
   "outputs": [],
   "source": [
    "def print_top_words(model, feature_names, n_top_words):\n",
    "    for topic_idx, topic in enumerate(model.components_):\n",
    "        print(\"Topic #%d:\" % topic_idx)\n",
    "        print(\", \".join(sorted(list(zip(feature_names, topic))), key=lambda x:x[0], reverse=True)[:n_top_words])\n",
    "    print()"
   ]
  },
  {
   "cell_type": "code",
   "execution_count": 6,
   "metadata": {
    "collapsed": false
   },
   "outputs": [],
   "source": [
    "def get_tfidf_and_tf(text, stopwords, max_df=0.90, min_df=0.001, ngram=(2,2), vocab=None):\n",
    "    tfidf_vectorizer = TfidfVectorizer(max_df=max_df, min_df=min_df,\n",
    "                                       ngram_range=ngram,\n",
    "                                       stop_words=sw, vocabulary = vocab)\n",
    "    t0 = time.time()\n",
    "    tfidf = tfidf_vectorizer.fit_transform(text)\n",
    "    print(\"done in %0.3fs.\" % (time.time() - t0))\n",
    "\n",
    "    # Use tf (raw term count) features for LDA.\n",
    "    print(\"Extracting tf features for LDA...\")\n",
    "    tf_vectorizer = CountVectorizer(max_df=max_df, min_df=min_df,\n",
    "                                    ngram_range=ngram,\n",
    "                                    stop_words=sw)\n",
    "    t0 = time.time()\n",
    "    tf = tf_vectorizer.fit_transform(text)\n",
    "    print(\"done in %0.3fs.\" % (time.time() - t0))\n",
    "    return tfidf, tfidf_vectorizer, tf, tf_vectorizer"
   ]
  },
  {
   "cell_type": "markdown",
   "metadata": {},
   "source": [
    "<a id=\"sentTokenizing\"></a>\n",
    "## Sentence Tokenization"
   ]
  },
  {
   "cell_type": "code",
   "execution_count": 8,
   "metadata": {
    "collapsed": false
   },
   "outputs": [],
   "source": [
    "sentences = rev_df.review.apply(sent_tokenize)"
   ]
  },
  {
   "cell_type": "code",
   "execution_count": 9,
   "metadata": {
    "collapsed": false
   },
   "outputs": [],
   "source": [
    "df_sent = pd.concat([pd.DataFrame({'review': x, 'index': i}) for i,x in enumerate(sentences)], ignore_index=True)"
   ]
  },
  {
   "cell_type": "markdown",
   "metadata": {},
   "source": [
    "<a id=\"cleaning\"></a>\n",
    "## Cleaning"
   ]
  },
  {
   "cell_type": "code",
   "execution_count": 12,
   "metadata": {
    "collapsed": false
   },
   "outputs": [],
   "source": [
    "df_sent.review = df_sent.review.str.lower()\n",
    "df_sent.review = df_sent.review.str.replace(',', ' ')\n",
    "df_sent.review = df_sent.review.str.replace('.', ' ')"
   ]
  },
  {
   "cell_type": "markdown",
   "metadata": {},
   "source": [
    "<a id=\"nmf\"></a>\n",
    "## NMF"
   ]
  },
  {
   "cell_type": "code",
   "execution_count": 17,
   "metadata": {
    "collapsed": false
   },
   "outputs": [
    {
     "name": "stdout",
     "output_type": "stream",
     "text": [
      "done in 6.185s.\n",
      "Extracting tf features for LDA...\n",
      "done in 5.444s.\n"
     ]
    }
   ],
   "source": [
    "sw = stopwords.words('english')\n",
    "tfidf, tfidf_vectorizer, tf, tf_vectorizer = get_tfidf_and_tf(df_sent.review, sw, min_df=0, max_df=0.5, ngram=(1,2))"
   ]
  },
  {
   "cell_type": "markdown",
   "metadata": {},
   "source": [
    "<a id=\"nmf-5topics\"></a>\n",
    "### 5 Topics"
   ]
  },
  {
   "cell_type": "code",
   "execution_count": 18,
   "metadata": {
    "collapsed": false
   },
   "outputs": [
    {
     "name": "stdout",
     "output_type": "stream",
     "text": [
      "done in 26.115s.\n",
      "\n",
      "Topics in NMF model:\n",
      "Topic #0:\n",
      "loved, loved dress, dress, absolutely loved, absolutely, overall loved, overall, everyone loved, everyone, beautiful, loved loved, loved wearing, much, really loved, dress much, pockets, loved pockets, loved fit, really, love\n",
      "Topic #1:\n",
      "compliments, many compliments, many, received, got, received many, got many, night, compliments night, compliments dress, dress, tons, tons compliments, received compliments, got compliments, lots compliments, lots, night long, felt, got tons\n",
      "Topic #2:\n",
      "fit, perfect, dress, great, dress fit, fit perfectly, perfectly, fit great, comfortable, fit perfect, length, great dress, like, beautiful, fit like, glove, like glove, dress perfect, heels, well\n",
      "Topic #3:\n",
      "rent, would, definitely, recommend, would definitely, definitely rent, dress, would rent, highly, highly recommend, definitely recommend, recommend dress, rent dress, would recommend, would highly, dress would, wear, anyone, rtr, rent runway\n",
      "Topic #4:\n",
      "size, true size, true, fit true, fit, fits true, fits, runs, dress true, runs true, ordered, size fit, wear size, wear, dress fits, size comfortable, ran, usually, ran true, pretty true\n",
      "\n"
     ]
    }
   ],
   "source": [
    "n_topics = 5\n",
    "n_top_words = 20\n",
    "t0 = time.time()\n",
    "nmf = NMF(n_components=n_topics, random_state=1,\n",
    "          alpha=.1, l1_ratio=.5).fit(tfidf)\n",
    "print(\"done in %0.3fs.\" % (time.time() - t0))\n",
    "\n",
    "print(\"\\nTopics in NMF model:\")\n",
    "tfidf_feature_names = tfidf_vectorizer.get_feature_names()\n",
    "print_top_words(nmf, tfidf_feature_names, n_top_words)"
   ]
  },
  {
   "cell_type": "markdown",
   "metadata": {},
   "source": [
    "<a id=\"topicBreakdown1\"></a>\n",
    "### Topic breakdown\n",
    "1. Topic 0 = Loved the dress\n",
    "2. Topic 1 = Received a lot of compliments\n",
    "3. Topic 2 = Dress fits well\n",
    "4. Topic 3 = Would definitely rent again or recommend\n",
    "5. Topic 4 = True to size \n",
    "\n",
    "It looks like Topic 2 and 5 is similar. Will redo this with 4 topics. This can be used for what attributes the user love the dress in.\n"
   ]
  },
  {
   "cell_type": "markdown",
   "metadata": {},
   "source": [
    "<a id=\"nmf-4topics\"></a>\n",
    "### 4 Topics"
   ]
  },
  {
   "cell_type": "code",
   "execution_count": 20,
   "metadata": {
    "collapsed": false
   },
   "outputs": [
    {
     "name": "stdout",
     "output_type": "stream",
     "text": [
      "done in 21.987s.\n",
      "\n",
      "Topics in NMF model:\n",
      "Topic #0:\n",
      "loved, loved dress, dress, absolutely loved, absolutely, overall loved, overall, beautiful, everyone loved, everyone, loved loved, loved wearing, much, really loved, beautiful dress, dress much, love, amazing, pockets, really\n",
      "Topic #1:\n",
      "compliments, many compliments, many, received, got, received many, got many, night, compliments night, compliments dress, dress, tons, tons compliments, received compliments, got compliments, lots compliments, lots, night long, felt, got tons\n",
      "Topic #2:\n",
      "fit, size, perfect, dress, true, true size, great, dress fit, fit perfectly, perfectly, fit great, fit true, comfortable, fit perfect, length, like, glove, fit like, like glove, great dress\n",
      "Topic #3:\n",
      "rent, would, definitely, recommend, would definitely, definitely rent, dress, would rent, highly, highly recommend, definitely recommend, recommend dress, rent dress, would recommend, would highly, beautiful, dress would, wear, overall, love\n",
      "\n"
     ]
    }
   ],
   "source": [
    "# Fit the NMF model\n",
    "n_topics = 4\n",
    "t0 = time.time()\n",
    "nmf = NMF(n_components=n_topics, random_state=1, alpha=.1, l1_ratio=.5).fit(tfidf)\n",
    "print(\"done in %0.3fs.\" % (time.time() - t0))\n",
    "\n",
    "print(\"\\nTopics in NMF model:\")\n",
    "tfidf_feature_names = tfidf_vectorizer.get_feature_names()\n",
    "print_top_words(nmf, tfidf_feature_names, n_top_words)"
   ]
  },
  {
   "cell_type": "markdown",
   "metadata": {},
   "source": [
    "<a id=\"topicBreakdown2\"></a>\n",
    "### Topic breakdown\n",
    "1. Topic 0 = Loved the dress.\n",
    "2. Topic 1 = Received a lot of compliments.\n",
    "3. Topic 2 = Good fit, true to size. Flattering fit.\n",
    "4. Topic 3 = Would definitely rent again or recommend.\n"
   ]
  },
  {
   "cell_type": "markdown",
   "metadata": {},
   "source": [
    "<a id=\"nmfNouns\"></a>\n",
    "## NMF With Nouns"
   ]
  },
  {
   "cell_type": "code",
   "execution_count": 36,
   "metadata": {
    "collapsed": true
   },
   "outputs": [],
   "source": [
    "def noun(s):\n",
    "    return ' '.join([word[0] for word in nltk.pos_tag(s) if word[1] == 'NN' or word[1] == 'NNS'])"
   ]
  },
  {
   "cell_type": "code",
   "execution_count": null,
   "metadata": {
    "collapsed": true
   },
   "outputs": [],
   "source": [
    "word_tokens = df_sent.review.apply(nltk.word_tokenize)\n",
    "nouns = word_tokens.apply(noun)"
   ]
  },
  {
   "cell_type": "code",
   "execution_count": 116,
   "metadata": {
    "collapsed": false
   },
   "outputs": [],
   "source": [
    "nouns.to_csv('../data/nouns_per_sentence.csv')"
   ]
  },
  {
   "cell_type": "code",
   "execution_count": 118,
   "metadata": {
    "collapsed": false
   },
   "outputs": [],
   "source": [
    "df_sent['nouns'] = nouns"
   ]
  },
  {
   "cell_type": "markdown",
   "metadata": {},
   "source": [
    "<a id=\"nmfNouns1\"></a>\n",
    "### Max df = 0.5"
   ]
  },
  {
   "cell_type": "code",
   "execution_count": 48,
   "metadata": {
    "collapsed": false,
    "scrolled": true
   },
   "outputs": [
    {
     "name": "stdout",
     "output_type": "stream",
     "text": [
      "done in 3.566s.\n",
      "Extracting tf features for LDA...\n",
      "done in 2.988s.\n"
     ]
    }
   ],
   "source": [
    "tfidf, tfidf_vectorizer, tf, tf_vectorizer = get_tfidf_and_tf(df_sent.nouns, sw, min_df=0, max_df=0.5, ngram=(1, 3))"
   ]
  },
  {
   "cell_type": "code",
   "execution_count": 50,
   "metadata": {
    "collapsed": false
   },
   "outputs": [
    {
     "name": "stdout",
     "output_type": "stream",
     "text": [
      "done in 143.073s.\n",
      "\n",
      "Topics in NMF model:\n",
      "Topic #0:\n",
      "dress, dress compliments, dress dress, dress night, fit dress, heels dress, size dress, fun, dress length, party, dress event, dress wedding, dress bit, night dress, everything, bra dress, everyone, fun dress, dress occasion, dress heels\n",
      "Topic #1:\n",
      "size, size size, fit size, size fit, size dress, backup, fits size, fits, order size, backup size, order, size backup, size length, size dresses, dresses, reviews size, size bit, size reviews, size back, dress fit size\n",
      "Topic #2:\n",
      "fit, fit size, size fit, fit dress, fit glove, fit perfect, fit length, fit well, fit perfectly, well, fit bit, perfectly, length fit, medium fit, medium, fit great, fit bust, fit heels, color fit, fit waist\n",
      "Topic #3:\n",
      "compliments, compliments night, dress compliments, lot compliments, ton compliments, lot, ton, compliments evening, evening, dress compliments night, wedding compliments, strangers, dress lot compliments, dress lot, compliments night dress, compliments strangers, dress ton compliments, dress ton, fit compliments, compliments night long\n",
      "Topic #4:\n",
      "heels, length heels, heels dress, heels length, dress heels, floor, heels floor, ground, size heels, bit heels, heels ground, dress floor, heels heels, fit heels, inches, heels dress floor, floor heels, height, heels size, heels inches\n",
      "Topic #5:\n",
      "night, compliments night, dress night, night dress, dress compliments night, night long, long, compliments night dress, tons compliments night, compliments night long, compliments dress night, end night, lots compliments night, end, complements night, complements, people, people night, fit night, bra night\n",
      "Topic #6:\n",
      "length, length heels, heels length, dress length, length dress, size length, fit length, length inch, length inch heels, flats, inch heels length, length fit, heel, length flats, length heel, knee, length height, length bit, flats length, length length\n",
      "Topic #7:\n",
      "bra, bra dress, dress bra, strapless, strapless bra, bra bra, backless, backless bra, back bra, bra back, straps, bra straps, need, cut, need bra, spanx, cut bra, size bra, bust bra, bra plus\n",
      "Topic #8:\n",
      "bit, dress bit, size bit, fit bit, bit heels, bit size, arms, bit dress, arms bit, bit stretch, sleeves, top, sleeves bit, zipper, sequins bit, stretch, bit arms, length bit, bit bust, zipper bit\n",
      "Topic #9:\n",
      "rtr, time, time rtr, dress rtr, rtr dress, experience rtr, rtr experience, dresses, service, dress time, rental, wait, order, customer, wait rtr, rtr future, rental rtr, rtr dresses, dresses rtr, future\n",
      "Topic #10:\n",
      "material, dress material, material dress, quality, stretch, stretchy, material size, material night, quality material, material quality, fit material, material bit, material stretch, material stretchy, material fit, material curves, stretch material, curves, stretchy material, color material\n",
      "Topic #11:\n",
      "glove, fit glove, dress fit glove, dress glove, fits, fits glove, size fit glove, size glove, glove compliments, glove size, size fit, glove curves, fit glove compliments, curves, glove night, glove length, fits size, glove compliments night, dress fits, dress fits glove\n",
      "Topic #12:\n",
      "wedding, dress wedding, tie, tie wedding, dress tie, dress tie wedding, wedding compliments, wedding dress, fall, fall wedding, winter wedding, winter, friend wedding, summer, friend, tie wedding compliments, summer wedding, dress fall, compliments wedding, dress fall wedding\n",
      "Topic #13:\n",
      "color, dress color, gold, color dress, color gold, color fit, person, color fabric, color person, gold color, fit color, cut, color cut, champagne, picture, compliments color, color picture, color material, color style, style\n",
      "Topic #14:\n",
      "event, dress event, event dress, tie event, tie, work, work event, dress tie event, dress tie, charity event, charity, days event, perfect event, time, day event, day, winter event, days, compliments event, size event\n",
      "Topic #15:\n",
      "sequins, arms, sequins arms, dress sequins, sequins dress, hair, arms sequins, sequins bit, scratchy, hair sequins, itchy, arms bit, sequins scratchy, arm, sleeves, skin, sequins arm, arms dress, sequins skin, sequins hair\n",
      "Topic #16:\n",
      "pockets, dress pockets, pockets dress, bonus, pockets bonus, pockets plus, plus, part, phone, part pockets, skirt, pockets phone, skirt pockets, fit pockets, pockets touch, bra pockets, touch, night pockets, pockets part, material pockets\n",
      "Topic #17:\n",
      "back, back dress, dress back, size back, bra back, back bra, back size, front, zipper, train, front back, train back, back front, zipper back, bit back, fit back, dress back dress, part, cut, cut back\n",
      "Topic #18:\n",
      "inch, inch heels, heels, length inch, length inch heels, inch heels length, inch heels dress, heels length, heels dress, floor, inch heel, heel, dress inch, dress floor, dress inch heels, ground, heels dress floor, inch heels floor, inch heels ground, heels inch\n",
      "Topic #19:\n",
      "perfect, fit perfect, dress perfect, size perfect, dress fit perfect, perfect occasion, heels perfect, party, occasion, perfect event, perfect tie, perfect night, size fit perfect, perfect wedding, length perfect, perfect heels, party perfect, perfect tie wedding, perfect length, perfect winter\n",
      "Topic #20:\n",
      "dress fit, fit, dress, dress fit glove, fit glove, dress fit size, perfectly, fit perfectly, dress fit perfectly, fit size, dress fit well, fit well, well, dress fit great, fit great, great, dress fit perfect, fit perfect, dress fit length, size dress fit\n",
      "Topic #21:\n",
      "fabric, stretch, fabric stretch, dress fabric, fabric dress, stretch fabric, stretchy, fit fabric, color fabric, fabric bit, quality, give, fabric stretchy, stretchy fabric, lot, fabric night, fabric fit, fabric quality, fabric sequins, lot fabric\n",
      "Topic #22:\n",
      "tons, tons compliments, compliments, tons compliments night, tons compliments dress, dress tons, dress tons compliments, tons complements, complements, fit tons, fit tons compliments, night tons, night tons compliments, wedding tons, wedding tons compliments, tons compliments evening, tons tons, tons tons compliments, party tons, party tons compliments\n",
      "Topic #23:\n",
      "compliments dress, compliments, dress, compliments dress night, dress night, lot compliments dress, tons compliments dress, ton compliments dress, lots compliments dress, lot compliments, lot, ton compliments, ton, compliments dress evening, compliments dress wedding, dress evening, compliments dress people, compliments dress fit, dress compliments dress, dress people\n",
      "Topic #24:\n",
      "experience, rent, experience rtr, rtr experience, runway, rent runway, experience dress, dress experience, experience rent, experience rent runway, runway experience, rent runway experience, rent dress, experience wait, experience great, dress rtr experience, time rtr experience, dress experience rtr, dress rent, experience one\n",
      "Topic #25:\n",
      "dress size, size, dress, size dress, dress size size, size dress size, size size, dress size fit, size fit, reviews dress size, dress size dress, fit dress size, reviews dress, dress size length, fit dress, size length, backup, dress size bit, dress size heels, backup dress size\n",
      "Topic #26:\n",
      "way, dress way, way dress, size way, fit way, curves, curves way, length way, way heels, heels way, body, way dress fit, way way, body way, material way, way fit, bit way, zipper, way bust, way event\n",
      "Topic #27:\n",
      "bust, waist, area, bust size, size bust, dress bust, hips, fit bust, bust area, bit bust, bust bra, bust dress, bust waist, waist bust, bust fit, tight, bust bit, tight bust, room, room bust\n",
      "Topic #28:\n",
      "lots, lots compliments, compliments, lots compliments night, lots compliments dress, dress lots, dress lots compliments, lots complements, complements, fun, lots compliments evening, lots cleavage, lots compliments people, lots fun, color lots, lots stretch, lots lots, color lots compliments, lots lots compliments, wedding lots\n",
      "Topic #29:\n",
      "reviews, reviews dress, size reviews, reviews size, dress reviews, reviews length, reviews dress size, order, reviews order, reviews heels, reviews size size, glad, reviews fit, lot reviews, backup, sizes, glad reviews, reviews spot, fit reviews, size reviews dress\n",
      "\n"
     ]
    }
   ],
   "source": [
    "# Fit the NMF model\n",
    "n_topics = 30\n",
    "t0 = time.time()\n",
    "nmf = NMF(n_components=n_topics, random_state=1, alpha=.1, l1_ratio=.5).fit(tfidf)\n",
    "print(\"done in %0.3fs.\" % (time.time() - t0))\n",
    "\n",
    "print(\"\\nTopics in NMF model:\")\n",
    "tfidf_feature_names = tfidf_vectorizer.get_feature_names()\n",
    "print_top_words(nmf, tfidf_feature_names, n_top_words)"
   ]
  },
  {
   "cell_type": "markdown",
   "metadata": {},
   "source": [
    "<a id=\"nouns-ta\"></a>\n",
    "### Topic Analysis\n",
    "- Topic #0: Dress \n",
    "- Topic #1: Fit\n",
    "- Topic #2: Fit\n",
    "- Topic #3: Compliments\n",
    "- Topic #4: Length (+)\n",
    "- Topic #5: Night\n",
    "- Topic #6: Length \n",
    "- Topic #7: Bra (+)\n",
    "- Topic #8: Bit\n",
    "- Topic #9: RTR\n",
    "- Topic #10: Material (+)\n",
    "- Topic #11: Fit like a glove\n",
    "- Topic #12: Wedding (+)\n",
    "- Topic #13: Color (+)\n",
    "- Topic #14: Event (+)\n",
    "- Topic #15: Sequins (+)\n",
    "- Topic #16: Pockets (+)\n",
    "- Topic #17: Back (+)\n",
    "- Topic #18: Heels (+) (kind of related to length)\n",
    "- Topic #19: Perfect\n",
    "- Topic #20: Fit\n",
    "- Topic #21: Stretch (+)\n",
    "- Topic #22: Compliments \n",
    "- Topic #23: Compliments\n",
    "- Topic #24: RTR Experience\n",
    "- Topic #25: Dress size\n",
    "- Topic #26: Way\n",
    "- Topic #27: Bust area (+)\n",
    "- Topic #28: Lots\n",
    "- Topic #29: Reviews\n",
    "\n",
    "The ones with + are significant, and will be used as features of the dress"
   ]
  },
  {
   "cell_type": "code",
   "execution_count": 55,
   "metadata": {
    "collapsed": false
   },
   "outputs": [],
   "source": [
    "topic_prob = pd.DataFrame(nmf.transform(tfidf), columns=['topic_{}'.format(i) for i in range(30)])"
   ]
  },
  {
   "cell_type": "code",
   "execution_count": 57,
   "metadata": {
    "collapsed": false
   },
   "outputs": [],
   "source": [
    "good_cols = [4, 7, 10, 12, 13, 14, 15, 16, 17, 18, 21, 27]\n",
    "bad_cols = set(range(30)) - set(good_cols)"
   ]
  },
  {
   "cell_type": "code",
   "execution_count": 59,
   "metadata": {
    "collapsed": false
   },
   "outputs": [],
   "source": [
    "for col in bad_cols:\n",
    "    del topic_prob['topic_{}'.format(col)]"
   ]
  },
  {
   "cell_type": "code",
   "execution_count": 61,
   "metadata": {
    "collapsed": false
   },
   "outputs": [],
   "source": [
    "topic_prob.columns = ['length', 'bra', 'material', 'wedding', 'color', 'event', 'sequins', 'pockets', 'back', 'heels', 'stretch', 'bust_area']"
   ]
  },
  {
   "cell_type": "markdown",
   "metadata": {},
   "source": [
    "I have recognized 3 different group of categories.\n",
    "1. Body type related\n",
    "    - length\n",
    "    - stretch\n",
    "    - bust area\n",
    "2. General \n",
    "    - bra\n",
    "    - material\n",
    "    - wedding \n",
    "    - color \n",
    "    - event\n",
    "    - sequins \n",
    "    - pockets \n",
    "    - back\n",
    "    \n",
    "For the categories that are body type related, it will be scored per body type per dress. For general features, it will be scored per dress.\n",
    "\n",
    "\n",
    "For each category, there's also 3 ways we can \"score\" them\n",
    "1. Polarity (Good/bad)\n",
    "    - Body type related:\n",
    "        - length\n",
    "        - stretch \n",
    "        - bust area\n",
    "    - General\n",
    "        - material \n",
    "        - back \n",
    "        - sequins (itchy or not)\n",
    "        - bra\n",
    "        - color\n",
    "2. Sum (How much it's mentioned)\n",
    "    - sequins\n",
    "    - wedding \n",
    "    - pockets\n",
    "3. Categorical\n",
    "    - bra \n",
    "    - event \n",
    "    - color\n",
    "    \n",
    "\n",
    "\n",
    "    "
   ]
  },
  {
   "cell_type": "markdown",
   "metadata": {},
   "source": [
    "### Linking sentences to dress"
   ]
  },
  {
   "cell_type": "code",
   "execution_count": 149,
   "metadata": {
    "collapsed": true
   },
   "outputs": [],
   "source": [
    "url_cur = rev_col.find({}, {\"url\":1,\"_id\":0})"
   ]
  },
  {
   "cell_type": "code",
   "execution_count": 150,
   "metadata": {
    "collapsed": true
   },
   "outputs": [],
   "source": [
    "url_list = pd.DataFrame(list(url_cur))"
   ]
  },
  {
   "cell_type": "markdown",
   "metadata": {},
   "source": [
    "### Linking body types to comments"
   ]
  },
  {
   "cell_type": "code",
   "execution_count": 223,
   "metadata": {
    "collapsed": false
   },
   "outputs": [],
   "source": [
    "df_body = pd.read_csv('../data/measurement_data.csv', index_col=0)"
   ]
  },
  {
   "cell_type": "markdown",
   "metadata": {
    "collapsed": true
   },
   "source": [
    "<a id=\"polarized\"></a>\n",
    "### Polarized topics\n",
    "\n",
    "<a id=\"polarizedGeneral\"></a>\n",
    "#### General"
   ]
  },
  {
   "cell_type": "code",
   "execution_count": 144,
   "metadata": {
    "collapsed": false
   },
   "outputs": [],
   "source": [
    "from textblob import TextBlob\n",
    "def calc_polarity(s):\n",
    "    return TextBlob(s).sentiment[0]"
   ]
  },
  {
   "cell_type": "code",
   "execution_count": 145,
   "metadata": {
    "collapsed": false
   },
   "outputs": [],
   "source": [
    "polarity = df_sent.review.apply(calc_polarity)"
   ]
  },
  {
   "cell_type": "code",
   "execution_count": 172,
   "metadata": {
    "collapsed": false
   },
   "outputs": [],
   "source": [
    "topic_prob = topic_prob.join(polarity)\n",
    "topic_prob = topic_prob.join(df_sent['index'])\n",
    "topic_prob = topic_prob.join(url_list, on='index')"
   ]
  },
  {
   "cell_type": "code",
   "execution_count": 180,
   "metadata": {
    "collapsed": false
   },
   "outputs": [],
   "source": [
    "p_topics = ['bra', 'material', 'color', 'sequins', 'back']\n",
    "topic_prob['topic'] = topic_prob.idxmax(axis=1)"
   ]
  },
  {
   "cell_type": "code",
   "execution_count": 205,
   "metadata": {
    "collapsed": false
   },
   "outputs": [],
   "source": [
    "polar_general = topic_prob[topic_prob.topic.isin(p_topics)]"
   ]
  },
  {
   "cell_type": "code",
   "execution_count": 206,
   "metadata": {
    "collapsed": false
   },
   "outputs": [],
   "source": [
    "polar_general = pd.DataFrame(polar_general.groupby(['url', 'topic'], as_index=False)['review'].mean())"
   ]
  },
  {
   "cell_type": "code",
   "execution_count": 215,
   "metadata": {
    "collapsed": false
   },
   "outputs": [],
   "source": [
    "polar_general = polar_general.pivot('url', 'topic', 'review')"
   ]
  },
  {
   "cell_type": "markdown",
   "metadata": {},
   "source": [
    "<a id=\"polarizedBody\"></a>\n",
    "#### Body Type Specific\n"
   ]
  },
  {
   "cell_type": "code",
   "execution_count": 293,
   "metadata": {
    "collapsed": true
   },
   "outputs": [],
   "source": [
    "bt_topics = ['length', 'stretch', 'bust_area']"
   ]
  },
  {
   "cell_type": "code",
   "execution_count": 294,
   "metadata": {
    "collapsed": false
   },
   "outputs": [],
   "source": [
    "labeled_df = topic_prob.join(df_body)"
   ]
  },
  {
   "cell_type": "code",
   "execution_count": 295,
   "metadata": {
    "collapsed": true
   },
   "outputs": [],
   "source": [
    "labeled_df = labeled_df.dropna()"
   ]
  },
  {
   "cell_type": "code",
   "execution_count": 296,
   "metadata": {
    "collapsed": false
   },
   "outputs": [],
   "source": [
    "polar_bt = labeled_df[labeled_df[bt_topics].sum(axis=1) > 0]"
   ]
  },
  {
   "cell_type": "code",
   "execution_count": 297,
   "metadata": {
    "collapsed": false
   },
   "outputs": [
    {
     "name": "stderr",
     "output_type": "stream",
     "text": [
      "/Users/josephinetirtanata/anaconda/lib/python3.5/site-packages/ipykernel/__main__.py:1: SettingWithCopyWarning: \n",
      "A value is trying to be set on a copy of a slice from a DataFrame.\n",
      "Try using .loc[row_indexer,col_indexer] = value instead\n",
      "\n",
      "See the caveats in the documentation: http://pandas.pydata.org/pandas-docs/stable/indexing.html#indexing-view-versus-copy\n",
      "  if __name__ == '__main__':\n"
     ]
    }
   ],
   "source": [
    "polar_bt['topic'] = polar_bt[bt_topics].idxmax(axis=1)"
   ]
  },
  {
   "cell_type": "code",
   "execution_count": 302,
   "metadata": {
    "collapsed": false
   },
   "outputs": [],
   "source": [
    "polar_bt = polar_bt.groupby(['url', 'topic', 'kmean_label_2'], as_index=False)['review'].mean()"
   ]
  },
  {
   "cell_type": "markdown",
   "metadata": {},
   "source": [
    "<a id=\"unpolarized\"></a>\n",
    "#### Unpolarized topics"
   ]
  },
  {
   "cell_type": "code",
   "execution_count": 250,
   "metadata": {
    "collapsed": true
   },
   "outputs": [],
   "source": [
    "up_topics = ['sequins', 'wedding', 'pockets']\n"
   ]
  },
  {
   "cell_type": "code",
   "execution_count": 258,
   "metadata": {
    "collapsed": false
   },
   "outputs": [],
   "source": [
    "up_general = topic_prob.groupby('index', as_index=False)[up_topics].sum()"
   ]
  },
  {
   "cell_type": "code",
   "execution_count": 261,
   "metadata": {
    "collapsed": false
   },
   "outputs": [],
   "source": [
    "up_general = up_general.join(url_list)"
   ]
  },
  {
   "cell_type": "code",
   "execution_count": 264,
   "metadata": {
    "collapsed": false
   },
   "outputs": [],
   "source": [
    "up_general = up_general.groupby('url', as_index=False)[up_topics].mean()"
   ]
  },
  {
   "cell_type": "markdown",
   "metadata": {},
   "source": [
    "<a id=\"combining\"></a>\n",
    "### Combining Everything"
   ]
  },
  {
   "cell_type": "code",
   "execution_count": 305,
   "metadata": {
    "collapsed": false
   },
   "outputs": [],
   "source": [
    "df_general = polar_general.join(up_general.set_index('url'), lsuffix='_polar', rsuffix='_unpolar')"
   ]
  },
  {
   "cell_type": "code",
   "execution_count": 307,
   "metadata": {
    "collapsed": false
   },
   "outputs": [],
   "source": [
    "df_general = df_general.replace(np.nan, 0)"
   ]
  },
  {
   "cell_type": "markdown",
   "metadata": {},
   "source": [
    "#### Saving to CSV"
   ]
  },
  {
   "cell_type": "code",
   "execution_count": 308,
   "metadata": {
    "collapsed": true
   },
   "outputs": [],
   "source": [
    "df_general.to_csv('../data/dress_features.csv')"
   ]
  },
  {
   "cell_type": "code",
   "execution_count": 311,
   "metadata": {
    "collapsed": false
   },
   "outputs": [],
   "source": [
    "polar_bt.to_csv('../data/dress_features_bt.csv')"
   ]
  },
  {
   "cell_type": "markdown",
   "metadata": {},
   "source": [
    "## Thoughts \n",
    "- Select which topics are dress related vs people related.\n",
    "- Cluster on similar dresses by the dress features.\n",
    "- Rate people on how much they love the dress. If they love the dress, they will love similar dresses too.\n",
    "- If they input body data, recommend what people with the same body cluster love. "
   ]
  },
  {
   "cell_type": "code",
   "execution_count": null,
   "metadata": {
    "collapsed": true
   },
   "outputs": [],
   "source": []
  }
 ],
 "metadata": {
  "anaconda-cloud": {},
  "kernelspec": {
   "display_name": "Python [conda root]",
   "language": "python",
   "name": "conda-root-py"
  },
  "language_info": {
   "codemirror_mode": {
    "name": "ipython",
    "version": 3
   },
   "file_extension": ".py",
   "mimetype": "text/x-python",
   "name": "python",
   "nbconvert_exporter": "python",
   "pygments_lexer": "ipython3",
   "version": "3.5.2"
  }
 },
 "nbformat": 4,
 "nbformat_minor": 1
}
