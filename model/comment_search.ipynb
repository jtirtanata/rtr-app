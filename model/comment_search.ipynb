{
 "cells": [
  {
   "cell_type": "markdown",
   "metadata": {},
   "source": [
    "## Goal\n",
    "- I want to pull up the comments that relates to the user's preferences.\n",
    "- As an extension, I hope to highlight the words that relates to the topics."
   ]
  },
  {
   "cell_type": "code",
   "execution_count": 12,
   "metadata": {
    "collapsed": true
   },
   "outputs": [],
   "source": [
    "import pandas as pd\n",
    "import pickle\n",
    "import numpy as np\n",
    "from sklearn.metrics import pairwise_distances\n",
    "from pymongo import MongoClient\n"
   ]
  },
  {
   "cell_type": "code",
   "execution_count": 4,
   "metadata": {
    "collapsed": false
   },
   "outputs": [],
   "source": [
    "topic_prob = pd.read_csv('../data/topic_prob.csv', index_col=0)"
   ]
  },
  {
   "cell_type": "code",
   "execution_count": 9,
   "metadata": {
    "collapsed": false
   },
   "outputs": [],
   "source": [
    "topic_prob = topic_prob.groupby(['url', 'index'], as_index=False).sum()"
   ]
  },
  {
   "cell_type": "code",
   "execution_count": 17,
   "metadata": {
    "collapsed": false
   },
   "outputs": [],
   "source": [
    "client = MongoClient('ec2-34-198-179-91.compute-1.amazonaws.com', 27017)\n",
    "db = client.fletcher\n",
    "rev_col = db.rtr_reviews"
   ]
  },
  {
   "cell_type": "code",
   "execution_count": 18,
   "metadata": {
    "collapsed": false
   },
   "outputs": [],
   "source": [
    "df_rev = pd.DataFrame(list(rev_col.find({}, {'review': 1, '_id': 0} )))"
   ]
  },
  {
   "cell_type": "code",
   "execution_count": 81,
   "metadata": {
    "collapsed": false
   },
   "outputs": [],
   "source": [
    "df = topic_prob.join(df_rev)\n",
    "# df = pd.read_csv('../data/comment_search.csv')"
   ]
  },
  {
   "cell_type": "code",
   "execution_count": 82,
   "metadata": {
    "collapsed": false
   },
   "outputs": [],
   "source": [
    "def get_comments(df, url, columns, n):\n",
    "    cur_df = df[df.url == url]\n",
    "    cur_df = cur_df.loc[:, columns]\n",
    "    cur_df['dist'] = pairwise_distances(cur_df, [1] * len(columns))\n",
    "    return list(df[df.index.isin(cur_df.sort_values('dist').head(n).index)].review.values)\n",
    "    "
   ]
  },
  {
   "cell_type": "code",
   "execution_count": 112,
   "metadata": {
    "collapsed": true
   },
   "outputs": [],
   "source": [
    "\n",
    "def get_comments(df_comment, url, columns, n):\n",
    "    cur_df = df_comment[df_comment.url == url]\n",
    "    cur_df = cur_df.loc[:, columns]\n",
    "    cur_df['dist'] = pairwise_distances(cur_df, [1] * len(columns), metric='cosine')\n",
    "    cur_df = cur_df.sort_values('dist').head(20)\n",
    "    cur_df = df_comment[df_comment.index.isin(cur_df.index)].sort_values('polarity', ascending=False).head(n)\n",
    "    return list(cur_df.review.values)\n"
   ]
  },
  {
   "cell_type": "code",
   "execution_count": 90,
   "metadata": {
    "collapsed": false
   },
   "outputs": [],
   "source": [
    "url =  'https://www.renttherunway.com/shop/designers/mark__james_by_badgley_mischka/mini_sequin_pixie_dress'"
   ]
  },
  {
   "cell_type": "code",
   "execution_count": 113,
   "metadata": {
    "collapsed": false
   },
   "outputs": [
    {
     "name": "stderr",
     "output_type": "stream",
     "text": [
      "/Users/josephinetirtanata/anaconda/lib/python3.5/site-packages/sklearn/utils/validation.py:395: DeprecationWarning: Passing 1d arrays as data is deprecated in 0.17 and will raise ValueError in 0.19. Reshape your data either using X.reshape(-1, 1) if your data has a single feature or X.reshape(1, -1) if it contains a single sample.\n",
      "  DeprecationWarning)\n"
     ]
    },
    {
     "data": {
      "text/plain": [
       "['I got so many compliments on this dress!  The print is unique.  It fit like a glove and was very comfortable.',\n",
       " \"This dress fit perfectly. I am an athletic, large-chested 130lbs and the size 4 looked like it was made for me. I rented this dress as a back up/rehearsal dinner option but ended up loving it so much I wore it to the wedding. I received many compliments on it. The fabric and lining are high quality and didn't wrinkle or fall out of shape through the 10 hours I wore it. I also appreciated that the arm holes are small enough so that you don't see your bra, but large enough to be comfortable. Very happy with this dress!\",\n",
       " 'This is a beautiful dress -- lovely navy blue color with really subtle cheetah print and gorgeous silver detail on the bottom. I rented sizes 6 and 8 and it turns out I was in between sizes. The 8 was too baggy on top and the arm holes were too large, so I went with the 6 which was very tight across the bust and created an unfortunate \"uni-boob\" effect. Ultimately, tighter looked better than baggier. In any case, the dress was still beautiful, I still got TONS of compliments, the length was great (I\\'m 5\\'2\") and it was a fun party dress. The fabric is really high quality. The skirt has a fair amount of \"foof out,\" which I liked, but it might be too \"foofy\" for some. Great dress for lots of occasions. I also rented the Nicole Miller silver \"Southern Plantation\" earrings to go with it and they were the perfect compliment. ',\n",
       " \"The dress is just slightly longer than I wanted, but really pretty. It's true to size, but the torso is very fitted. My usual size fit well, but there was no room to spare in the torso! The fabric is very high quality and the print is unique and beautiful. I got lots of complements and was really bummed to have to send it back! Also, I took advantage of the mystery bling offer, and got a gorgeous Love Moschino clutch for a $15 rental. It looked perfect with the dress and it was super fun to have a surprise item arrive with the dress! RTR is awesome.\",\n",
       " 'It was the perfect dress for an early October wedding.  It fit great and I got so many compliments!  ',\n",
       " \"I am definitely hourglass but the way this sat on me didn't really work. I always wear a 2 in Badgley Mischka and wore a 4 in this because the 2 cut too much into my hips and made the dress puff out a lot. There is a weird seam across the middle beneath the waist seam that you can't see in the picture, so if you have hips, size up for sure. That being said, it looked brand new and I was in love with the quality of the fabric and the beautiful design. I wore champagne colored heels with it and it really did look great. I would give it 5 stars but it bothered me that I had to size up and wasn't warned.\",\n",
       " \"This dress flatters every body shape giving the illusion of a tiny waist. It's a bit snug in the chest are so if you are well endowed, I'd recommend going a size up. The dress can be worn with or without a bra since the fabric is pretty thick. Overall, very please with my first rental.\",\n",
       " 'I wore 5 inch heels and the 8L was just a tiny bit too long but I was still able to walk around without too much trouble.',\n",
       " \"The cheetah print doesn't show well in photos but is definitely there. The flower shapes on the bottom are silver/gray, not gold as they seem to show in the pictures. The dress was comfortable and fit true to size.\",\n",
       " \"A size 6 fit me perfectly, just snug enough to be flattering, but with plenty of room to move, breathe, and all the other essentials.  Somewhat flared skirt accents waist. Material is lovely, very soft and silky. The pattern and color are both beautiful - subtle but with enough detail to make it interesting. I'd definitely recommend this dress!\"]"
      ]
     },
     "execution_count": 113,
     "metadata": {},
     "output_type": "execute_result"
    }
   ],
   "source": [
    "get_comments(df, url, ['length'], 10)"
   ]
  },
  {
   "cell_type": "code",
   "execution_count": 121,
   "metadata": {
    "collapsed": false
   },
   "outputs": [
    {
     "data": {
      "text/plain": [
       "array([ 'This is a truly beautiful and classy dress. The open back gave it the perfect touch of sexiness. The lace has a weight to the bottom that gives a good-quality feel to it, and it flows beautifully as you walk. I am 5\\'7\" 125lbs 32A and usually wear a size 2 dress. I wore the 2L with 3\" heels and it was still an inch or two too long for my liking. My heels caught on the lace at the bottom when dancing, so I had to hold it up a little in order to not fall in my face.. As other reviews have noted, the top was loose and seemed to be a little stretched out but it was definitely still wearable. I wore an adhesive bra with this dress, which worked well until I worked up a little sweat. That plus the humidity had me worried that the bra cups would fall right off. Overall I thought this dress was gorgeous and photographed well. I received many compliments throughout the night. I gave this dress four out of five stars because it was a little bit higher maintenance than I would have liked and the lace at the top was stretched out. ',\n",
       "       \"Fit true to size. You'll need to go braless or get stick ons. I'm 5'3 and with 3 inch heels the dress was still a little long but not annoyingly so.\",\n",
       "       \"I rarely wear form fitting clothes, but this dress was a dream! It didn't squeeze too tight at any points and certainly felt secure in it. The off the shoulder straps made it stand out. I received so many compliments! \",\n",
       "       \"Had a RTR emergency when my original dresses didn't fit. The stylist sent me this style in long and I wasn't too excited about it. It was stunning! Received so many compliments on how gorgeous it was. Definitely wore 6 inch heels with it which isn't a problem for me but be cautious that the regular is too short to wear heels and the long is definitely long! Would rent again for sure! \",\n",
       "       'I didn\\'t end up wearing this dress because my back-up ended up being a better fit, but I LOVED this dress.  Runs  completely true to size and the Long length is great for those gals 5\\'9\" and up.  I\\'m 5\\'10\" and would have needed 3\" heels to make this work.  Highly recommend.'], dtype=object)"
      ]
     },
     "execution_count": 121,
     "metadata": {},
     "output_type": "execute_result"
    }
   ],
   "source": [
    "df.sort_values('length', ascending=False).review.values[:5]"
   ]
  },
  {
   "cell_type": "code",
   "execution_count": null,
   "metadata": {
    "collapsed": true
   },
   "outputs": [],
   "source": []
  }
 ],
 "metadata": {
  "anaconda-cloud": {},
  "kernelspec": {
   "display_name": "Python [conda root]",
   "language": "python",
   "name": "conda-root-py"
  },
  "language_info": {
   "codemirror_mode": {
    "name": "ipython",
    "version": 3
   },
   "file_extension": ".py",
   "mimetype": "text/x-python",
   "name": "python",
   "nbconvert_exporter": "python",
   "pygments_lexer": "ipython3",
   "version": "3.5.2"
  }
 },
 "nbformat": 4,
 "nbformat_minor": 1
}
