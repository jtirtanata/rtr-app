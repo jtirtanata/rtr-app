{
 "cells": [
  {
   "cell_type": "code",
   "execution_count": 3,
   "metadata": {
    "collapsed": true
   },
   "outputs": [],
   "source": [
    "from pymongo import MongoClient\n",
    "import pandas as pd\n",
    "client = MongoClient('ec2-34-198-179-91.compute-1.amazonaws.com', 27017)\n",
    "db = client.fletcher\n",
    "dress_col = db.rtr_dresses\n",
    "rev_col = db.rtr_reviews"
   ]
  },
  {
   "cell_type": "code",
   "execution_count": 4,
   "metadata": {
    "collapsed": false
   },
   "outputs": [
    {
     "data": {
      "text/plain": [
       "11"
      ]
     },
     "execution_count": 4,
     "metadata": {},
     "output_type": "execute_result"
    }
   ],
   "source": [
    "dress_col.count()"
   ]
  },
  {
   "cell_type": "code",
   "execution_count": 5,
   "metadata": {
    "collapsed": false
   },
   "outputs": [
    {
     "data": {
      "text/plain": [
       "10369"
      ]
     },
     "execution_count": 5,
     "metadata": {},
     "output_type": "execute_result"
    }
   ],
   "source": [
    "rev_col.count()"
   ]
  },
  {
   "cell_type": "code",
   "execution_count": 12,
   "metadata": {
    "collapsed": true
   },
   "outputs": [],
   "source": [
    "cur = rev_col.find()\n",
    "df =  pd.DataFrame(list(cur))\n",
    "del df['_id']"
   ]
  },
  {
   "cell_type": "code",
   "execution_count": 13,
   "metadata": {
    "collapsed": false
   },
   "outputs": [
    {
     "data": {
      "text/html": [
       "<div>\n",
       "<table border=\"1\" class=\"dataframe\">\n",
       "  <thead>\n",
       "    <tr style=\"text-align: right;\">\n",
       "      <th></th>\n",
       "      <th>Age:</th>\n",
       "      <th>Body type:</th>\n",
       "      <th>Bust size:</th>\n",
       "      <th>Height:</th>\n",
       "      <th>Overall fit:</th>\n",
       "      <th>Rented for:</th>\n",
       "      <th>Size worn:</th>\n",
       "      <th>Usually wears:</th>\n",
       "      <th>Weight:</th>\n",
       "      <th>author</th>\n",
       "      <th>date</th>\n",
       "      <th>rating</th>\n",
       "      <th>review</th>\n",
       "      <th>title</th>\n",
       "      <th>url</th>\n",
       "    </tr>\n",
       "  </thead>\n",
       "  <tbody>\n",
       "    <tr>\n",
       "      <th>0</th>\n",
       "      <td>NaN</td>\n",
       "      <td>NaN</td>\n",
       "      <td>NaN</td>\n",
       "      <td>NaN</td>\n",
       "      <td>NaN</td>\n",
       "      <td>Wedding</td>\n",
       "      <td>10R</td>\n",
       "      <td>NaN</td>\n",
       "      <td>NaN</td>\n",
       "      <td>RTR Customer</td>\n",
       "      <td>February 14, 2017</td>\n",
       "      <td>reb-gold-stars-8</td>\n",
       "      <td>Fits true to size. I'm 145 lb, 5'1\" and the 10...</td>\n",
       "      <td>Stunning dress</td>\n",
       "      <td>https://www.renttherunway.com/shop/designers/b...</td>\n",
       "    </tr>\n",
       "    <tr>\n",
       "      <th>1</th>\n",
       "      <td>28</td>\n",
       "      <td>Hourglass</td>\n",
       "      <td>NaN</td>\n",
       "      <td>5' 9\"</td>\n",
       "      <td>True to Size</td>\n",
       "      <td>Wedding</td>\n",
       "      <td>16R</td>\n",
       "      <td>14</td>\n",
       "      <td>200lbs</td>\n",
       "      <td>Lauran</td>\n",
       "      <td>February 13, 2017</td>\n",
       "      <td>reb-gold-stars-10</td>\n",
       "      <td>I wish I could have gotten the 16L. I am 5'9 a...</td>\n",
       "      <td>Stunning dress! Super comfortable and I got lo...</td>\n",
       "      <td>https://www.renttherunway.com/shop/designers/b...</td>\n",
       "    </tr>\n",
       "    <tr>\n",
       "      <th>2</th>\n",
       "      <td>25</td>\n",
       "      <td>Pear</td>\n",
       "      <td>32B</td>\n",
       "      <td>5' 1\"</td>\n",
       "      <td>NaN</td>\n",
       "      <td>Formal Affair</td>\n",
       "      <td>2R</td>\n",
       "      <td>0</td>\n",
       "      <td>NaN</td>\n",
       "      <td>Anne</td>\n",
       "      <td>February 12, 2017</td>\n",
       "      <td>reb-gold-stars-8</td>\n",
       "      <td>I loved this dress so much! I got lots of comp...</td>\n",
       "      <td>Lots of compliments all night!</td>\n",
       "      <td>https://www.renttherunway.com/shop/designers/b...</td>\n",
       "    </tr>\n",
       "    <tr>\n",
       "      <th>3</th>\n",
       "      <td>30</td>\n",
       "      <td>Athletic</td>\n",
       "      <td>34B</td>\n",
       "      <td>5' 3\"</td>\n",
       "      <td>True to Size</td>\n",
       "      <td>Formal Affair</td>\n",
       "      <td>6P</td>\n",
       "      <td>4</td>\n",
       "      <td>140lbs</td>\n",
       "      <td>Emilym</td>\n",
       "      <td>February 12, 2017</td>\n",
       "      <td>reb-gold-stars-10</td>\n",
       "      <td>Great dress to highlight your waist with more ...</td>\n",
       "      <td>Comfortable and beautiful back detail</td>\n",
       "      <td>https://www.renttherunway.com/shop/designers/b...</td>\n",
       "    </tr>\n",
       "    <tr>\n",
       "      <th>4</th>\n",
       "      <td>NaN</td>\n",
       "      <td>NaN</td>\n",
       "      <td>NaN</td>\n",
       "      <td>NaN</td>\n",
       "      <td>NaN</td>\n",
       "      <td>Formal Affair</td>\n",
       "      <td>6R</td>\n",
       "      <td>NaN</td>\n",
       "      <td>NaN</td>\n",
       "      <td>Lisa</td>\n",
       "      <td>February 12, 2017</td>\n",
       "      <td>reb-gold-stars-10</td>\n",
       "      <td>So many compliments on this dress. Would wear ...</td>\n",
       "      <td>GORGEOUS</td>\n",
       "      <td>https://www.renttherunway.com/shop/designers/b...</td>\n",
       "    </tr>\n",
       "  </tbody>\n",
       "</table>\n",
       "</div>"
      ],
      "text/plain": [
       "  Age:  Body type:  Bust size:  Height:  Overall fit:    Rented for:   \\\n",
       "0   NaN         NaN         NaN      NaN           NaN        Wedding   \n",
       "1    28   Hourglass         NaN    5' 9\"  True to Size        Wedding   \n",
       "2    25        Pear         32B    5' 1\"           NaN  Formal Affair   \n",
       "3    30    Athletic         34B    5' 3\"  True to Size  Formal Affair   \n",
       "4   NaN         NaN         NaN      NaN           NaN  Formal Affair   \n",
       "\n",
       "  Size worn:  Usually wears:  Weight:         author               date  \\\n",
       "0         10R             NaN      NaN  RTR Customer  February 14, 2017   \n",
       "1         16R              14   200lbs        Lauran  February 13, 2017   \n",
       "2          2R               0      NaN          Anne  February 12, 2017   \n",
       "3          6P               4   140lbs        Emilym  February 12, 2017   \n",
       "4          6R             NaN      NaN          Lisa  February 12, 2017   \n",
       "\n",
       "              rating                                             review  \\\n",
       "0   reb-gold-stars-8  Fits true to size. I'm 145 lb, 5'1\" and the 10...   \n",
       "1  reb-gold-stars-10  I wish I could have gotten the 16L. I am 5'9 a...   \n",
       "2   reb-gold-stars-8  I loved this dress so much! I got lots of comp...   \n",
       "3  reb-gold-stars-10  Great dress to highlight your waist with more ...   \n",
       "4  reb-gold-stars-10  So many compliments on this dress. Would wear ...   \n",
       "\n",
       "                                               title  \\\n",
       "0                                     Stunning dress   \n",
       "1  Stunning dress! Super comfortable and I got lo...   \n",
       "2                     Lots of compliments all night!   \n",
       "3              Comfortable and beautiful back detail   \n",
       "4                                          GORGEOUS    \n",
       "\n",
       "                                                 url  \n",
       "0  https://www.renttherunway.com/shop/designers/b...  \n",
       "1  https://www.renttherunway.com/shop/designers/b...  \n",
       "2  https://www.renttherunway.com/shop/designers/b...  \n",
       "3  https://www.renttherunway.com/shop/designers/b...  \n",
       "4  https://www.renttherunway.com/shop/designers/b...  "
      ]
     },
     "execution_count": 13,
     "metadata": {},
     "output_type": "execute_result"
    }
   ],
   "source": [
    "df.head(5)"
   ]
  },
  {
   "cell_type": "code",
   "execution_count": 14,
   "metadata": {
    "collapsed": false
   },
   "outputs": [
    {
     "name": "stdout",
     "output_type": "stream",
     "text": [
      "<class 'pandas.core.frame.DataFrame'>\n",
      "RangeIndex: 10369 entries, 0 to 10368\n",
      "Data columns (total 15 columns):\n",
      "Age:               9480 non-null object\n",
      "Body type:         7604 non-null object\n",
      "Bust size:         7006 non-null object\n",
      "Height:            7959 non-null object\n",
      "Overall fit:       7365 non-null object\n",
      "Rented for:        10369 non-null object\n",
      "Size worn:         10369 non-null object\n",
      "Usually wears:     7952 non-null object\n",
      "Weight:            6502 non-null object\n",
      "author             10369 non-null object\n",
      "date               10369 non-null object\n",
      "rating             10369 non-null object\n",
      "review             10369 non-null object\n",
      "title              10369 non-null object\n",
      "url                10369 non-null object\n",
      "dtypes: object(15)\n",
      "memory usage: 1.2+ MB\n"
     ]
    }
   ],
   "source": [
    "df.info()"
   ]
  },
  {
   "cell_type": "code",
   "execution_count": 11,
   "metadata": {
    "collapsed": true
   },
   "outputs": [],
   "source": [
    "cur_2 = dress_col.find()\n",
    "dress_df =  pd.DataFrame(list(cur_2))\n",
    "del dress_df['_id']"
   ]
  },
  {
   "cell_type": "code",
   "execution_count": 15,
   "metadata": {
    "collapsed": false
   },
   "outputs": [
    {
     "data": {
      "text/plain": [
       "Index(['Age: ', 'Body type: ', 'Bust size: ', 'Height: ', 'Overall fit: ',\n",
       "       'Rented for: ', 'Size worn: ', 'Usually wears: ', 'Weight: ', 'author',\n",
       "       'date', 'rating', 'review', 'title', 'url'],\n",
       "      dtype='object')"
      ]
     },
     "execution_count": 15,
     "metadata": {},
     "output_type": "execute_result"
    }
   ],
   "source": [
    "df.columns"
   ]
  },
  {
   "cell_type": "code",
   "execution_count": 20,
   "metadata": {
    "collapsed": true
   },
   "outputs": [],
   "source": [
    "new_cols = []\n",
    "for col in df.columns:\n",
    "    new_c = col.lower().strip().replace(' ', '_')\n",
    "    new_c = new_c.replace(':', '')\n",
    "    new_cols.append(new_c)"
   ]
  },
  {
   "cell_type": "code",
   "execution_count": 22,
   "metadata": {
    "collapsed": false
   },
   "outputs": [],
   "source": [
    "df.columns = new_cols"
   ]
  },
  {
   "cell_type": "code",
   "execution_count": 26,
   "metadata": {
    "collapsed": false
   },
   "outputs": [],
   "source": [
    "df.rating = df['rating'].str.extract(r'stars-([\\d]+)', expand=True).astype(int)"
   ]
  },
  {
   "cell_type": "code",
   "execution_count": 37,
   "metadata": {
    "collapsed": false
   },
   "outputs": [],
   "source": [
    "df.loc[df.age.notnull(), 'age'] = df[df.age.notnull()].age.astype(int)"
   ]
  },
  {
   "cell_type": "code",
   "execution_count": 43,
   "metadata": {
    "collapsed": true
   },
   "outputs": [],
   "source": [
    "import numpy as np"
   ]
  },
  {
   "cell_type": "code",
   "execution_count": 44,
   "metadata": {
    "collapsed": false
   },
   "outputs": [],
   "source": [
    "df.loc[df.age == 1, 'age'] = np.nan"
   ]
  },
  {
   "cell_type": "code",
   "execution_count": 46,
   "metadata": {
    "collapsed": false
   },
   "outputs": [],
   "source": [
    "df.loc[df.age > 100, 'age'] = np.nan"
   ]
  },
  {
   "cell_type": "markdown",
   "metadata": {},
   "source": [
    "## Text analysis\n",
    "- right now i'm going to work only with text data\n",
    "- i will explore the reviews first, and then the title."
   ]
  },
  {
   "cell_type": "code",
   "execution_count": 49,
   "metadata": {
    "collapsed": true
   },
   "outputs": [],
   "source": [
    "import nltk\n",
    "from sklearn.feature_extraction.text import CountVectorizer"
   ]
  },
  {
   "cell_type": "code",
   "execution_count": 99,
   "metadata": {
    "collapsed": false
   },
   "outputs": [
    {
     "data": {
      "text/plain": [
       "CountVectorizer(analyzer='word', binary=False, decode_error='strict',\n",
       "        dtype=<class 'numpy.int64'>, encoding='utf-8', input='content',\n",
       "        lowercase=True, max_df=1.0, max_features=None, min_df=1,\n",
       "        ngram_range=(2, 2), preprocessor=None, stop_words='english',\n",
       "        strip_accents=None, token_pattern='(?u)\\\\b\\\\w\\\\w+\\\\b',\n",
       "        tokenizer=None, vocabulary=None)"
      ]
     },
     "execution_count": 99,
     "metadata": {},
     "output_type": "execute_result"
    }
   ],
   "source": [
    "#CountVectorizer is a class; so `vectorizer` below represents an instance of that object.\n",
    "cv = CountVectorizer(ngram_range=(2, 2), stop_words=\"english\")\n",
    "\n",
    "# call `fit` to build the vocabulary\n",
    "cv.fit(df.review)"
   ]
  },
  {
   "cell_type": "code",
   "execution_count": 100,
   "metadata": {
    "collapsed": true
   },
   "outputs": [],
   "source": [
    "review_cv = cv.transform(df.review).toarray()"
   ]
  },
  {
   "cell_type": "code",
   "execution_count": 101,
   "metadata": {
    "collapsed": true
   },
   "outputs": [],
   "source": [
    "review_cv_df = pd.DataFrame(review_cv, columns = cv.get_feature_names())"
   ]
  },
  {
   "cell_type": "code",
   "execution_count": 102,
   "metadata": {
    "collapsed": true
   },
   "outputs": [],
   "source": [
    "count_sum = np.sum(review_cv, axis=0)"
   ]
  },
  {
   "cell_type": "code",
   "execution_count": 103,
   "metadata": {
    "collapsed": false
   },
   "outputs": [],
   "source": [
    "frequency_list = sorted(list(zip(cv.get_feature_names(), count_sum)), key = lambda x : x[1],reverse=True)"
   ]
  },
  {
   "cell_type": "code",
   "execution_count": 104,
   "metadata": {
    "collapsed": false
   },
   "outputs": [
    {
     "data": {
      "text/plain": [
       "(106231,)"
      ]
     },
     "execution_count": 104,
     "metadata": {},
     "output_type": "execute_result"
    }
   ],
   "source": [
    "count_sum.shape"
   ]
  },
  {
   "cell_type": "code",
   "execution_count": 105,
   "metadata": {
    "collapsed": false
   },
   "outputs": [
    {
     "data": {
      "text/plain": [
       "[('true size', 1058),\n",
       " ('loved dress', 996),\n",
       " ('dress fit', 908),\n",
       " ('fit perfectly', 790),\n",
       " ('received compliments', 725),\n",
       " ('got compliments', 717),\n",
       " ('compliments night', 647),\n",
       " ('fit great', 534),\n",
       " ('wore dress', 533),\n",
       " ('dress perfect', 470),\n",
       " ('ended wearing', 467),\n",
       " ('rose gold', 449),\n",
       " ('felt like', 424),\n",
       " ('great dress', 399),\n",
       " ('compliments dress', 386),\n",
       " ('dress comfortable', 367),\n",
       " ('highly recommend', 357),\n",
       " ('recommend dress', 357),\n",
       " ('like glove', 350),\n",
       " ('fit true', 349)]"
      ]
     },
     "execution_count": 105,
     "metadata": {},
     "output_type": "execute_result"
    }
   ],
   "source": [
    "frequency_list[:20]"
   ]
  },
  {
   "cell_type": "code",
   "execution_count": 107,
   "metadata": {
    "collapsed": true
   },
   "outputs": [],
   "source": [
    "from sklearn.decomposition import PCA\n",
    "reducer = PCA(n_components = 20)\n",
    "reduced_X = reducer.fit_transform(review_cv_df)"
   ]
  },
  {
   "cell_type": "code",
   "execution_count": 109,
   "metadata": {
    "collapsed": false
   },
   "outputs": [
    {
     "data": {
      "text/plain": [
       "(10369, 20)"
      ]
     },
     "execution_count": 109,
     "metadata": {},
     "output_type": "execute_result"
    }
   ],
   "source": [
    "reduced_X.shape"
   ]
  },
  {
   "cell_type": "code",
   "execution_count": 110,
   "metadata": {
    "collapsed": true
   },
   "outputs": [],
   "source": [
    "from sklearn import metrics\n",
    "from sklearn.metrics import pairwise_distances\n",
    "from sklearn.metrics import silhouette_score\n",
    "from sklearn.preprocessing import scale"
   ]
  },
  {
   "cell_type": "code",
   "execution_count": 111,
   "metadata": {
    "collapsed": true
   },
   "outputs": [],
   "source": [
    "from sklearn.datasets import fetch_mldata\n",
    "from sklearn.cluster import KMeans\n",
    "from sklearn.utils import shuffle"
   ]
  },
  {
   "cell_type": "code",
   "execution_count": 112,
   "metadata": {
    "collapsed": false
   },
   "outputs": [
    {
     "data": {
      "text/plain": [
       "KMeans(algorithm='auto', copy_x=True, init='k-means++', max_iter=300,\n",
       "    n_clusters=20, n_init=10, n_jobs=1, precompute_distances='auto',\n",
       "    random_state=None, tol=0.0001, verbose=0)"
      ]
     },
     "execution_count": 112,
     "metadata": {},
     "output_type": "execute_result"
    }
   ],
   "source": [
    "km = KMeans(n_clusters=20)\n",
    "km.fit(reduced_X)"
   ]
  },
  {
   "cell_type": "code",
   "execution_count": 114,
   "metadata": {
    "collapsed": false
   },
   "outputs": [],
   "source": [
    "df['cv_kmeans'] = km.labels_"
   ]
  },
  {
   "cell_type": "code",
   "execution_count": 119,
   "metadata": {
    "collapsed": false
   },
   "outputs": [
    {
     "data": {
      "text/plain": [
       "1        I wish I could have gotten the 16L. I am 5'9 a...\n",
       "3        Great dress to highlight your waist with more ...\n",
       "4        So many compliments on this dress. Would wear ...\n",
       "6        I am tall but the 8L was just a little too lon...\n",
       "7        This dress is classic and extremely comfortabl...\n",
       "15       Tight in the rib cage but worked out okay with...\n",
       "18       This was a gorgeous dress -- I got the long ve...\n",
       "21       This was the perfect dress for my friend's win...\n",
       "25       I decided to go with the 12p based on length. ...\n",
       "26       This dress hides \"bumps\" very well and I was i...\n",
       "28       True to fit, length was perfect (I'm 5'8\" plus...\n",
       "32       5'3\" 145lbs athletic build, 34D, wore 8R,  wit...\n",
       "33       The dress came in with the side ripped and nee...\n",
       "39       Had rented a different Badgley Mischka dress f...\n",
       "40                                       Can't wear a bra \n",
       "41       My two original dresses became unavailable the...\n",
       "42                      Beautiful dress! Very flattering. \n",
       "44       This dress was popular, so the only size I cou...\n",
       "46       The shape and material is flattering and the b...\n",
       "47       If you are looking for a tasteful, classic and...\n",
       "51       The dress was pretty incredible; it fit well a...\n",
       "52       This was a gorgeous dress but it was too small...\n",
       "53       The torso section was tight and fitted while t...\n",
       "55       very elegant, the long was way to long however...\n",
       "60       Very flattering, Elegant and forgiving dress. ...\n",
       "67       Love the way this dress made me feel. The lace...\n",
       "73       This dress is a showstopper. The back is beaut...\n",
       "75       I went with the 12. The 10 would not even zip ...\n",
       "78       Stunning dress!  The detail on the back is gor...\n",
       "82              Had to do a temporary hem because i am 5'0\n",
       "                               ...                        \n",
       "10300    What a *perfect* dress for a winter engagement...\n",
       "10302    The dress was beautiful! Everyone was asking w...\n",
       "10303    love the dress, it fits perfectly. will rent i...\n",
       "10306    Although I did not wear the dress, the color i...\n",
       "10307    I needed a dress that I could wear to work and...\n",
       "10309    I am really petite, and the dress was huge. It...\n",
       "10310    The fit was spot on - like it was tailored for...\n",
       "10312    Someone pulled my husband aside and told him h...\n",
       "10315    This was yet another amazing RTR dress. I abso...\n",
       "10316    The 0 was a little tight in the arms but the 2...\n",
       "10318    I rented this dress for my boyfriend's Militar...\n",
       "10319    This dress just begs to be worn with a stateme...\n",
       "10320    I took a chance on this dress because I really...\n",
       "10324    The dress I received looked really odd and did...\n",
       "10325    I'm normally a 2 or a 4, but am still loosing ...\n",
       "10328    Drapes like a curtain.  I have curves but it w...\n",
       "10333    I rented this as a backup dress, but didn't en...\n",
       "10334    Fit is large. I wore the 4, but I could have w...\n",
       "10337    I am about 5'8\", slim build, and the size 2 wa...\n",
       "10340    At first I thought it was too plain and that i...\n",
       "10343    Only the 4 was available when I ordered the 6,...\n",
       "10345    The red color is absolutely beautiful, and the...\n",
       "10350    This dress wasn't too fitted on me and the onl...\n",
       "10355    Very pretty, comfortable dress. Really nice zi...\n",
       "10356    Fit was perfect..I'm between 4/6 and the 4 was...\n",
       "10357    I rented this dress for one of my models for a...\n",
       "10358    This dress was extremely comfortable. It is no...\n",
       "10360    Perfect fit about the bust and butt.  Sleek & ...\n",
       "10362    This dress was extremely comfortable throughou...\n",
       "10366    This dress was so flattering - hugs your curve...\n",
       "Name: review, dtype: object"
      ]
     },
     "execution_count": 119,
     "metadata": {},
     "output_type": "execute_result"
    }
   ],
   "source": [
    "df[df.cv_kmeans == 1].review"
   ]
  },
  {
   "cell_type": "code",
   "execution_count": null,
   "metadata": {
    "collapsed": true
   },
   "outputs": [],
   "source": []
  }
 ],
 "metadata": {
  "anaconda-cloud": {},
  "kernelspec": {
   "display_name": "Python [conda root]",
   "language": "python",
   "name": "conda-root-py"
  },
  "language_info": {
   "codemirror_mode": {
    "name": "ipython",
    "version": 3
   },
   "file_extension": ".py",
   "mimetype": "text/x-python",
   "name": "python",
   "nbconvert_exporter": "python",
   "pygments_lexer": "ipython3",
   "version": "3.5.2"
  }
 },
 "nbformat": 4,
 "nbformat_minor": 1
}
