{
 "cells": [
  {
   "cell_type": "code",
   "execution_count": 1,
   "metadata": {
    "collapsed": true
   },
   "outputs": [],
   "source": [
    "import requests\n",
    "from requests_oauthlib import OAuth1"
   ]
  },
  {
   "cell_type": "code",
   "execution_count": 2,
   "metadata": {
    "collapsed": true
   },
   "outputs": [],
   "source": [
    "import urllib\n",
    "import cnfg\n",
    "from pprint import pprint\n",
    "config = cnfg.load(\".twitter_config\")"
   ]
  },
  {
   "cell_type": "code",
   "execution_count": 3,
   "metadata": {
    "collapsed": false
   },
   "outputs": [],
   "source": [
    "oauth = OAuth1(config[\"consumer_key\"],\n",
    "               config[\"consumer_secret\"],\n",
    "               config[\"access_token\"],\n",
    "               config[\"access_token_secret\"])"
   ]
  },
  {
   "cell_type": "code",
   "execution_count": 4,
   "metadata": {
    "collapsed": true
   },
   "outputs": [],
   "source": [
    "import json\n",
    "from pymongo import MongoClient\n",
    "\n",
    "client = MongoClient()\n",
    "db = client.fletcher\n",
    "grammy_col = db.grammy"
   ]
  },
  {
   "cell_type": "code",
   "execution_count": 5,
   "metadata": {
    "collapsed": true
   },
   "outputs": [],
   "source": [
    "main_keys = ['created_at', 'id', 'in_reply_to_status_id', 'in_reply_to_user_id', 'retweet_count', 'text']\n",
    "user_keys = ['created_at', 'description', 'followers_count', 'friends_count', 'id', 'location', 'name', 'screen_name']\n",
    "def insertTweet(collection, tweet):\n",
    "    data = {}\n",
    "    for key in main_keys:\n",
    "        data[key] = tweet[key]\n",
    "    for key in user_keys:\n",
    "        data[\"user_\" + key] = tweet['user'][key]\n",
    "    collection.insert_one(data)\n",
    "        "
   ]
  },
  {
   "cell_type": "code",
   "execution_count": 89,
   "metadata": {
    "collapsed": true
   },
   "outputs": [],
   "source": [
    "parameters = {\"q\": \"%23grammys+OR%23grammy\", \"count\":100, \"until\": \"2017-02-13\", \"lang\":\"en\", \"max_id\": \"830816541583278080\"}\n",
    "response = requests.get(\"https://api.twitter.com/1.1/search/tweets.json\",\n",
    "                        params = parameters,\n",
    "                        auth=oauth)"
   ]
  },
  {
   "cell_type": "code",
   "execution_count": 91,
   "metadata": {
    "collapsed": false
   },
   "outputs": [
    {
     "name": "stdout",
     "output_type": "stream",
     "text": [
      "?max_id=830816492459540479&q=%2523grammys%2BOR%2523grammy%20until%3A2017-02-13&lang=en&count=100&include_entities=1\n"
     ]
    }
   ],
   "source": [
    "n_params = response.json()[\"search_metadata\"]['next_results']\n",
    "print(n_params)"
   ]
  },
  {
   "cell_type": "code",
   "execution_count": 92,
   "metadata": {
    "collapsed": false
   },
   "outputs": [],
   "source": [
    "twitter_response = response.json()['statuses']\n",
    "for tweet in twitter_response:\n",
    "    insertTweet(grammy_col, tweet)"
   ]
  },
  {
   "cell_type": "code",
   "execution_count": 35,
   "metadata": {
    "collapsed": true
   },
   "outputs": [],
   "source": [
    "import time"
   ]
  },
  {
   "cell_type": "code",
   "execution_count": 93,
   "metadata": {
    "collapsed": false
   },
   "outputs": [
    {
     "name": "stdout",
     "output_type": "stream",
     "text": [
      "?max_id=830816444669636607&q=%2523grammys%2BOR%2523grammy%20until%3A2017-02-13&lang=en&count=100&include_entities=1\n",
      "?max_id=830816386414899199&q=%2523grammys%2BOR%2523grammy%20until%3A2017-02-13&lang=en&count=100&include_entities=1\n",
      "?max_id=830816314511986687&q=%2523grammys%2BOR%2523grammy%20until%3A2017-02-13&lang=en&count=100&include_entities=1\n",
      "?max_id=830816237680680961&q=%2523grammys%2BOR%2523grammy%20until%3A2017-02-13&lang=en&count=100&include_entities=1\n",
      "?max_id=830816146752409600&q=%2523grammys%2BOR%2523grammy%20until%3A2017-02-13&lang=en&count=100&include_entities=1\n",
      "?max_id=830816072290938879&q=%2523grammys%2BOR%2523grammy%20until%3A2017-02-13&lang=en&count=100&include_entities=1\n",
      "?max_id=830815982469910527&q=%2523grammys%2BOR%2523grammy%20until%3A2017-02-13&lang=en&count=100&include_entities=1\n",
      "?max_id=830815900685066239&q=%2523grammys%2BOR%2523grammy%20until%3A2017-02-13&lang=en&count=100&include_entities=1\n",
      "?max_id=830815818279694336&q=%2523grammys%2BOR%2523grammy%20until%3A2017-02-13&lang=en&count=100&include_entities=1\n",
      "?max_id=830815730673315841&q=%2523grammys%2BOR%2523grammy%20until%3A2017-02-13&lang=en&count=100&include_entities=1\n",
      "?max_id=830815647231729663&q=%2523grammys%2BOR%2523grammy%20until%3A2017-02-13&lang=en&count=100&include_entities=1\n",
      "?max_id=830815568492130303&q=%2523grammys%2BOR%2523grammy%20until%3A2017-02-13&lang=en&count=100&include_entities=1\n",
      "?max_id=830815486401208324&q=%2523grammys%2BOR%2523grammy%20until%3A2017-02-13&lang=en&count=100&include_entities=1\n",
      "?max_id=830815405811855363&q=%2523grammys%2BOR%2523grammy%20until%3A2017-02-13&lang=en&count=100&include_entities=1\n",
      "?max_id=830815308847865855&q=%2523grammys%2BOR%2523grammy%20until%3A2017-02-13&lang=en&count=100&include_entities=1\n",
      "?max_id=830815206884438017&q=%2523grammys%2BOR%2523grammy%20until%3A2017-02-13&lang=en&count=100&include_entities=1\n",
      "?max_id=830815125250650111&q=%2523grammys%2BOR%2523grammy%20until%3A2017-02-13&lang=en&count=100&include_entities=1\n",
      "?max_id=830815038088822784&q=%2523grammys%2BOR%2523grammy%20until%3A2017-02-13&lang=en&count=100&include_entities=1\n",
      "?max_id=830814955888848895&q=%2523grammys%2BOR%2523grammy%20until%3A2017-02-13&lang=en&count=100&include_entities=1\n",
      "?max_id=830814872636108799&q=%2523grammys%2BOR%2523grammy%20until%3A2017-02-13&lang=en&count=100&include_entities=1\n",
      "?max_id=830814781166776319&q=%2523grammys%2BOR%2523grammy%20until%3A2017-02-13&lang=en&count=100&include_entities=1\n",
      "?max_id=830814690997575681&q=%2523grammys%2BOR%2523grammy%20until%3A2017-02-13&lang=en&count=100&include_entities=1\n",
      "?max_id=830814637667004421&q=%2523grammys%2BOR%2523grammy%20until%3A2017-02-13&lang=en&count=100&include_entities=1\n",
      "?max_id=830814594889289729&q=%2523grammys%2BOR%2523grammy%20until%3A2017-02-13&lang=en&count=100&include_entities=1\n",
      "?max_id=830814514870362111&q=%2523grammys%2BOR%2523grammy%20until%3A2017-02-13&lang=en&count=100&include_entities=1\n",
      "?max_id=830814426014085120&q=%2523grammys%2BOR%2523grammy%20until%3A2017-02-13&lang=en&count=100&include_entities=1\n",
      "?max_id=830814331994505215&q=%2523grammys%2BOR%2523grammy%20until%3A2017-02-13&lang=en&count=100&include_entities=1\n",
      "?max_id=830814238314733569&q=%2523grammys%2BOR%2523grammy%20until%3A2017-02-13&lang=en&count=100&include_entities=1\n",
      "?max_id=830814157909925887&q=%2523grammys%2BOR%2523grammy%20until%3A2017-02-13&lang=en&count=100&include_entities=1\n",
      "?max_id=830814086422224895&q=%2523grammys%2BOR%2523grammy%20until%3A2017-02-13&lang=en&count=100&include_entities=1\n",
      "?max_id=830814004390088703&q=%2523grammys%2BOR%2523grammy%20until%3A2017-02-13&lang=en&count=100&include_entities=1\n",
      "?max_id=830813907090538497&q=%2523grammys%2BOR%2523grammy%20until%3A2017-02-13&lang=en&count=100&include_entities=1\n",
      "?max_id=830813832037691391&q=%2523grammys%2BOR%2523grammy%20until%3A2017-02-13&lang=en&count=100&include_entities=1\n",
      "?max_id=830813750571724799&q=%2523grammys%2BOR%2523grammy%20until%3A2017-02-13&lang=en&count=100&include_entities=1\n",
      "?max_id=830813673442643967&q=%2523grammys%2BOR%2523grammy%20until%3A2017-02-13&lang=en&count=100&include_entities=1\n",
      "?max_id=830813590311534592&q=%2523grammys%2BOR%2523grammy%20until%3A2017-02-13&lang=en&count=100&include_entities=1\n",
      "?max_id=830813506740031488&q=%2523grammys%2BOR%2523grammy%20until%3A2017-02-13&lang=en&count=100&include_entities=1\n",
      "?max_id=830813420756819969&q=%2523grammys%2BOR%2523grammy%20until%3A2017-02-13&lang=en&count=100&include_entities=1\n",
      "?max_id=830813326410149889&q=%2523grammys%2BOR%2523grammy%20until%3A2017-02-13&lang=en&count=100&include_entities=1\n",
      "?max_id=830813234043113471&q=%2523grammys%2BOR%2523grammy%20until%3A2017-02-13&lang=en&count=100&include_entities=1\n",
      "?max_id=830813139394523136&q=%2523grammys%2BOR%2523grammy%20until%3A2017-02-13&lang=en&count=100&include_entities=1\n",
      "?max_id=830813051666460671&q=%2523grammys%2BOR%2523grammy%20until%3A2017-02-13&lang=en&count=100&include_entities=1\n",
      "?max_id=830812958783578112&q=%2523grammys%2BOR%2523grammy%20until%3A2017-02-13&lang=en&count=100&include_entities=1\n",
      "?max_id=830812881402859520&q=%2523grammys%2BOR%2523grammy%20until%3A2017-02-13&lang=en&count=100&include_entities=1\n",
      "?max_id=830812805917974528&q=%2523grammys%2BOR%2523grammy%20until%3A2017-02-13&lang=en&count=100&include_entities=1\n"
     ]
    },
    {
     "ename": "KeyError",
     "evalue": "'next_results'",
     "output_type": "error",
     "traceback": [
      "\u001b[0;31m---------------------------------------------------------------------------\u001b[0m",
      "\u001b[0;31mKeyError\u001b[0m                                  Traceback (most recent call last)",
      "\u001b[0;32m<ipython-input-93-70992d38e4b3>\u001b[0m in \u001b[0;36m<module>\u001b[0;34m()\u001b[0m\n\u001b[1;32m      2\u001b[0m     \u001b[0;32mfor\u001b[0m \u001b[0mi\u001b[0m \u001b[0;32min\u001b[0m \u001b[0mrange\u001b[0m\u001b[0;34m(\u001b[0m\u001b[0;36m49\u001b[0m\u001b[0;34m)\u001b[0m\u001b[0;34m:\u001b[0m\u001b[0;34m\u001b[0m\u001b[0m\n\u001b[1;32m      3\u001b[0m         \u001b[0mresponse\u001b[0m \u001b[0;34m=\u001b[0m \u001b[0mrequests\u001b[0m\u001b[0;34m.\u001b[0m\u001b[0mget\u001b[0m\u001b[0;34m(\u001b[0m\u001b[0;34m\"https://api.twitter.com/1.1/search/tweets.json\"\u001b[0m \u001b[0;34m+\u001b[0m \u001b[0mn_params\u001b[0m\u001b[0;34m,\u001b[0m \u001b[0mauth\u001b[0m\u001b[0;34m=\u001b[0m\u001b[0moauth\u001b[0m\u001b[0;34m)\u001b[0m\u001b[0;34m\u001b[0m\u001b[0m\n\u001b[0;32m----> 4\u001b[0;31m         \u001b[0mn_params\u001b[0m \u001b[0;34m=\u001b[0m \u001b[0mresponse\u001b[0m\u001b[0;34m.\u001b[0m\u001b[0mjson\u001b[0m\u001b[0;34m(\u001b[0m\u001b[0;34m)\u001b[0m\u001b[0;34m[\u001b[0m\u001b[0;34m\"search_metadata\"\u001b[0m\u001b[0;34m]\u001b[0m\u001b[0;34m[\u001b[0m\u001b[0;34m\"next_results\"\u001b[0m\u001b[0;34m]\u001b[0m\u001b[0;34m\u001b[0m\u001b[0m\n\u001b[0m\u001b[1;32m      5\u001b[0m         \u001b[0mtwitter_response\u001b[0m \u001b[0;34m=\u001b[0m \u001b[0mresponse\u001b[0m\u001b[0;34m.\u001b[0m\u001b[0mjson\u001b[0m\u001b[0;34m(\u001b[0m\u001b[0;34m)\u001b[0m\u001b[0;34m[\u001b[0m\u001b[0;34m'statuses'\u001b[0m\u001b[0;34m]\u001b[0m\u001b[0;34m\u001b[0m\u001b[0m\n\u001b[1;32m      6\u001b[0m         \u001b[0;32mfor\u001b[0m \u001b[0mtweet\u001b[0m \u001b[0;32min\u001b[0m \u001b[0mtwitter_response\u001b[0m\u001b[0;34m:\u001b[0m\u001b[0;34m\u001b[0m\u001b[0m\n",
      "\u001b[0;31mKeyError\u001b[0m: 'next_results'"
     ]
    }
   ],
   "source": [
    "for i in range(2):\n",
    "    for i in range(49):\n",
    "        response = requests.get(\"https://api.twitter.com/1.1/search/tweets.json\" + n_params, auth=oauth)\n",
    "        n_params = response.json()[\"search_metadata\"][\"next_results\"]\n",
    "        twitter_response = response.json()['statuses']\n",
    "        for tweet in twitter_response:\n",
    "            insertTweet(grammy_col, tweet)\n",
    "        print(n_params)\n",
    "    time.sleep(15*60) # sleep for 15 minutes"
   ]
  },
  {
   "cell_type": "code",
   "execution_count": 94,
   "metadata": {
    "collapsed": true
   },
   "outputs": [],
   "source": [
    "twitter_response = response.json()['statuses']"
   ]
  },
  {
   "cell_type": "code",
   "execution_count": 95,
   "metadata": {
    "collapsed": false
   },
   "outputs": [
    {
     "data": {
      "text/plain": [
       "98"
      ]
     },
     "execution_count": 95,
     "metadata": {},
     "output_type": "execute_result"
    }
   ],
   "source": [
    "len(twitter_response)"
   ]
  },
  {
   "cell_type": "code",
   "execution_count": 96,
   "metadata": {
    "collapsed": true
   },
   "outputs": [],
   "source": [
    "for tweet in twitter_response:\n",
    "    insertTweet(grammy_col, tweet)"
   ]
  },
  {
   "cell_type": "code",
   "execution_count": 98,
   "metadata": {
    "collapsed": false
   },
   "outputs": [
    {
     "data": {
      "text/plain": [
       "'RT @ArianatorIsland: THIS WOMAN DESERVES A GRAMMY TONIGHT 🗣🗣🗣🗣🗣 #GRAMMYs https://t.co/sF5raGHjIG'"
      ]
     },
     "execution_count": 98,
     "metadata": {},
     "output_type": "execute_result"
    }
   ],
   "source": [
    "twitter_response[-1]['text']"
   ]
  },
  {
   "cell_type": "code",
   "execution_count": 99,
   "metadata": {
    "collapsed": false
   },
   "outputs": [
    {
     "data": {
      "text/plain": [
       "203336"
      ]
     },
     "execution_count": 99,
     "metadata": {},
     "output_type": "execute_result"
    }
   ],
   "source": [
    "grammy_col.count()"
   ]
  },
  {
   "cell_type": "code",
   "execution_count": null,
   "metadata": {
    "collapsed": true
   },
   "outputs": [],
   "source": []
  }
 ],
 "metadata": {
  "anaconda-cloud": {},
  "kernelspec": {
   "display_name": "Python [default]",
   "language": "python",
   "name": "python3"
  },
  "language_info": {
   "codemirror_mode": {
    "name": "ipython",
    "version": 3
   },
   "file_extension": ".py",
   "mimetype": "text/x-python",
   "name": "python",
   "nbconvert_exporter": "python",
   "pygments_lexer": "ipython3",
   "version": "3.5.2"
  }
 },
 "nbformat": 4,
 "nbformat_minor": 1
}
