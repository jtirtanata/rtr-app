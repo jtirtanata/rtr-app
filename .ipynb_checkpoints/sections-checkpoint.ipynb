{
 "cells": [
  {
   "cell_type": "markdown",
   "metadata": {},
   "source": [
    "# RTR\n",
    "\n",
    "## Goal\n",
    "I would like to make a recommendation system for dresses that are in rent the runway through analysis of comments.\n",
    "\n",
    "1. [Gathering data](scraping-rtr.ipynb)\n",
    "2. [Clustering](clustering.ipynb)\n",
    "3. [Topic Modelling](topic-modelling.ipynb)\n",
    "\n",
    "## Tools\n",
    "1. [Bust size mapping](bust_size_mapping.ipynb)\n",
    "    - mapping conventional bra sizes (e.g. 34B) to under bust to upper bust measurements."
   ]
  },
  {
   "cell_type": "code",
   "execution_count": null,
   "metadata": {
    "collapsed": true
   },
   "outputs": [],
   "source": []
  }
 ],
 "metadata": {
  "anaconda-cloud": {},
  "kernelspec": {
   "display_name": "Python [conda root]",
   "language": "python",
   "name": "conda-root-py"
  },
  "language_info": {
   "codemirror_mode": {
    "name": "ipython",
    "version": 3
   },
   "file_extension": ".py",
   "mimetype": "text/x-python",
   "name": "python",
   "nbconvert_exporter": "python",
   "pygments_lexer": "ipython3",
   "version": "3.5.2"
  }
 },
 "nbformat": 4,
 "nbformat_minor": 1
}
