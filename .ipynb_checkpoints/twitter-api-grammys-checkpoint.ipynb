{
 "cells": [
  {
   "cell_type": "code",
   "execution_count": 1,
   "metadata": {
    "collapsed": true
   },
   "outputs": [],
   "source": [
    "import requests\n",
    "from requests_oauthlib import OAuth1"
   ]
  },
  {
   "cell_type": "code",
   "execution_count": 2,
   "metadata": {
    "collapsed": true
   },
   "outputs": [],
   "source": [
    "import urllib\n",
    "import cnfg\n",
    "from pprint import pprint\n",
    "config = cnfg.load(\".twitter_config\")"
   ]
  },
  {
   "cell_type": "code",
   "execution_count": 3,
   "metadata": {
    "collapsed": false
   },
   "outputs": [],
   "source": [
    "oauth = OAuth1(config[\"consumer_key\"],\n",
    "               config[\"consumer_secret\"],\n",
    "               config[\"access_token\"],\n",
    "               config[\"access_token_secret\"])"
   ]
  },
  {
   "cell_type": "code",
   "execution_count": 150,
   "metadata": {
    "collapsed": false
   },
   "outputs": [],
   "source": [
    "twitter_response = response.json()['statuses']"
   ]
  },
  {
   "cell_type": "code",
   "execution_count": 6,
   "metadata": {
    "collapsed": true
   },
   "outputs": [],
   "source": [
    "import json\n",
    "from pymongo import MongoClient\n",
    "\n",
    "client = MongoClient()\n",
    "db = client.fletcher\n",
    "tweets_db = db.valentine"
   ]
  },
  {
   "cell_type": "code",
   "execution_count": 5,
   "metadata": {
    "collapsed": true
   },
   "outputs": [],
   "source": [
    "main_keys = ['created_at', 'id', 'in_reply_to_status_id', 'in_reply_to_user_id', 'retweet_count', 'text']\n",
    "user_keys = ['created_at', 'description', 'followers_count', 'friends_count', 'id', 'location', 'name', 'screen_name']\n",
    "def insertTweet(collection, tweet):\n",
    "    data = {}\n",
    "    for key in main_keys:\n",
    "        data[key] = tweet[key]\n",
    "    for key in user_keys:\n",
    "        data[\"user_\" + key] = tweet['user'][key]\n",
    "    collection.insert_one(data)\n",
    "        "
   ]
  },
  {
   "cell_type": "code",
   "execution_count": 45,
   "metadata": {
    "collapsed": true
   },
   "outputs": [],
   "source": [
    "n_params = '?max_id=831148015024943104&q=%2523valentinesday%2BOR%2B%2523valentine%2BOR%2B%2523valentines%20until%3A2017-02-15&lang=en&count=100&include_entities=1'"
   ]
  },
  {
   "cell_type": "code",
   "execution_count": 40,
   "metadata": {
    "collapsed": true
   },
   "outputs": [],
   "source": [
    "# response = requests.get(\"https://api.twitter.com/1.1/search/tweets.json\" + n_params, auth=oauth)\n",
    "#     n_params = response.json()[\"search_metadata\"][\"next_results\"]\n",
    "# print(n_params)\n",
    "twitter_response = response.json()['statuses']\n",
    "for tweet in twitter_response:\n",
    "    insertTweet(tweets_db, tweet)"
   ]
  },
  {
   "cell_type": "code",
   "execution_count": 26,
   "metadata": {
    "collapsed": false
   },
   "outputs": [],
   "source": [
    "n_params = response.json()[\"search_metadata\"][\"next_results\"]"
   ]
  },
  {
   "cell_type": "code",
   "execution_count": 46,
   "metadata": {
    "collapsed": false
   },
   "outputs": [
    {
     "name": "stdout",
     "output_type": "stream",
     "text": [
      "?max_id=831147883114196992&q=%2523valentinesday%2BOR%2B%2523valentine%2BOR%2B%2523valentines%20until%3A2017-02-15&lang=en&count=100&include_entities=1\n",
      "?max_id=831147720505163777&q=%2523valentinesday%2BOR%2B%2523valentine%2BOR%2B%2523valentines%20until%3A2017-02-15&lang=en&count=100&include_entities=1\n",
      "?max_id=831147576120406016&q=%2523valentinesday%2BOR%2B%2523valentine%2BOR%2B%2523valentines%20until%3A2017-02-15&lang=en&count=100&include_entities=1\n",
      "?max_id=831147422311120895&q=%2523valentinesday%2BOR%2B%2523valentine%2BOR%2B%2523valentines%20until%3A2017-02-15&lang=en&count=100&include_entities=1\n",
      "?max_id=831147281348907008&q=%2523valentinesday%2BOR%2B%2523valentine%2BOR%2B%2523valentines%20until%3A2017-02-15&lang=en&count=100&include_entities=1\n",
      "?max_id=831147153296855039&q=%2523valentinesday%2BOR%2B%2523valentine%2BOR%2B%2523valentines%20until%3A2017-02-15&lang=en&count=100&include_entities=1\n",
      "?max_id=831147000850694145&q=%2523valentinesday%2BOR%2B%2523valentine%2BOR%2B%2523valentines%20until%3A2017-02-15&lang=en&count=100&include_entities=1\n",
      "?max_id=831146841576202239&q=%2523valentinesday%2BOR%2B%2523valentine%2BOR%2B%2523valentines%20until%3A2017-02-15&lang=en&count=100&include_entities=1\n",
      "?max_id=831146675699871745&q=%2523valentinesday%2BOR%2B%2523valentine%2BOR%2B%2523valentines%20until%3A2017-02-15&lang=en&count=100&include_entities=1\n",
      "?max_id=831146523488575489&q=%2523valentinesday%2BOR%2B%2523valentine%2BOR%2B%2523valentines%20until%3A2017-02-15&lang=en&count=100&include_entities=1\n"
     ]
    }
   ],
   "source": [
    "for i in range(10):\n",
    "    response = requests.get(\"https://api.twitter.com/1.1/search/tweets.json\" + n_params, auth=oauth)\n",
    "    n_params = response.json()[\"search_metadata\"][\"next_results\"]\n",
    "    print(n_params)\n",
    "    twitter_response = response.json()['statuses']\n",
    "    for tweet in twitter_response:\n",
    "        insertTweet(tweets_db, tweet)"
   ]
  },
  {
   "cell_type": "code",
   "execution_count": 47,
   "metadata": {
    "collapsed": false
   },
   "outputs": [
    {
     "data": {
      "text/plain": [
       "'?max_id=831146523488575489&q=%2523valentinesday%2BOR%2B%2523valentine%2BOR%2B%2523valentines%20until%3A2017-02-15&lang=en&count=100&include_entities=1'"
      ]
     },
     "execution_count": 47,
     "metadata": {},
     "output_type": "execute_result"
    }
   ],
   "source": [
    "n_params #831598984858738689"
   ]
  },
  {
   "cell_type": "code",
   "execution_count": 62,
   "metadata": {
    "collapsed": false
   },
   "outputs": [
    {
     "name": "stdout",
     "output_type": "stream",
     "text": [
      "{'size': 5157470, 'nindexes': 1, 'count': 8685, 'totalIndexSize': 114688, 'avgObjSize': 593, 'indexDetails': {'_id_': {'type': 'file', 'block-manager': {'minor version number': 0, 'blocks allocated': 27, 'file allocation unit size': 4096, 'checkpoint size': 114688, 'file size in bytes': 114688, 'file bytes available for reuse': 28672, 'file major version number': 1, 'blocks freed': 7, 'allocations requiring file extension': 5, 'file magic number': 120897}, 'compression': {'page written was too small to compress': 0, 'page written failed to compress': 0, 'compressed pages read': 0, 'raw compression call succeeded': 0, 'compressed pages written': 0, 'raw compression call failed, no additional data available': 0, 'raw compression call failed, additional data available': 0}, 'cache': {'unmodified pages evicted': 0, 'overflow values cached in memory': 0, 'internal pages split during eviction': 0, 'bytes currently in the cache': 323237, 'in-memory page passed criteria to be split': 0, 'leaf pages split during eviction': 0, 'checkpoint blocked page eviction': 0, 'overflow pages read into cache': 0, 'internal pages evicted': 0, 'pages read into cache': 2, 'page split during eviction deepened the tree': 0, 'hazard pointer blocked page eviction': 0, 'pages read into cache requiring lookaside entries': 0, 'in-memory page splits': 0, 'bytes written from cache': 81700, 'page written requiring lookaside records': 0, 'data source pages selected for eviction unable to be evicted': 0, 'pages written from cache': 15, 'modified pages evicted': 0, 'pages written requiring in-memory restoration': 0, 'bytes read into cache': 363}, 'session': {'open cursor count': 2, 'object compaction': 0}, 'uri': 'statistics:table:index-1-1701162146895594547', 'LSM': {'bloom filter pages evicted from cache': 0, 'bloom filter pages read into cache': 0, 'total size of bloom filters': 0, 'bloom filter hits': 0, 'bloom filter misses': 0, 'sleep for LSM checkpoint throttle': 0, 'bloom filters in the LSM tree': 0, 'sleep for LSM merge throttle': 0, 'chunks in the LSM tree': 0, 'bloom filter false positives': 0, 'queries that could have benefited from a Bloom filter that did not exist': 0, 'highest merge generation in the LSM tree': 0}, 'btree': {'row-store internal pages': 0, 'number of key/value pairs': 0, 'fixed-record size': 0, 'btree checkpoint generation': 13, 'column-store variable-size deleted values': 0, 'maximum leaf page size': 16384, 'pages rewritten by compaction': 0, 'column-store variable-size RLE encoded values': 0, 'overflow pages': 0, 'maximum internal page key size': 1228, 'maximum leaf page key size': 1228, 'column-store internal pages': 0, 'maximum tree depth': 3, 'maximum leaf page value size': 6144, 'column-store variable-size leaf pages': 0, 'column-store fixed-size leaf pages': 0, 'row-store leaf pages': 0, 'maximum internal page size': 16384}, 'metadata': {'formatVersion': 6, 'infoObj': '{ \"v\" : 1, \"key\" : { \"_id\" : 1 }, \"name\" : \"_id_\", \"ns\" : \"fletcher.valentine\" }'}, 'cursor': {'search calls': 0, 'create calls': 2, 'reset calls': 3985, 'truncate calls': 0, 'next calls': 0, 'update calls': 0, 'prev calls': 0, 'remove calls': 0, 'search near calls': 0, 'restarted searches': 0, 'cursor-insert key and value bytes inserted': 67745, 'cursor-remove key bytes removed': 0, 'cursor-update value bytes updated': 0, 'bulk-loaded cursor-insert calls': 0, 'insert calls': 3985}, 'reconciliation': {'pages deleted': 0, 'page reconciliation calls': 12, 'overflow values written': 0, 'leaf-page overflow keys': 0, 'internal-page overflow keys': 0, 'leaf page multi-block writes': 3, 'leaf page key bytes discarded using prefix compression': 136645, 'dictionary matches': 0, 'fast-path pages deleted': 0, 'page reconciliation calls for eviction': 0, 'internal page key bytes discarded using suffix compression': 32, 'internal page multi-block writes': 0, 'maximum blocks required for a page': 3, 'page checksum matches': 1}, 'creationString': 'allocation_size=4KB,app_metadata=(formatVersion=6,infoObj={ \"v\" : 1, \"key\" : { \"_id\" : 1 }, \"name\" : \"_id_\", \"ns\" : \"fletcher.valentine\" }),block_allocation=best,block_compressor=,cache_resident=0,checksum=on,colgroups=,collator=,columns=,dictionary=0,encryption=(keyid=,name=),exclusive=0,extractor=,format=btree,huffman_key=,huffman_value=,immutable=0,internal_item_max=0,internal_key_max=0,internal_key_truncate=,internal_page_max=16k,key_format=u,key_gap=10,leaf_item_max=0,leaf_key_max=0,leaf_page_max=16k,leaf_value_max=0,log=(enabled=),lsm=(auto_throttle=,bloom=,bloom_bit_count=16,bloom_config=,bloom_hash_count=8,bloom_oldest=0,chunk_count_limit=0,chunk_max=5GB,chunk_size=10MB,merge_max=15,merge_min=0),memory_page_max=5MB,os_cache_dirty_max=0,os_cache_max=0,prefix_compression=true,prefix_compression_min=4,source=,split_deepen_min_child=0,split_deepen_per_child=0,split_pct=75,type=file,value_format=u', 'transaction': {'update conflicts': 0}}}, 'wiredTiger': {'type': 'file', 'block-manager': {'minor version number': 0, 'blocks allocated': 110, 'file allocation unit size': 4096, 'checkpoint size': 3055616, 'file size in bytes': 3080192, 'file bytes available for reuse': 53248, 'file major version number': 1, 'blocks freed': 7, 'allocations requiring file extension': 91, 'file magic number': 120897}, 'compression': {'page written was too small to compress': 7, 'page written failed to compress': 0, 'compressed pages read': 0, 'raw compression call succeeded': 0, 'compressed pages written': 91, 'raw compression call failed, no additional data available': 0, 'raw compression call failed, additional data available': 0}, 'cache': {'unmodified pages evicted': 0, 'overflow values cached in memory': 0, 'internal pages split during eviction': 0, 'bytes currently in the cache': 2885621, 'in-memory page passed criteria to be split': 0, 'leaf pages split during eviction': 0, 'checkpoint blocked page eviction': 0, 'overflow pages read into cache': 0, 'internal pages evicted': 0, 'pages read into cache': 2, 'page split during eviction deepened the tree': 0, 'hazard pointer blocked page eviction': 0, 'pages read into cache requiring lookaside entries': 0, 'in-memory page splits': 0, 'bytes written from cache': 2566327, 'page written requiring lookaside records': 0, 'data source pages selected for eviction unable to be evicted': 0, 'pages written from cache': 98, 'modified pages evicted': 0, 'pages written requiring in-memory restoration': 0, 'bytes read into cache': 1824}, 'session': {'open cursor count': 2, 'object compaction': 0}, 'uri': 'statistics:table:collection-0-1701162146895594547', 'LSM': {'bloom filter pages evicted from cache': 0, 'bloom filter pages read into cache': 0, 'total size of bloom filters': 0, 'bloom filter hits': 0, 'bloom filter misses': 0, 'sleep for LSM checkpoint throttle': 0, 'bloom filters in the LSM tree': 0, 'sleep for LSM merge throttle': 0, 'chunks in the LSM tree': 0, 'bloom filter false positives': 0, 'queries that could have benefited from a Bloom filter that did not exist': 0, 'highest merge generation in the LSM tree': 0}, 'btree': {'row-store internal pages': 0, 'number of key/value pairs': 0, 'fixed-record size': 0, 'btree checkpoint generation': 13, 'column-store variable-size deleted values': 0, 'maximum leaf page size': 32768, 'pages rewritten by compaction': 0, 'column-store variable-size RLE encoded values': 0, 'overflow pages': 0, 'maximum internal page key size': 368, 'maximum leaf page key size': 2867, 'column-store internal pages': 0, 'maximum tree depth': 3, 'maximum leaf page value size': 67108864, 'column-store variable-size leaf pages': 0, 'column-store fixed-size leaf pages': 0, 'row-store leaf pages': 0, 'maximum internal page size': 4096}, 'metadata': {'formatVersion': 1}, 'cursor': {'search calls': 0, 'create calls': 2, 'reset calls': 3986, 'truncate calls': 0, 'next calls': 0, 'update calls': 0, 'prev calls': 1, 'remove calls': 0, 'search near calls': 0, 'restarted searches': 0, 'cursor-insert key and value bytes inserted': 2416847, 'cursor-remove key bytes removed': 0, 'cursor-update value bytes updated': 0, 'bulk-loaded cursor-insert calls': 0, 'insert calls': 3985}, 'reconciliation': {'pages deleted': 0, 'page reconciliation calls': 12, 'overflow values written': 0, 'leaf-page overflow keys': 0, 'internal-page overflow keys': 0, 'leaf page multi-block writes': 6, 'leaf page key bytes discarded using prefix compression': 0, 'dictionary matches': 0, 'fast-path pages deleted': 0, 'page reconciliation calls for eviction': 0, 'internal page key bytes discarded using suffix compression': 239, 'internal page multi-block writes': 0, 'maximum blocks required for a page': 86, 'page checksum matches': 153}, 'creationString': 'allocation_size=4KB,app_metadata=(formatVersion=1),block_allocation=best,block_compressor=snappy,cache_resident=0,checksum=on,colgroups=,collator=,columns=,dictionary=0,encryption=(keyid=,name=),exclusive=0,extractor=,format=btree,huffman_key=,huffman_value=,immutable=0,internal_item_max=0,internal_key_max=0,internal_key_truncate=,internal_page_max=4KB,key_format=q,key_gap=10,leaf_item_max=0,leaf_key_max=0,leaf_page_max=32KB,leaf_value_max=64MB,log=(enabled=),lsm=(auto_throttle=,bloom=,bloom_bit_count=16,bloom_config=,bloom_hash_count=8,bloom_oldest=0,chunk_count_limit=0,chunk_max=5GB,chunk_size=10MB,merge_max=15,merge_min=0),memory_page_max=10m,os_cache_dirty_max=0,os_cache_max=0,prefix_compression=0,prefix_compression_min=4,source=,split_deepen_min_child=0,split_deepen_per_child=0,split_pct=90,type=file,value_format=u', 'transaction': {'update conflicts': 0}}, 'capped': False, 'ns': 'fletcher.valentine', 'indexSizes': {'_id_': 114688}, 'storageSize': 3080192, 'ok': 1.0}\n"
     ]
    }
   ],
   "source": [
    "print (db.command(\"collstats\", \"valentine\"))"
   ]
  },
  {
   "cell_type": "code",
   "execution_count": 61,
   "metadata": {
    "collapsed": false
   },
   "outputs": [
    {
     "data": {
      "text/plain": [
       "\"RT @EmilyRoehler: Ready for #ValentinesDay? Here's your date night forecast for tomorrow. #cowx #kktv https://t.co/Uo6tGE8lFf\""
      ]
     },
     "execution_count": 61,
     "metadata": {},
     "output_type": "execute_result"
    }
   ],
   "source": [
    "twitter_response[4]['text']"
   ]
  },
  {
   "cell_type": "code",
   "execution_count": null,
   "metadata": {
    "collapsed": true
   },
   "outputs": [],
   "source": [
    "tweets_db.find()"
   ]
  }
 ],
 "metadata": {
  "anaconda-cloud": {},
  "kernelspec": {
   "display_name": "Python [default]",
   "language": "python",
   "name": "python3"
  },
  "language_info": {
   "codemirror_mode": {
    "name": "ipython",
    "version": 3
   },
   "file_extension": ".py",
   "mimetype": "text/x-python",
   "name": "python",
   "nbconvert_exporter": "python",
   "pygments_lexer": "ipython3",
   "version": "3.5.2"
  }
 },
 "nbformat": 4,
 "nbformat_minor": 1
}
