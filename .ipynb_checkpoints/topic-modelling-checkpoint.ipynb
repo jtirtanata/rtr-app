{
 "cells": [
  {
   "cell_type": "code",
   "execution_count": 98,
   "metadata": {
    "collapsed": true
   },
   "outputs": [],
   "source": [
    "from sklearn.decomposition import PCA\n",
    "from sklearn import metrics\n",
    "from sklearn.metrics import pairwise_distances\n",
    "from sklearn.metrics import silhouette_score\n",
    "from sklearn.preprocessing import scale\n",
    "from sklearn.datasets import fetch_mldata\n",
    "from sklearn.cluster import KMeans\n",
    "from sklearn.utils import shuffle\n",
    "from pymongo import MongoClient\n",
    "import pandas as pd\n",
    "import numpy as np\n",
    "from seaborn import plt\n",
    "import matplotlib.pyplot as mplt\n",
    "%matplotlib inline"
   ]
  },
  {
   "cell_type": "code",
   "execution_count": 2,
   "metadata": {
    "collapsed": true
   },
   "outputs": [],
   "source": [
    "client = MongoClient('ec2-34-198-179-91.compute-1.amazonaws.com', 27017)\n",
    "db = client.fletcher\n",
    "dress_col = db.rtr_dresses\n",
    "rev_col = db.rtr_reviews"
   ]
  },
  {
   "cell_type": "code",
   "execution_count": 3,
   "metadata": {
    "collapsed": true
   },
   "outputs": [],
   "source": [
    "cur = rev_col.find()\n",
    "df =  pd.DataFrame(list(cur))\n",
    "del df['_id']"
   ]
  },
  {
   "cell_type": "code",
   "execution_count": 4,
   "metadata": {
    "collapsed": true
   },
   "outputs": [],
   "source": [
    "cur_2 = dress_col.find()\n",
    "dress_df =  pd.DataFrame(list(cur_2))\n",
    "del dress_df['_id']"
   ]
  },
  {
   "cell_type": "code",
   "execution_count": 5,
   "metadata": {
    "collapsed": true
   },
   "outputs": [],
   "source": [
    "new_cols = []\n",
    "for col in df.columns:\n",
    "    new_c = col.lower().strip().replace(' ', '_')\n",
    "    new_c = new_c.replace(':', '')\n",
    "    new_cols.append(new_c)\n",
    "df.columns = new_cols"
   ]
  },
  {
   "cell_type": "code",
   "execution_count": 6,
   "metadata": {
    "collapsed": false
   },
   "outputs": [],
   "source": [
    "df.rating = df['rating'].str.extract(r'stars-([\\d]+)', expand=True).astype(int)\n",
    "df.loc[df.age.notnull(), 'age'] = df[df.age.notnull()].age.astype(int)"
   ]
  },
  {
   "cell_type": "code",
   "execution_count": 7,
   "metadata": {
    "collapsed": false
   },
   "outputs": [],
   "source": [
    "df.loc[df.age == 1, 'age'] = np.nan\n",
    "df.loc[df.age > 100, 'age'] = np.nan"
   ]
  },
  {
   "cell_type": "code",
   "execution_count": 8,
   "metadata": {
    "collapsed": false
   },
   "outputs": [
    {
     "data": {
      "text/plain": [
       "Index(['age', 'body_type', 'bust_size', 'height', 'overall_fit', 'rented_for',\n",
       "       'size_worn', 'usually_wears', 'weight', 'author', 'date', 'rating',\n",
       "       'review', 'title', 'url'],\n",
       "      dtype='object')"
      ]
     },
     "execution_count": 8,
     "metadata": {},
     "output_type": "execute_result"
    }
   ],
   "source": [
    "df.columns"
   ]
  },
  {
   "cell_type": "markdown",
   "metadata": {},
   "source": [
    "## Clustering on body types\n",
    "- Features: \n",
    "    - age\n",
    "    - body_type\n",
    "    - bust_size \n",
    "    - height \n",
    "    - pregnant\n",
    "    - weight \n",
    "    - usually_wears\n",
    "- try to gain insight of weight/height/body type from text"
   ]
  },
  {
   "cell_type": "code",
   "execution_count": 9,
   "metadata": {
    "collapsed": false
   },
   "outputs": [],
   "source": [
    "df.loc[(df.weight.isnull()) & (df.review.str.contains('lbs')), 'weight'] = df[(df.weight.isnull()) & (df.review.str.contains('lbs'))].review.str.extract('([\\d]+)[\\s]?lbs', expand=True)"
   ]
  },
  {
   "cell_type": "code",
   "execution_count": 10,
   "metadata": {
    "collapsed": false
   },
   "outputs": [],
   "source": [
    "df.loc[df.height.isnull(), 'height'] = df[df.height.isnull()].review.str.extract(r'(\\d+\\s?\\'\\s?\\d+)', expand=True)"
   ]
  },
  {
   "cell_type": "code",
   "execution_count": 11,
   "metadata": {
    "collapsed": false
   },
   "outputs": [],
   "source": [
    "df['pregnant'] = df.review.str.contains('pregnant', case=False)"
   ]
  },
  {
   "cell_type": "code",
   "execution_count": 12,
   "metadata": {
    "collapsed": false
   },
   "outputs": [],
   "source": [
    "df.loc[df.usually_wears == '24+', 'usually_wears'] = '24'"
   ]
  },
  {
   "cell_type": "code",
   "execution_count": 13,
   "metadata": {
    "collapsed": false
   },
   "outputs": [],
   "source": [
    "df_body = df[['age', 'body_type', 'bust_size', 'height', 'usually_wears', 'pregnant', 'weight']]"
   ]
  },
  {
   "cell_type": "code",
   "execution_count": 14,
   "metadata": {
    "collapsed": false
   },
   "outputs": [],
   "source": [
    "df_body = df_body.dropna()"
   ]
  },
  {
   "cell_type": "code",
   "execution_count": 15,
   "metadata": {
    "collapsed": false
   },
   "outputs": [],
   "source": [
    "df_body.usually_wears = df_body.usually_wears.astype(int)"
   ]
  },
  {
   "cell_type": "code",
   "execution_count": 16,
   "metadata": {
    "collapsed": true
   },
   "outputs": [],
   "source": [
    "import pickle\n",
    "under_bust_dict = pickle.load( open( \"data/under_bust.pkl\", \"rb\" ) )\n",
    "upper_bust_dict = pickle.load( open( \"data/upper_bust.pkl\", \"rb\" ) )"
   ]
  },
  {
   "cell_type": "code",
   "execution_count": 17,
   "metadata": {
    "collapsed": false
   },
   "outputs": [],
   "source": [
    "df_body['cup'] = df_body.bust_size.str.extract('\\d+(.*)', expand=True)"
   ]
  },
  {
   "cell_type": "code",
   "execution_count": 18,
   "metadata": {
    "collapsed": false
   },
   "outputs": [],
   "source": [
    "df_body['band_size'] = df_body.bust_size.str.extract('(\\d+).*', expand=True)"
   ]
  },
  {
   "cell_type": "code",
   "execution_count": 19,
   "metadata": {
    "collapsed": false
   },
   "outputs": [],
   "source": [
    "df_body.loc[df_body.cup == 'D+', 'cup'] = 'DD'"
   ]
  },
  {
   "cell_type": "code",
   "execution_count": 20,
   "metadata": {
    "collapsed": false
   },
   "outputs": [],
   "source": [
    "df_body.band_size = df_body.band_size.astype(int)"
   ]
  },
  {
   "cell_type": "code",
   "execution_count": 21,
   "metadata": {
    "collapsed": false
   },
   "outputs": [],
   "source": [
    "for cup in df_body.cup.unique():\n",
    "    df_body.loc[df_body.cup == cup, 'upper_bust'] = df_body[df_body.cup == cup].band_size.replace(upper_bust_dict[cup])"
   ]
  },
  {
   "cell_type": "code",
   "execution_count": 22,
   "metadata": {
    "collapsed": false
   },
   "outputs": [],
   "source": [
    "df_body['under_bust'] = df_body.band_size.replace(under_bust_dict)"
   ]
  },
  {
   "cell_type": "code",
   "execution_count": 23,
   "metadata": {
    "collapsed": false
   },
   "outputs": [],
   "source": [
    "df_body.weight = df_body.weight.str.extract('(\\d+)\\s?lbs', expand=True)"
   ]
  },
  {
   "cell_type": "code",
   "execution_count": 27,
   "metadata": {
    "collapsed": false
   },
   "outputs": [],
   "source": [
    "df_body.weight = df_body.weight.astype(int)"
   ]
  },
  {
   "cell_type": "code",
   "execution_count": 42,
   "metadata": {
    "collapsed": false
   },
   "outputs": [],
   "source": [
    "df_body['feet'] = df_body.height.str.extract(r'(\\d)\\'', expand=True).astype(int)"
   ]
  },
  {
   "cell_type": "code",
   "execution_count": 43,
   "metadata": {
    "collapsed": false
   },
   "outputs": [],
   "source": [
    "df_body['inches'] = df_body.height.str.extract(r'\\d\\'\\s?(\\d+)', expand=True).astype(int)"
   ]
  },
  {
   "cell_type": "code",
   "execution_count": 44,
   "metadata": {
    "collapsed": false
   },
   "outputs": [],
   "source": [
    "df_body['height_in'] = df_body.feet * 12 + df_body.inches"
   ]
  },
  {
   "cell_type": "code",
   "execution_count": 48,
   "metadata": {
    "collapsed": true
   },
   "outputs": [],
   "source": [
    "df_body.age = df_body.age.astype(int)"
   ]
  },
  {
   "cell_type": "code",
   "execution_count": 54,
   "metadata": {
    "collapsed": true
   },
   "outputs": [],
   "source": [
    "df_X = df_body[['age', 'usually_wears', 'pregnant', 'weight', 'upper_bust', 'under_bust', 'height_in']]"
   ]
  },
  {
   "cell_type": "code",
   "execution_count": 68,
   "metadata": {
    "collapsed": false
   },
   "outputs": [],
   "source": [
    "import patsy\n",
    "from sklearn.preprocessing import normalize\n",
    "from sklearn.metrics import silhouette_score"
   ]
  },
  {
   "cell_type": "code",
   "execution_count": 55,
   "metadata": {
    "collapsed": false
   },
   "outputs": [],
   "source": [
    "df_body_type = patsy.dmatrix('body_type',data=df_body,return_type='dataframe')"
   ]
  },
  {
   "cell_type": "code",
   "execution_count": 57,
   "metadata": {
    "collapsed": false
   },
   "outputs": [],
   "source": [
    "df_X= df_X.join(df_body_type)\n"
   ]
  },
  {
   "cell_type": "code",
   "execution_count": 64,
   "metadata": {
    "collapsed": false
   },
   "outputs": [],
   "source": [
    "df_X = pd.DataFrame(normalize(df_X, axis=0), columns = df_X.columns)"
   ]
  },
  {
   "cell_type": "code",
   "execution_count": 65,
   "metadata": {
    "collapsed": false
   },
   "outputs": [
    {
     "data": {
      "text/plain": [
       "KMeans(algorithm='auto', copy_x=True, init='k-means++', max_iter=300,\n",
       "    n_clusters=10, n_init=10, n_jobs=1, precompute_distances='auto',\n",
       "    random_state=None, tol=0.0001, verbose=0)"
      ]
     },
     "execution_count": 65,
     "metadata": {},
     "output_type": "execute_result"
    }
   ],
   "source": [
    "km = KMeans(n_clusters=10)\n",
    "km.fit(df_X)"
   ]
  },
  {
   "cell_type": "code",
   "execution_count": 66,
   "metadata": {
    "collapsed": false
   },
   "outputs": [
    {
     "data": {
      "text/plain": [
       "array([1, 1, 0, ..., 3, 0, 4], dtype=int32)"
      ]
     },
     "execution_count": 66,
     "metadata": {},
     "output_type": "execute_result"
    }
   ],
   "source": [
    "km.labels_"
   ]
  },
  {
   "cell_type": "code",
   "execution_count": 67,
   "metadata": {
    "collapsed": false
   },
   "outputs": [
    {
     "data": {
      "text/plain": [
       "0.25410513796189776"
      ]
     },
     "execution_count": 67,
     "metadata": {},
     "output_type": "execute_result"
    }
   ],
   "source": [
    "km.inertia_"
   ]
  },
  {
   "cell_type": "code",
   "execution_count": 69,
   "metadata": {
    "collapsed": true
   },
   "outputs": [],
   "source": [
    "def plot_kmeans(df, k_clusters = range(2,20)):\n",
    "    sses = []\n",
    "    sil_coefs = []\n",
    "    for k in k_clusters:\n",
    "        km = KMeans(n_clusters=k, random_state=1)\n",
    "        km.fit(df_X)\n",
    "        labels = km.labels_\n",
    "        sil_coefs.append(silhouette_score(df_X, labels, metric='euclidean'))\n",
    "        sses.append(km.inertia_)\n",
    "    fig, (ax1, ax2) = plt.subplots(1,2, figsize=(15,5), sharex=True)\n",
    "    ax1.plot(k_clusters, sil_coefs)\n",
    "    ax1.set_xlabel('number of clusters')\n",
    "    ax1.set_ylabel('silhouette coefficient')\n",
    "\n",
    "    # plot here on ax2\n",
    "    ax2.plot(k_clusters, sses)\n",
    "    ax2.set_xlabel('number of clusters')\n",
    "    ax2.set_ylabel('SSE');"
   ]
  },
  {
   "cell_type": "code",
   "execution_count": 72,
   "metadata": {
    "collapsed": false
   },
   "outputs": [
    {
     "data": {
      "image/png": "[encoded data removed]",
      "text/plain": [
       "<matplotlib.figure.Figure at 0x117284438>"
      ]
     },
     "metadata": {},
     "output_type": "display_data"
    }
   ],
   "source": [
    "plot_kmeans(df_X)"
   ]
  },
  {
   "cell_type": "markdown",
   "metadata": {},
   "source": [
    "## k = 7"
   ]
  },
  {
   "cell_type": "code",
   "execution_count": 74,
   "metadata": {
    "collapsed": true
   },
   "outputs": [],
   "source": [
    "km = KMeans(n_clusters=7, random_state=1)\n",
    "km.fit(df_X)\n",
    "labels = km.labels_"
   ]
  },
  {
   "cell_type": "code",
   "execution_count": 76,
   "metadata": {
    "collapsed": false
   },
   "outputs": [],
   "source": [
    "df_body['kmean_label'] = labels"
   ]
  },
  {
   "cell_type": "code",
   "execution_count": 82,
   "metadata": {
    "collapsed": false
   },
   "outputs": [],
   "source": [
    "df = df.join(df_body['kmean_label'])"
   ]
  },
  {
   "cell_type": "code",
   "execution_count": 90,
   "metadata": {
    "collapsed": false
   },
   "outputs": [
    {
     "name": "stdout",
     "output_type": "stream",
     "text": [
      "--------label 1-----------\n",
      "Body type mode: 0    Athletic\n",
      "dtype: object\n",
      "Upper bust median: 92.5\n",
      "Under bust median: 75.0\n",
      "Height median: 66.0\n",
      "Weight median: 135.0\n",
      "Age range: 17 - 64\n",
      "--------label 0-----------\n",
      "Body type mode: 0    Hourglass\n",
      "dtype: object\n",
      "Upper bust median: 95.5\n",
      "Under bust median: 75.0\n",
      "Height median: 65.0\n",
      "Weight median: 145.0\n",
      "Age range: 17 - 65\n",
      "--------label 4-----------\n",
      "Body type mode: 0    Straight & narrow\n",
      "dtype: object\n",
      "Upper bust median: 90.0\n",
      "Under bust median: 75.0\n",
      "Height median: 67.0\n",
      "Weight median: 125.0\n",
      "Age range: 18 - 68\n",
      "--------label 5-----------\n",
      "Body type mode: 0    Full Bust\n",
      "dtype: object\n",
      "Upper bust median: 100.0\n",
      "Under bust median: 80.0\n",
      "Height median: 65.0\n",
      "Weight median: 148.0\n",
      "Age range: 18 - 69\n",
      "--------label 3-----------\n",
      "Body type mode: 0    Pear\n",
      "dtype: object\n",
      "Upper bust median: 92.5\n",
      "Under bust median: 75.0\n",
      "Height median: 65.0\n",
      "Weight median: 145.0\n",
      "Age range: 17 - 62\n",
      "--------label 2-----------\n",
      "Body type mode: 0    Petite\n",
      "dtype: object\n",
      "Upper bust median: 90.0\n",
      "Under bust median: 75.0\n",
      "Height median: 62.0\n",
      "Weight median: 115.0\n",
      "Age range: 15 - 60\n",
      "--------label 6-----------\n",
      "Body type mode: 0    Hourglass\n",
      "dtype: object\n",
      "Upper bust median: 92.5\n",
      "Under bust median: 75.0\n",
      "Height median: 65.0\n",
      "Weight median: 135.0\n",
      "Age range: 27 - 55\n"
     ]
    }
   ],
   "source": [
    "for l in df_body.kmean_label.unique():\n",
    "    print('--------label {}-----------'.format(l))\n",
    "    cur_type = df_body[df_body.kmean_label == l]\n",
    "    print('Body type mode: {}'.format(cur_type['body_type'].mode()))\n",
    "    print('Upper bust median: {}'.format(cur_type['upper_bust'].median()))\n",
    "    print('Under bust median: {}'.format(cur_type['under_bust'].median()))\n",
    "    print('Height median: {}'.format(cur_type['height_in'].median()))\n",
    "    print('Weight median: {}'.format(cur_type['weight'].median()))\n",
    "    print('Age range: {} - {}'.format(cur_type.age.min(), cur_type.age.max()))"
   ]
  },
  {
   "cell_type": "code",
   "execution_count": 119,
   "metadata": {
    "collapsed": false
   },
   "outputs": [
    {
     "data": {
      "text/html": [
       "<div>\n",
       "<table border=\"1\" class=\"dataframe\">\n",
       "  <thead>\n",
       "    <tr style=\"text-align: right;\">\n",
       "      <th></th>\n",
       "      <th>age</th>\n",
       "      <th>body_type</th>\n",
       "      <th>bust_size</th>\n",
       "      <th>height</th>\n",
       "      <th>usually_wears</th>\n",
       "      <th>pregnant</th>\n",
       "      <th>weight</th>\n",
       "      <th>cup</th>\n",
       "      <th>band_size</th>\n",
       "      <th>upper_bust</th>\n",
       "      <th>under_bust</th>\n",
       "      <th>feet</th>\n",
       "      <th>inches</th>\n",
       "      <th>height_in</th>\n",
       "      <th>kmean_label</th>\n",
       "    </tr>\n",
       "  </thead>\n",
       "  <tbody>\n",
       "    <tr>\n",
       "      <th>354</th>\n",
       "      <td>31</td>\n",
       "      <td>Hourglass</td>\n",
       "      <td>34D</td>\n",
       "      <td>5' 3\"</td>\n",
       "      <td>6</td>\n",
       "      <td>True</td>\n",
       "      <td>140</td>\n",
       "      <td>D</td>\n",
       "      <td>34</td>\n",
       "      <td>95.5</td>\n",
       "      <td>75</td>\n",
       "      <td>5</td>\n",
       "      <td>3</td>\n",
       "      <td>63</td>\n",
       "      <td>6</td>\n",
       "    </tr>\n",
       "    <tr>\n",
       "      <th>770</th>\n",
       "      <td>33</td>\n",
       "      <td>Pear</td>\n",
       "      <td>32B</td>\n",
       "      <td>5' 4\"</td>\n",
       "      <td>0</td>\n",
       "      <td>True</td>\n",
       "      <td>120</td>\n",
       "      <td>B</td>\n",
       "      <td>32</td>\n",
       "      <td>85.0</td>\n",
       "      <td>75</td>\n",
       "      <td>5</td>\n",
       "      <td>4</td>\n",
       "      <td>64</td>\n",
       "      <td>6</td>\n",
       "    </tr>\n",
       "    <tr>\n",
       "      <th>1010</th>\n",
       "      <td>36</td>\n",
       "      <td>Hourglass</td>\n",
       "      <td>34C</td>\n",
       "      <td>5' 6\"</td>\n",
       "      <td>6</td>\n",
       "      <td>True</td>\n",
       "      <td>138</td>\n",
       "      <td>C</td>\n",
       "      <td>34</td>\n",
       "      <td>92.5</td>\n",
       "      <td>75</td>\n",
       "      <td>5</td>\n",
       "      <td>6</td>\n",
       "      <td>66</td>\n",
       "      <td>6</td>\n",
       "    </tr>\n",
       "    <tr>\n",
       "      <th>1213</th>\n",
       "      <td>32</td>\n",
       "      <td>Straight &amp; narrow</td>\n",
       "      <td>34C</td>\n",
       "      <td>5' 9\"</td>\n",
       "      <td>8</td>\n",
       "      <td>True</td>\n",
       "      <td>143</td>\n",
       "      <td>C</td>\n",
       "      <td>34</td>\n",
       "      <td>92.5</td>\n",
       "      <td>75</td>\n",
       "      <td>5</td>\n",
       "      <td>9</td>\n",
       "      <td>69</td>\n",
       "      <td>6</td>\n",
       "    </tr>\n",
       "    <tr>\n",
       "      <th>1240</th>\n",
       "      <td>29</td>\n",
       "      <td>Athletic</td>\n",
       "      <td>36D</td>\n",
       "      <td>5' 9\"</td>\n",
       "      <td>4</td>\n",
       "      <td>True</td>\n",
       "      <td>150</td>\n",
       "      <td>D</td>\n",
       "      <td>36</td>\n",
       "      <td>100.0</td>\n",
       "      <td>80</td>\n",
       "      <td>5</td>\n",
       "      <td>9</td>\n",
       "      <td>69</td>\n",
       "      <td>6</td>\n",
       "    </tr>\n",
       "    <tr>\n",
       "      <th>1266</th>\n",
       "      <td>28</td>\n",
       "      <td>Hourglass</td>\n",
       "      <td>34D</td>\n",
       "      <td>5' 5\"</td>\n",
       "      <td>6</td>\n",
       "      <td>True</td>\n",
       "      <td>140</td>\n",
       "      <td>D</td>\n",
       "      <td>34</td>\n",
       "      <td>95.5</td>\n",
       "      <td>75</td>\n",
       "      <td>5</td>\n",
       "      <td>5</td>\n",
       "      <td>65</td>\n",
       "      <td>6</td>\n",
       "    </tr>\n",
       "    <tr>\n",
       "      <th>1689</th>\n",
       "      <td>33</td>\n",
       "      <td>Pear</td>\n",
       "      <td>34C</td>\n",
       "      <td>5' 7\"</td>\n",
       "      <td>4</td>\n",
       "      <td>True</td>\n",
       "      <td>140</td>\n",
       "      <td>C</td>\n",
       "      <td>34</td>\n",
       "      <td>92.5</td>\n",
       "      <td>75</td>\n",
       "      <td>5</td>\n",
       "      <td>7</td>\n",
       "      <td>67</td>\n",
       "      <td>6</td>\n",
       "    </tr>\n",
       "    <tr>\n",
       "      <th>1702</th>\n",
       "      <td>33</td>\n",
       "      <td>Full Bust</td>\n",
       "      <td>34D</td>\n",
       "      <td>5' 4\"</td>\n",
       "      <td>2</td>\n",
       "      <td>True</td>\n",
       "      <td>118</td>\n",
       "      <td>D</td>\n",
       "      <td>34</td>\n",
       "      <td>95.5</td>\n",
       "      <td>75</td>\n",
       "      <td>5</td>\n",
       "      <td>4</td>\n",
       "      <td>64</td>\n",
       "      <td>6</td>\n",
       "    </tr>\n",
       "    <tr>\n",
       "      <th>1704</th>\n",
       "      <td>32</td>\n",
       "      <td>Hourglass</td>\n",
       "      <td>36C</td>\n",
       "      <td>5' 6\"</td>\n",
       "      <td>8</td>\n",
       "      <td>True</td>\n",
       "      <td>145</td>\n",
       "      <td>C</td>\n",
       "      <td>36</td>\n",
       "      <td>98.0</td>\n",
       "      <td>80</td>\n",
       "      <td>5</td>\n",
       "      <td>6</td>\n",
       "      <td>66</td>\n",
       "      <td>6</td>\n",
       "    </tr>\n",
       "    <tr>\n",
       "      <th>1852</th>\n",
       "      <td>28</td>\n",
       "      <td>Petite</td>\n",
       "      <td>36C</td>\n",
       "      <td>5' 2\"</td>\n",
       "      <td>6</td>\n",
       "      <td>True</td>\n",
       "      <td>130</td>\n",
       "      <td>C</td>\n",
       "      <td>36</td>\n",
       "      <td>98.0</td>\n",
       "      <td>80</td>\n",
       "      <td>5</td>\n",
       "      <td>2</td>\n",
       "      <td>62</td>\n",
       "      <td>6</td>\n",
       "    </tr>\n",
       "    <tr>\n",
       "      <th>1877</th>\n",
       "      <td>29</td>\n",
       "      <td>Hourglass</td>\n",
       "      <td>34D</td>\n",
       "      <td>5' 4\"</td>\n",
       "      <td>8</td>\n",
       "      <td>True</td>\n",
       "      <td>150</td>\n",
       "      <td>D</td>\n",
       "      <td>34</td>\n",
       "      <td>95.5</td>\n",
       "      <td>75</td>\n",
       "      <td>5</td>\n",
       "      <td>4</td>\n",
       "      <td>64</td>\n",
       "      <td>6</td>\n",
       "    </tr>\n",
       "    <tr>\n",
       "      <th>2058</th>\n",
       "      <td>32</td>\n",
       "      <td>Athletic</td>\n",
       "      <td>34B</td>\n",
       "      <td>5' 7\"</td>\n",
       "      <td>4</td>\n",
       "      <td>True</td>\n",
       "      <td>135</td>\n",
       "      <td>B</td>\n",
       "      <td>34</td>\n",
       "      <td>90.0</td>\n",
       "      <td>75</td>\n",
       "      <td>5</td>\n",
       "      <td>7</td>\n",
       "      <td>67</td>\n",
       "      <td>6</td>\n",
       "    </tr>\n",
       "    <tr>\n",
       "      <th>2069</th>\n",
       "      <td>28</td>\n",
       "      <td>Athletic</td>\n",
       "      <td>34B</td>\n",
       "      <td>5' 8\"</td>\n",
       "      <td>8</td>\n",
       "      <td>True</td>\n",
       "      <td>155</td>\n",
       "      <td>B</td>\n",
       "      <td>34</td>\n",
       "      <td>90.0</td>\n",
       "      <td>75</td>\n",
       "      <td>5</td>\n",
       "      <td>8</td>\n",
       "      <td>68</td>\n",
       "      <td>6</td>\n",
       "    </tr>\n",
       "    <tr>\n",
       "      <th>2159</th>\n",
       "      <td>28</td>\n",
       "      <td>Straight &amp; narrow</td>\n",
       "      <td>32A</td>\n",
       "      <td>5' 6\"</td>\n",
       "      <td>0</td>\n",
       "      <td>True</td>\n",
       "      <td>110</td>\n",
       "      <td>A</td>\n",
       "      <td>32</td>\n",
       "      <td>82.5</td>\n",
       "      <td>75</td>\n",
       "      <td>5</td>\n",
       "      <td>6</td>\n",
       "      <td>66</td>\n",
       "      <td>6</td>\n",
       "    </tr>\n",
       "    <tr>\n",
       "      <th>2562</th>\n",
       "      <td>33</td>\n",
       "      <td>Apple</td>\n",
       "      <td>34C</td>\n",
       "      <td>5' 7\"</td>\n",
       "      <td>4</td>\n",
       "      <td>True</td>\n",
       "      <td>130</td>\n",
       "      <td>C</td>\n",
       "      <td>34</td>\n",
       "      <td>92.5</td>\n",
       "      <td>75</td>\n",
       "      <td>5</td>\n",
       "      <td>7</td>\n",
       "      <td>67</td>\n",
       "      <td>6</td>\n",
       "    </tr>\n",
       "    <tr>\n",
       "      <th>2712</th>\n",
       "      <td>34</td>\n",
       "      <td>Athletic</td>\n",
       "      <td>32C</td>\n",
       "      <td>5' 3\"</td>\n",
       "      <td>4</td>\n",
       "      <td>True</td>\n",
       "      <td>130</td>\n",
       "      <td>C</td>\n",
       "      <td>32</td>\n",
       "      <td>87.5</td>\n",
       "      <td>75</td>\n",
       "      <td>5</td>\n",
       "      <td>3</td>\n",
       "      <td>63</td>\n",
       "      <td>6</td>\n",
       "    </tr>\n",
       "    <tr>\n",
       "      <th>2741</th>\n",
       "      <td>30</td>\n",
       "      <td>Hourglass</td>\n",
       "      <td>36C</td>\n",
       "      <td>5' 7\"</td>\n",
       "      <td>12</td>\n",
       "      <td>True</td>\n",
       "      <td>190</td>\n",
       "      <td>C</td>\n",
       "      <td>36</td>\n",
       "      <td>98.0</td>\n",
       "      <td>80</td>\n",
       "      <td>5</td>\n",
       "      <td>7</td>\n",
       "      <td>67</td>\n",
       "      <td>6</td>\n",
       "    </tr>\n",
       "    <tr>\n",
       "      <th>2837</th>\n",
       "      <td>29</td>\n",
       "      <td>Hourglass</td>\n",
       "      <td>36D</td>\n",
       "      <td>5' 5\"</td>\n",
       "      <td>4</td>\n",
       "      <td>True</td>\n",
       "      <td>120</td>\n",
       "      <td>D</td>\n",
       "      <td>36</td>\n",
       "      <td>100.0</td>\n",
       "      <td>80</td>\n",
       "      <td>5</td>\n",
       "      <td>5</td>\n",
       "      <td>65</td>\n",
       "      <td>6</td>\n",
       "    </tr>\n",
       "    <tr>\n",
       "      <th>2838</th>\n",
       "      <td>34</td>\n",
       "      <td>Athletic</td>\n",
       "      <td>32B</td>\n",
       "      <td>5' 4\"</td>\n",
       "      <td>2</td>\n",
       "      <td>True</td>\n",
       "      <td>115</td>\n",
       "      <td>B</td>\n",
       "      <td>32</td>\n",
       "      <td>85.0</td>\n",
       "      <td>75</td>\n",
       "      <td>5</td>\n",
       "      <td>4</td>\n",
       "      <td>64</td>\n",
       "      <td>6</td>\n",
       "    </tr>\n",
       "    <tr>\n",
       "      <th>2952</th>\n",
       "      <td>36</td>\n",
       "      <td>Petite</td>\n",
       "      <td>32B</td>\n",
       "      <td>5' 3\"</td>\n",
       "      <td>2</td>\n",
       "      <td>True</td>\n",
       "      <td>116</td>\n",
       "      <td>B</td>\n",
       "      <td>32</td>\n",
       "      <td>85.0</td>\n",
       "      <td>75</td>\n",
       "      <td>5</td>\n",
       "      <td>3</td>\n",
       "      <td>63</td>\n",
       "      <td>6</td>\n",
       "    </tr>\n",
       "    <tr>\n",
       "      <th>2969</th>\n",
       "      <td>31</td>\n",
       "      <td>Petite</td>\n",
       "      <td>32C</td>\n",
       "      <td>5' 2\"</td>\n",
       "      <td>0</td>\n",
       "      <td>True</td>\n",
       "      <td>103</td>\n",
       "      <td>C</td>\n",
       "      <td>32</td>\n",
       "      <td>87.5</td>\n",
       "      <td>75</td>\n",
       "      <td>5</td>\n",
       "      <td>2</td>\n",
       "      <td>62</td>\n",
       "      <td>6</td>\n",
       "    </tr>\n",
       "    <tr>\n",
       "      <th>2987</th>\n",
       "      <td>33</td>\n",
       "      <td>Full Bust</td>\n",
       "      <td>32D</td>\n",
       "      <td>5' 4\"</td>\n",
       "      <td>4</td>\n",
       "      <td>True</td>\n",
       "      <td>135</td>\n",
       "      <td>D</td>\n",
       "      <td>32</td>\n",
       "      <td>90.0</td>\n",
       "      <td>75</td>\n",
       "      <td>5</td>\n",
       "      <td>4</td>\n",
       "      <td>64</td>\n",
       "      <td>6</td>\n",
       "    </tr>\n",
       "    <tr>\n",
       "      <th>3028</th>\n",
       "      <td>34</td>\n",
       "      <td>Hourglass</td>\n",
       "      <td>38D+</td>\n",
       "      <td>5' 7\"</td>\n",
       "      <td>12</td>\n",
       "      <td>True</td>\n",
       "      <td>167</td>\n",
       "      <td>DD</td>\n",
       "      <td>38</td>\n",
       "      <td>108.0</td>\n",
       "      <td>85</td>\n",
       "      <td>5</td>\n",
       "      <td>7</td>\n",
       "      <td>67</td>\n",
       "      <td>6</td>\n",
       "    </tr>\n",
       "    <tr>\n",
       "      <th>3058</th>\n",
       "      <td>33</td>\n",
       "      <td>Pear</td>\n",
       "      <td>32D</td>\n",
       "      <td>5' 9\"</td>\n",
       "      <td>6</td>\n",
       "      <td>True</td>\n",
       "      <td>135</td>\n",
       "      <td>D</td>\n",
       "      <td>32</td>\n",
       "      <td>90.0</td>\n",
       "      <td>75</td>\n",
       "      <td>5</td>\n",
       "      <td>9</td>\n",
       "      <td>69</td>\n",
       "      <td>6</td>\n",
       "    </tr>\n",
       "    <tr>\n",
       "      <th>3443</th>\n",
       "      <td>55</td>\n",
       "      <td>Full Bust</td>\n",
       "      <td>36D</td>\n",
       "      <td>5' 7\"</td>\n",
       "      <td>6</td>\n",
       "      <td>True</td>\n",
       "      <td>150</td>\n",
       "      <td>D</td>\n",
       "      <td>36</td>\n",
       "      <td>100.0</td>\n",
       "      <td>80</td>\n",
       "      <td>5</td>\n",
       "      <td>7</td>\n",
       "      <td>67</td>\n",
       "      <td>6</td>\n",
       "    </tr>\n",
       "    <tr>\n",
       "      <th>3444</th>\n",
       "      <td>30</td>\n",
       "      <td>Hourglass</td>\n",
       "      <td>38D</td>\n",
       "      <td>5' 8\"</td>\n",
       "      <td>16</td>\n",
       "      <td>True</td>\n",
       "      <td>215</td>\n",
       "      <td>D</td>\n",
       "      <td>38</td>\n",
       "      <td>105.5</td>\n",
       "      <td>85</td>\n",
       "      <td>5</td>\n",
       "      <td>8</td>\n",
       "      <td>68</td>\n",
       "      <td>6</td>\n",
       "    </tr>\n",
       "    <tr>\n",
       "      <th>3515</th>\n",
       "      <td>29</td>\n",
       "      <td>Straight &amp; narrow</td>\n",
       "      <td>34B</td>\n",
       "      <td>5' 5\"</td>\n",
       "      <td>4</td>\n",
       "      <td>True</td>\n",
       "      <td>120</td>\n",
       "      <td>B</td>\n",
       "      <td>34</td>\n",
       "      <td>90.0</td>\n",
       "      <td>75</td>\n",
       "      <td>5</td>\n",
       "      <td>5</td>\n",
       "      <td>65</td>\n",
       "      <td>6</td>\n",
       "    </tr>\n",
       "    <tr>\n",
       "      <th>3899</th>\n",
       "      <td>28</td>\n",
       "      <td>Hourglass</td>\n",
       "      <td>36C</td>\n",
       "      <td>5' 6\"</td>\n",
       "      <td>8</td>\n",
       "      <td>True</td>\n",
       "      <td>150</td>\n",
       "      <td>C</td>\n",
       "      <td>36</td>\n",
       "      <td>98.0</td>\n",
       "      <td>80</td>\n",
       "      <td>5</td>\n",
       "      <td>6</td>\n",
       "      <td>66</td>\n",
       "      <td>6</td>\n",
       "    </tr>\n",
       "    <tr>\n",
       "      <th>3960</th>\n",
       "      <td>38</td>\n",
       "      <td>Athletic</td>\n",
       "      <td>34A</td>\n",
       "      <td>5' 5\"</td>\n",
       "      <td>4</td>\n",
       "      <td>True</td>\n",
       "      <td>125</td>\n",
       "      <td>A</td>\n",
       "      <td>34</td>\n",
       "      <td>87.5</td>\n",
       "      <td>75</td>\n",
       "      <td>5</td>\n",
       "      <td>5</td>\n",
       "      <td>65</td>\n",
       "      <td>6</td>\n",
       "    </tr>\n",
       "    <tr>\n",
       "      <th>4112</th>\n",
       "      <td>33</td>\n",
       "      <td>Pear</td>\n",
       "      <td>32B</td>\n",
       "      <td>5' 4\"</td>\n",
       "      <td>0</td>\n",
       "      <td>True</td>\n",
       "      <td>120</td>\n",
       "      <td>B</td>\n",
       "      <td>32</td>\n",
       "      <td>85.0</td>\n",
       "      <td>75</td>\n",
       "      <td>5</td>\n",
       "      <td>4</td>\n",
       "      <td>64</td>\n",
       "      <td>6</td>\n",
       "    </tr>\n",
       "    <tr>\n",
       "      <th>4626</th>\n",
       "      <td>34</td>\n",
       "      <td>Full Bust</td>\n",
       "      <td>36D</td>\n",
       "      <td>5' 2\"</td>\n",
       "      <td>10</td>\n",
       "      <td>True</td>\n",
       "      <td>140</td>\n",
       "      <td>D</td>\n",
       "      <td>36</td>\n",
       "      <td>100.0</td>\n",
       "      <td>80</td>\n",
       "      <td>5</td>\n",
       "      <td>2</td>\n",
       "      <td>62</td>\n",
       "      <td>6</td>\n",
       "    </tr>\n",
       "    <tr>\n",
       "      <th>4728</th>\n",
       "      <td>33</td>\n",
       "      <td>Hourglass</td>\n",
       "      <td>34C</td>\n",
       "      <td>5' 7\"</td>\n",
       "      <td>6</td>\n",
       "      <td>True</td>\n",
       "      <td>142</td>\n",
       "      <td>C</td>\n",
       "      <td>34</td>\n",
       "      <td>92.5</td>\n",
       "      <td>75</td>\n",
       "      <td>5</td>\n",
       "      <td>7</td>\n",
       "      <td>67</td>\n",
       "      <td>6</td>\n",
       "    </tr>\n",
       "    <tr>\n",
       "      <th>4856</th>\n",
       "      <td>32</td>\n",
       "      <td>Full Bust</td>\n",
       "      <td>32D</td>\n",
       "      <td>5' 5\"</td>\n",
       "      <td>0</td>\n",
       "      <td>True</td>\n",
       "      <td>125</td>\n",
       "      <td>D</td>\n",
       "      <td>32</td>\n",
       "      <td>90.0</td>\n",
       "      <td>75</td>\n",
       "      <td>5</td>\n",
       "      <td>5</td>\n",
       "      <td>65</td>\n",
       "      <td>6</td>\n",
       "    </tr>\n",
       "    <tr>\n",
       "      <th>5188</th>\n",
       "      <td>28</td>\n",
       "      <td>Hourglass</td>\n",
       "      <td>34D</td>\n",
       "      <td>5' 5\"</td>\n",
       "      <td>6</td>\n",
       "      <td>True</td>\n",
       "      <td>128</td>\n",
       "      <td>D</td>\n",
       "      <td>34</td>\n",
       "      <td>95.5</td>\n",
       "      <td>75</td>\n",
       "      <td>5</td>\n",
       "      <td>5</td>\n",
       "      <td>65</td>\n",
       "      <td>6</td>\n",
       "    </tr>\n",
       "    <tr>\n",
       "      <th>6361</th>\n",
       "      <td>34</td>\n",
       "      <td>Full Bust</td>\n",
       "      <td>36D</td>\n",
       "      <td>5' 2\"</td>\n",
       "      <td>10</td>\n",
       "      <td>True</td>\n",
       "      <td>140</td>\n",
       "      <td>D</td>\n",
       "      <td>36</td>\n",
       "      <td>100.0</td>\n",
       "      <td>80</td>\n",
       "      <td>5</td>\n",
       "      <td>2</td>\n",
       "      <td>62</td>\n",
       "      <td>6</td>\n",
       "    </tr>\n",
       "    <tr>\n",
       "      <th>6757</th>\n",
       "      <td>35</td>\n",
       "      <td>Petite</td>\n",
       "      <td>32B</td>\n",
       "      <td>5' 2\"</td>\n",
       "      <td>0</td>\n",
       "      <td>True</td>\n",
       "      <td>120</td>\n",
       "      <td>B</td>\n",
       "      <td>32</td>\n",
       "      <td>85.0</td>\n",
       "      <td>75</td>\n",
       "      <td>5</td>\n",
       "      <td>2</td>\n",
       "      <td>62</td>\n",
       "      <td>6</td>\n",
       "    </tr>\n",
       "    <tr>\n",
       "      <th>6826</th>\n",
       "      <td>33</td>\n",
       "      <td>Full Bust</td>\n",
       "      <td>36D</td>\n",
       "      <td>5' 1\"</td>\n",
       "      <td>12</td>\n",
       "      <td>True</td>\n",
       "      <td>175</td>\n",
       "      <td>D</td>\n",
       "      <td>36</td>\n",
       "      <td>100.0</td>\n",
       "      <td>80</td>\n",
       "      <td>5</td>\n",
       "      <td>1</td>\n",
       "      <td>61</td>\n",
       "      <td>6</td>\n",
       "    </tr>\n",
       "    <tr>\n",
       "      <th>7093</th>\n",
       "      <td>30</td>\n",
       "      <td>Hourglass</td>\n",
       "      <td>36D</td>\n",
       "      <td>5' 2\"</td>\n",
       "      <td>10</td>\n",
       "      <td>True</td>\n",
       "      <td>160</td>\n",
       "      <td>D</td>\n",
       "      <td>36</td>\n",
       "      <td>100.0</td>\n",
       "      <td>80</td>\n",
       "      <td>5</td>\n",
       "      <td>2</td>\n",
       "      <td>62</td>\n",
       "      <td>6</td>\n",
       "    </tr>\n",
       "    <tr>\n",
       "      <th>7120</th>\n",
       "      <td>34</td>\n",
       "      <td>Hourglass</td>\n",
       "      <td>34C</td>\n",
       "      <td>5' 4\"</td>\n",
       "      <td>6</td>\n",
       "      <td>True</td>\n",
       "      <td>130</td>\n",
       "      <td>C</td>\n",
       "      <td>34</td>\n",
       "      <td>92.5</td>\n",
       "      <td>75</td>\n",
       "      <td>5</td>\n",
       "      <td>4</td>\n",
       "      <td>64</td>\n",
       "      <td>6</td>\n",
       "    </tr>\n",
       "    <tr>\n",
       "      <th>7129</th>\n",
       "      <td>27</td>\n",
       "      <td>Athletic</td>\n",
       "      <td>34D</td>\n",
       "      <td>5' 5\"</td>\n",
       "      <td>4</td>\n",
       "      <td>True</td>\n",
       "      <td>135</td>\n",
       "      <td>D</td>\n",
       "      <td>34</td>\n",
       "      <td>95.5</td>\n",
       "      <td>75</td>\n",
       "      <td>5</td>\n",
       "      <td>5</td>\n",
       "      <td>65</td>\n",
       "      <td>6</td>\n",
       "    </tr>\n",
       "    <tr>\n",
       "      <th>7206</th>\n",
       "      <td>30</td>\n",
       "      <td>Athletic</td>\n",
       "      <td>36B</td>\n",
       "      <td>5' 7\"</td>\n",
       "      <td>8</td>\n",
       "      <td>True</td>\n",
       "      <td>156</td>\n",
       "      <td>B</td>\n",
       "      <td>36</td>\n",
       "      <td>95.5</td>\n",
       "      <td>80</td>\n",
       "      <td>5</td>\n",
       "      <td>7</td>\n",
       "      <td>67</td>\n",
       "      <td>6</td>\n",
       "    </tr>\n",
       "    <tr>\n",
       "      <th>7874</th>\n",
       "      <td>35</td>\n",
       "      <td>Apple</td>\n",
       "      <td>36D</td>\n",
       "      <td>5' 6\"</td>\n",
       "      <td>8</td>\n",
       "      <td>True</td>\n",
       "      <td>160</td>\n",
       "      <td>D</td>\n",
       "      <td>36</td>\n",
       "      <td>100.0</td>\n",
       "      <td>80</td>\n",
       "      <td>5</td>\n",
       "      <td>6</td>\n",
       "      <td>66</td>\n",
       "      <td>6</td>\n",
       "    </tr>\n",
       "    <tr>\n",
       "      <th>8766</th>\n",
       "      <td>37</td>\n",
       "      <td>Athletic</td>\n",
       "      <td>32C</td>\n",
       "      <td>5' 4\"</td>\n",
       "      <td>2</td>\n",
       "      <td>True</td>\n",
       "      <td>120</td>\n",
       "      <td>C</td>\n",
       "      <td>32</td>\n",
       "      <td>87.5</td>\n",
       "      <td>75</td>\n",
       "      <td>5</td>\n",
       "      <td>4</td>\n",
       "      <td>64</td>\n",
       "      <td>6</td>\n",
       "    </tr>\n",
       "    <tr>\n",
       "      <th>8797</th>\n",
       "      <td>30</td>\n",
       "      <td>Straight &amp; narrow</td>\n",
       "      <td>32B</td>\n",
       "      <td>5' 7\"</td>\n",
       "      <td>0</td>\n",
       "      <td>True</td>\n",
       "      <td>115</td>\n",
       "      <td>B</td>\n",
       "      <td>32</td>\n",
       "      <td>85.0</td>\n",
       "      <td>75</td>\n",
       "      <td>5</td>\n",
       "      <td>7</td>\n",
       "      <td>67</td>\n",
       "      <td>6</td>\n",
       "    </tr>\n",
       "    <tr>\n",
       "      <th>8968</th>\n",
       "      <td>34</td>\n",
       "      <td>Apple</td>\n",
       "      <td>34C</td>\n",
       "      <td>5' 3\"</td>\n",
       "      <td>0</td>\n",
       "      <td>True</td>\n",
       "      <td>155</td>\n",
       "      <td>C</td>\n",
       "      <td>34</td>\n",
       "      <td>92.5</td>\n",
       "      <td>75</td>\n",
       "      <td>5</td>\n",
       "      <td>3</td>\n",
       "      <td>63</td>\n",
       "      <td>6</td>\n",
       "    </tr>\n",
       "    <tr>\n",
       "      <th>9366</th>\n",
       "      <td>33</td>\n",
       "      <td>Hourglass</td>\n",
       "      <td>36D</td>\n",
       "      <td>5' 3\"</td>\n",
       "      <td>12</td>\n",
       "      <td>True</td>\n",
       "      <td>170</td>\n",
       "      <td>D</td>\n",
       "      <td>36</td>\n",
       "      <td>100.0</td>\n",
       "      <td>80</td>\n",
       "      <td>5</td>\n",
       "      <td>3</td>\n",
       "      <td>63</td>\n",
       "      <td>6</td>\n",
       "    </tr>\n",
       "    <tr>\n",
       "      <th>10315</th>\n",
       "      <td>38</td>\n",
       "      <td>Straight &amp; narrow</td>\n",
       "      <td>34B</td>\n",
       "      <td>5' 8\"</td>\n",
       "      <td>4</td>\n",
       "      <td>True</td>\n",
       "      <td>126</td>\n",
       "      <td>B</td>\n",
       "      <td>34</td>\n",
       "      <td>90.0</td>\n",
       "      <td>75</td>\n",
       "      <td>5</td>\n",
       "      <td>8</td>\n",
       "      <td>68</td>\n",
       "      <td>6</td>\n",
       "    </tr>\n",
       "  </tbody>\n",
       "</table>\n",
       "</div>"
      ],
      "text/plain": [
       "       age          body_type bust_size height  usually_wears pregnant  \\\n",
       "354     31          Hourglass       34D  5' 3\"              6     True   \n",
       "770     33               Pear       32B  5' 4\"              0     True   \n",
       "1010    36          Hourglass       34C  5' 6\"              6     True   \n",
       "1213    32  Straight & narrow       34C  5' 9\"              8     True   \n",
       "1240    29           Athletic       36D  5' 9\"              4     True   \n",
       "1266    28          Hourglass       34D  5' 5\"              6     True   \n",
       "1689    33               Pear       34C  5' 7\"              4     True   \n",
       "1702    33          Full Bust       34D  5' 4\"              2     True   \n",
       "1704    32          Hourglass       36C  5' 6\"              8     True   \n",
       "1852    28             Petite       36C  5' 2\"              6     True   \n",
       "1877    29          Hourglass       34D  5' 4\"              8     True   \n",
       "2058    32           Athletic       34B  5' 7\"              4     True   \n",
       "2069    28           Athletic       34B  5' 8\"              8     True   \n",
       "2159    28  Straight & narrow       32A  5' 6\"              0     True   \n",
       "2562    33              Apple       34C  5' 7\"              4     True   \n",
       "2712    34           Athletic       32C  5' 3\"              4     True   \n",
       "2741    30          Hourglass       36C  5' 7\"             12     True   \n",
       "2837    29          Hourglass       36D  5' 5\"              4     True   \n",
       "2838    34           Athletic       32B  5' 4\"              2     True   \n",
       "2952    36             Petite       32B  5' 3\"              2     True   \n",
       "2969    31             Petite       32C  5' 2\"              0     True   \n",
       "2987    33          Full Bust       32D  5' 4\"              4     True   \n",
       "3028    34          Hourglass      38D+  5' 7\"             12     True   \n",
       "3058    33               Pear       32D  5' 9\"              6     True   \n",
       "3443    55          Full Bust       36D  5' 7\"              6     True   \n",
       "3444    30          Hourglass       38D  5' 8\"             16     True   \n",
       "3515    29  Straight & narrow       34B  5' 5\"              4     True   \n",
       "3899    28          Hourglass       36C  5' 6\"              8     True   \n",
       "3960    38           Athletic       34A  5' 5\"              4     True   \n",
       "4112    33               Pear       32B  5' 4\"              0     True   \n",
       "4626    34          Full Bust       36D  5' 2\"             10     True   \n",
       "4728    33          Hourglass       34C  5' 7\"              6     True   \n",
       "4856    32          Full Bust       32D  5' 5\"              0     True   \n",
       "5188    28          Hourglass       34D  5' 5\"              6     True   \n",
       "6361    34          Full Bust       36D  5' 2\"             10     True   \n",
       "6757    35             Petite       32B  5' 2\"              0     True   \n",
       "6826    33          Full Bust       36D  5' 1\"             12     True   \n",
       "7093    30          Hourglass       36D  5' 2\"             10     True   \n",
       "7120    34          Hourglass       34C  5' 4\"              6     True   \n",
       "7129    27           Athletic       34D  5' 5\"              4     True   \n",
       "7206    30           Athletic       36B  5' 7\"              8     True   \n",
       "7874    35              Apple       36D  5' 6\"              8     True   \n",
       "8766    37           Athletic       32C  5' 4\"              2     True   \n",
       "8797    30  Straight & narrow       32B  5' 7\"              0     True   \n",
       "8968    34              Apple       34C  5' 3\"              0     True   \n",
       "9366    33          Hourglass       36D  5' 3\"             12     True   \n",
       "10315   38  Straight & narrow       34B  5' 8\"              4     True   \n",
       "\n",
       "       weight cup  band_size  upper_bust  under_bust  feet  inches  height_in  \\\n",
       "354       140   D         34        95.5          75     5       3         63   \n",
       "770       120   B         32        85.0          75     5       4         64   \n",
       "1010      138   C         34        92.5          75     5       6         66   \n",
       "1213      143   C         34        92.5          75     5       9         69   \n",
       "1240      150   D         36       100.0          80     5       9         69   \n",
       "1266      140   D         34        95.5          75     5       5         65   \n",
       "1689      140   C         34        92.5          75     5       7         67   \n",
       "1702      118   D         34        95.5          75     5       4         64   \n",
       "1704      145   C         36        98.0          80     5       6         66   \n",
       "1852      130   C         36        98.0          80     5       2         62   \n",
       "1877      150   D         34        95.5          75     5       4         64   \n",
       "2058      135   B         34        90.0          75     5       7         67   \n",
       "2069      155   B         34        90.0          75     5       8         68   \n",
       "2159      110   A         32        82.5          75     5       6         66   \n",
       "2562      130   C         34        92.5          75     5       7         67   \n",
       "2712      130   C         32        87.5          75     5       3         63   \n",
       "2741      190   C         36        98.0          80     5       7         67   \n",
       "2837      120   D         36       100.0          80     5       5         65   \n",
       "2838      115   B         32        85.0          75     5       4         64   \n",
       "2952      116   B         32        85.0          75     5       3         63   \n",
       "2969      103   C         32        87.5          75     5       2         62   \n",
       "2987      135   D         32        90.0          75     5       4         64   \n",
       "3028      167  DD         38       108.0          85     5       7         67   \n",
       "3058      135   D         32        90.0          75     5       9         69   \n",
       "3443      150   D         36       100.0          80     5       7         67   \n",
       "3444      215   D         38       105.5          85     5       8         68   \n",
       "3515      120   B         34        90.0          75     5       5         65   \n",
       "3899      150   C         36        98.0          80     5       6         66   \n",
       "3960      125   A         34        87.5          75     5       5         65   \n",
       "4112      120   B         32        85.0          75     5       4         64   \n",
       "4626      140   D         36       100.0          80     5       2         62   \n",
       "4728      142   C         34        92.5          75     5       7         67   \n",
       "4856      125   D         32        90.0          75     5       5         65   \n",
       "5188      128   D         34        95.5          75     5       5         65   \n",
       "6361      140   D         36       100.0          80     5       2         62   \n",
       "6757      120   B         32        85.0          75     5       2         62   \n",
       "6826      175   D         36       100.0          80     5       1         61   \n",
       "7093      160   D         36       100.0          80     5       2         62   \n",
       "7120      130   C         34        92.5          75     5       4         64   \n",
       "7129      135   D         34        95.5          75     5       5         65   \n",
       "7206      156   B         36        95.5          80     5       7         67   \n",
       "7874      160   D         36       100.0          80     5       6         66   \n",
       "8766      120   C         32        87.5          75     5       4         64   \n",
       "8797      115   B         32        85.0          75     5       7         67   \n",
       "8968      155   C         34        92.5          75     5       3         63   \n",
       "9366      170   D         36       100.0          80     5       3         63   \n",
       "10315     126   B         34        90.0          75     5       8         68   \n",
       "\n",
       "       kmean_label  \n",
       "354              6  \n",
       "770              6  \n",
       "1010             6  \n",
       "1213             6  \n",
       "1240             6  \n",
       "1266             6  \n",
       "1689             6  \n",
       "1702             6  \n",
       "1704             6  \n",
       "1852             6  \n",
       "1877             6  \n",
       "2058             6  \n",
       "2069             6  \n",
       "2159             6  \n",
       "2562             6  \n",
       "2712             6  \n",
       "2741             6  \n",
       "2837             6  \n",
       "2838             6  \n",
       "2952             6  \n",
       "2969             6  \n",
       "2987             6  \n",
       "3028             6  \n",
       "3058             6  \n",
       "3443             6  \n",
       "3444             6  \n",
       "3515             6  \n",
       "3899             6  \n",
       "3960             6  \n",
       "4112             6  \n",
       "4626             6  \n",
       "4728             6  \n",
       "4856             6  \n",
       "5188             6  \n",
       "6361             6  \n",
       "6757             6  \n",
       "6826             6  \n",
       "7093             6  \n",
       "7120             6  \n",
       "7129             6  \n",
       "7206             6  \n",
       "7874             6  \n",
       "8766             6  \n",
       "8797             6  \n",
       "8968             6  \n",
       "9366             6  \n",
       "10315            6  "
      ]
     },
     "execution_count": 119,
     "metadata": {},
     "output_type": "execute_result"
    }
   ],
   "source": [
    "df_body[df_body.kmean_label==6]"
   ]
  },
  {
   "cell_type": "code",
   "execution_count": 106,
   "metadata": {
    "collapsed": false
   },
   "outputs": [
    {
     "data": {
      "image/png": "[encoded data removed]",
      "text/plain": [
       "<matplotlib.figure.Figure at 0x119341be0>"
      ]
     },
     "metadata": {},
     "output_type": "display_data"
    }
   ],
   "source": [
    "plt.scatter(df_body['age'],df_body['weight'],c=km.labels_)\n",
    "plt.show()"
   ]
  },
  {
   "cell_type": "code",
   "execution_count": null,
   "metadata": {
    "collapsed": true
   },
   "outputs": [],
   "source": [
    "# Now categorize, based on dress, comments, overall_fit, size_worn\n"
   ]
  }
 ],
 "metadata": {
  "anaconda-cloud": {},
  "kernelspec": {
   "display_name": "Python [conda root]",
   "language": "python",
   "name": "conda-root-py"
  },
  "language_info": {
   "codemirror_mode": {
    "name": "ipython",
    "version": 3
   },
   "file_extension": ".py",
   "mimetype": "text/x-python",
   "name": "python",
   "nbconvert_exporter": "python",
   "pygments_lexer": "ipython3",
   "version": "3.5.2"
  }
 },
 "nbformat": 4,
 "nbformat_minor": 1
}
