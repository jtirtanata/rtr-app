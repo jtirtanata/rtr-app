{
 "cells": [
  {
   "cell_type": "markdown",
   "metadata": {},
   "source": [
    "## Scraping\n",
    "Fetching dress details, including dress image, using selenium."
   ]
  },
  {
   "cell_type": "code",
   "execution_count": 29,
   "metadata": {
    "collapsed": true
   },
   "outputs": [],
   "source": [
    "import json\n",
    "from pymongo import MongoClient\n",
    "import requests\n",
    "from bs4 import BeautifulSoup\n",
    "import time\n",
    "\n",
    "\n",
    "client = MongoClient('ec2-34-198-179-91.compute-1.amazonaws.com', 27017)\n",
    "db = client.fletcher\n",
    "rev_col = db.rtr_reviews\n",
    "dress_col = db.rtr_dresses"
   ]
  },
  {
   "cell_type": "code",
   "execution_count": 41,
   "metadata": {
    "collapsed": true
   },
   "outputs": [],
   "source": [
    "def update_dress(url, soup):\n",
    "    img_link = soup.find('img', class_='featured-image')['src']\n",
    "    retail_price = soup.find('div', class_='grid-product-card-price--retail').text\n",
    "    dress_col.update_one({'url': url}, {'$set' :{'img_link': img_link, 'retail_price': retail_price}})"
   ]
  },
  {
   "cell_type": "code",
   "execution_count": 13,
   "metadata": {
    "collapsed": true
   },
   "outputs": [],
   "source": [
    "dress_links = list(dress_col.find({}, {'url': 1, '_id': 0}))"
   ]
  },
  {
   "cell_type": "code",
   "execution_count": 48,
   "metadata": {
    "collapsed": false
   },
   "outputs": [],
   "source": [
    "for link in dress_links[1:]:\n",
    "    url = link['url']\n",
    "    soup = BeautifulSoup(requests.get(url).text, 'html.parser')\n",
    "    update_dress(url, soup)"
   ]
  },
  {
   "cell_type": "code",
   "execution_count": 51,
   "metadata": {
    "collapsed": false
   },
   "outputs": [],
   "source": [
    "cur = dress_col.find()\n",
    "images = []\n",
    "for i in range(5):\n",
    "    images.append(cur.next()['img_link'])"
   ]
  },
  {
   "cell_type": "code",
   "execution_count": 52,
   "metadata": {
    "collapsed": false
   },
   "outputs": [
    {
     "data": {
      "text/plain": [
       "['https://pc-ap.renttherunway.com/productimages/nomodel/1080x/a8/BM347.jpg',\n",
       " 'https://pc-ap.renttherunway.com/productimages/nomodel/1080x/42/JS84.jpg',\n",
       " 'https://pc-ap.renttherunway.com/productimages/front/1080x/f4/SW112.jpg',\n",
       " 'https://pc-ap.renttherunway.com/productimages/nomodel/1080x/4a/BM53.jpg',\n",
       " 'https://pc-ap.renttherunway.com/productimages/nomodel/1080x/57/AP30.jpg']"
      ]
     },
     "execution_count": 52,
     "metadata": {},
     "output_type": "execute_result"
    }
   ],
   "source": [
    "images"
   ]
  },
  {
   "cell_type": "code",
   "execution_count": null,
   "metadata": {
    "collapsed": true
   },
   "outputs": [],
   "source": []
  }
 ],
 "metadata": {
  "anaconda-cloud": {},
  "kernelspec": {
   "display_name": "Python [conda root]",
   "language": "python",
   "name": "conda-root-py"
  },
  "language_info": {
   "codemirror_mode": {
    "name": "ipython",
    "version": 3
   },
   "file_extension": ".py",
   "mimetype": "text/x-python",
   "name": "python",
   "nbconvert_exporter": "python",
   "pygments_lexer": "ipython3",
   "version": "3.5.2"
  }
 },
 "nbformat": 4,
 "nbformat_minor": 1
}
