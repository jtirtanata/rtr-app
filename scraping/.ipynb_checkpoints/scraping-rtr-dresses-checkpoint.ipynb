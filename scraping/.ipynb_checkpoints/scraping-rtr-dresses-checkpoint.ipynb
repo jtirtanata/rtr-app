{
 "cells": [
  {
   "cell_type": "markdown",
   "metadata": {},
   "source": [
    "## Scraping\n",
    "There's two sort of things that I want to scrape.\n",
    "1. Reviews \n",
    "2. Dress details"
   ]
  },
  {
   "cell_type": "code",
   "execution_count": 1,
   "metadata": {
    "collapsed": true
   },
   "outputs": [],
   "source": [
    "import json\n",
    "from pymongo import MongoClient\n",
    "import requests\n",
    "from bs4 import BeautifulSoup\n",
    "\n",
    "client = MongoClient('ec2-34-198-179-91.compute-1.amazonaws.com', 27017)\n",
    "db = client.fletcher\n",
    "rev_col = db.rtr_reviews\n",
    "dress_col = db.rtr_dresses"
   ]
  },
  {
   "cell_type": "code",
   "execution_count": 44,
   "metadata": {
    "collapsed": true
   },
   "outputs": [],
   "source": [
    "def insert_reviews(soup):\n",
    "    reviews = soup.find_all(class_= \"pdp-ind-review\")\n",
    "    url = soup.find('meta', {\"property\":\"og:url\"})['content']\n",
    "    for rev in reviews:\n",
    "        d = {}\n",
    "        reviewer_info = rev.find(class_='reviewer-info')\n",
    "        d['author'] = rev.find(\"span\", {\"itemprop\": \"author\"}).text\n",
    "        details = rev.find_all(class_ = 'review-detail-label')\n",
    "        for detail in details:\n",
    "            d[detail.text] = detail.next_sibling.text\n",
    "        review_content = rev.find(class_ = \"review-content\")\n",
    "        d['review'] = review_content.find(class_ = 'review-text').text\n",
    "        rating= review_content.find(class_=\"review-rating\")\n",
    "        if rating and rating['class'] and len(rating['class']) > 2:\n",
    "            d['rating'] = rating['class'][2]\n",
    "        d['date'] = review_content.find(\"meta\", {\"itemprop\": \"datePublished\"})['content']\n",
    "        d['title'] = review_content.find(class_ = 'review-title').text\n",
    "        d['url'] = url \n",
    "        nickname = rev.find('div', class_ = 'reviewer-nickname')\n",
    "        if nickname.find(class_ = 'top-contributer'):\n",
    "            d['top_contribute'] = True\n",
    "        rev_col.insert_one(d)"
   ]
  },
  {
   "cell_type": "code",
   "execution_count": 7,
   "metadata": {
    "collapsed": true
   },
   "outputs": [],
   "source": [
    "def insert_dress(soup, url):\n",
    "    d = {}\n",
    "    d['price'] = soup.find(class_='product-price__original').text\n",
    "    d['overall_rating'] = soup.find(class_=\"product-aggregate-rating__stars\")['class'][1]\n",
    "    d['designer_url'] = soup.find(\"h1\", class_ = 'product-designer').a['href']\n",
    "    d['designer_name'] = soup.find(\"h1\", class_ = 'product-designer').text\n",
    "    d['dress_name'] = soup.find(\"h2\", class_=\"display-name\").text\n",
    "    product_details = soup.find(\"div\", class_ = \"product-details\").find_all('details')\n",
    "    for pd in product_details:\n",
    "        det = pd.find('summary')\n",
    "        key = det.text \n",
    "        val = det.next_sibling.text\n",
    "        d[key] = val\n",
    "    d['url'] = url\n",
    "    dress_col.insert_one(d)"
   ]
  },
  {
   "cell_type": "code",
   "execution_count": 81,
   "metadata": {
    "collapsed": false
   },
   "outputs": [],
   "source": [
    "def insert_all_data(url):\n",
    "    soup = BeautifulSoup(requests.get(url).text, 'html.parser')\n",
    "    url = soup.find('meta', {\"property\":\"og:url\"})['content']\n",
    "    if exist_check(url):\n",
    "        return\n",
    "    print('inserting {}'.format(url))\n",
    "    pagination = soup.find('div', class_='review-pagination')\n",
    "    max_page = 0\n",
    "    if pagination:\n",
    "        max_page = int(pagination.find_all('span')[-1].text)\n",
    "    insert_reviews(soup)\n",
    "    insert_dress(soup, url)\n",
    "    if max_page > 1:\n",
    "        for i in range(2, max_page + 1):\n",
    "            next_url = url + '/review-p{}'.format(i)\n",
    "            req = requests.get(next_url)\n",
    "            soup = BeautifulSoup(req.text, \"html.parser\")\n",
    "            insert_reviews(soup)"
   ]
  },
  {
   "cell_type": "code",
   "execution_count": 90,
   "metadata": {
    "collapsed": true
   },
   "outputs": [],
   "source": [
    "def exist_check(url):\n",
    "    count = dress_col.find({\"url\": url}).count()\n",
    "    if count > 1:\n",
    "        print(\"ERROR: {} is already a duplicate\".format(url))\n",
    "    return count > 0"
   ]
  },
  {
   "cell_type": "code",
   "execution_count": 83,
   "metadata": {
    "collapsed": true
   },
   "outputs": [],
   "source": [
    "def find_dress_links(soup):\n",
    "    all_dresses = soup.find_all('a', class_ = 'grid-product-card-inner')\n",
    "    links = []\n",
    "    for dress in all_dresses:\n",
    "        links.append(dress['href'])\n",
    "    return links"
   ]
  },
  {
   "cell_type": "code",
   "execution_count": 95,
   "metadata": {
    "collapsed": false
   },
   "outputs": [],
   "source": [
    "def fetch_page(i = None, url='https://www.renttherunway.com/products/dress?action=click_all_dresses&nav_location=mainmenu&object_type=top_nav&page='):\n",
    "    if i:\n",
    "        url = url + str(i)\n",
    "    links = find_dress_links(BeautifulSoup(requests.get(url).text, 'html.parser'))\n",
    "    for link in links:\n",
    "        insert_all_data('https://www.renttherunway.com' + link)"
   ]
  },
  {
   "cell_type": "code",
   "execution_count": 92,
   "metadata": {
    "collapsed": false
   },
   "outputs": [],
   "source": [
    "def print_counts():\n",
    "    print(rev_col.count())\n",
    "    print(dress_col.count())"
   ]
  },
  {
   "cell_type": "code",
   "execution_count": null,
   "metadata": {
    "collapsed": false
   },
   "outputs": [],
   "source": [
    "for i in range(7):\n",
    "    fetch_page(i)"
   ]
  },
  {
   "cell_type": "code",
   "execution_count": 98,
   "metadata": {
    "collapsed": false
   },
   "outputs": [
    {
     "name": "stdout",
     "output_type": "stream",
     "text": [
      "inserting https://www.renttherunway.com/shop/designers/parker/hanging_beads_dress\n",
      "inserting https://www.renttherunway.com/shop/designers/nicole_miller/blue_jasmine_dress\n",
      "inserting https://www.renttherunway.com/shop/designers/cut_25/keep_him_guessing_gown\n",
      "inserting https://www.renttherunway.com/shop/designers/shoshanna/lace_daria_dress\n",
      "inserting https://www.renttherunway.com/shop/designers/dsquared2/dorothy_dress\n",
      "inserting https://www.renttherunway.com/shop/designers/elizabeth_and_james/such_a_tease_dress\n",
      "inserting https://www.renttherunway.com/shop/designers/mark__james_by_badgley_mischka/mini_sequin_pixie_dress\n",
      "inserting https://www.renttherunway.com/shop/designers/bcbgmaxazria/rose_mist_sheath\n",
      "inserting https://www.renttherunway.com/shop/designers/tracy_reese/fluttering_lace_sheath\n",
      "inserting https://www.renttherunway.com/shop/designers/catherine_deane/roslyn_sheath\n",
      "inserting https://www.renttherunway.com/shop/designers/cut_25/hard_rock_sheath\n"
     ]
    }
   ],
   "source": [
    "additional_urls = ['https://www.renttherunway.com/shop/long_sleeve_dreeses/products?nav_location=submenu&action=click_long_sleeve_dreeses&object_type=top_nav',\n",
    "                   '']"
   ]
  },
  {
   "cell_type": "code",
   "execution_count": 100,
   "metadata": {
    "collapsed": false
   },
   "outputs": [
    {
     "name": "stdout",
     "output_type": "stream",
     "text": [
      "31280\n",
      "90\n"
     ]
    }
   ],
   "source": [
    "print_counts()"
   ]
  },
  {
   "cell_type": "code",
   "execution_count": null,
   "metadata": {
    "collapsed": true
   },
   "outputs": [],
   "source": []
  }
 ],
 "metadata": {
  "anaconda-cloud": {},
  "kernelspec": {
   "display_name": "Python [conda root]",
   "language": "python",
   "name": "conda-root-py"
  },
  "language_info": {
   "codemirror_mode": {
    "name": "ipython",
    "version": 3
   },
   "file_extension": ".py",
   "mimetype": "text/x-python",
   "name": "python",
   "nbconvert_exporter": "python",
   "pygments_lexer": "ipython3",
   "version": "3.5.2"
  }
 },
 "nbformat": 4,
 "nbformat_minor": 1
}
