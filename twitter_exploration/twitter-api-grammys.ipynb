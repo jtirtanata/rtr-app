{
 "cells": [
  {
   "cell_type": "code",
   "execution_count": 1,
   "metadata": {
    "collapsed": true
   },
   "outputs": [],
   "source": [
    "import requests\n",
    "from requests_oauthlib import OAuth1"
   ]
  },
  {
   "cell_type": "code",
   "execution_count": 2,
   "metadata": {
    "collapsed": true
   },
   "outputs": [],
   "source": [
    "import urllib\n",
    "import cnfg\n",
    "from pprint import pprint\n",
    "config = cnfg.load(\".twitter_config\")"
   ]
  },
  {
   "cell_type": "code",
   "execution_count": 3,
   "metadata": {
    "collapsed": false
   },
   "outputs": [],
   "source": [
    "oauth = OAuth1(config[\"consumer_key\"],\n",
    "               config[\"consumer_secret\"],\n",
    "               config[\"access_token\"],\n",
    "               config[\"access_token_secret\"])"
   ]
  },
  {
   "cell_type": "code",
   "execution_count": 4,
   "metadata": {
    "collapsed": true
   },
   "outputs": [],
   "source": [
    "import json\n",
    "from pymongo import MongoClient\n",
    "\n",
    "client = MongoClient()\n",
    "db = client.fletcher\n",
    "grammy_col = db.grammy"
   ]
  },
  {
   "cell_type": "code",
   "execution_count": 5,
   "metadata": {
    "collapsed": true
   },
   "outputs": [],
   "source": [
    "main_keys = ['created_at', 'id', 'in_reply_to_status_id', 'in_reply_to_user_id', 'retweet_count', 'text']\n",
    "user_keys = ['created_at', 'description', 'followers_count', 'friends_count', 'id', 'location', 'name', 'screen_name']\n",
    "def insertTweet(collection, tweet):\n",
    "    data = {}\n",
    "    for key in main_keys:\n",
    "        data[key] = tweet[key]\n",
    "    for key in user_keys:\n",
    "        data[\"user_\" + key] = tweet['user'][key]\n",
    "    collection.insert_one(data)\n",
    "        "
   ]
  },
  {
   "cell_type": "code",
   "execution_count": 89,
   "metadata": {
    "collapsed": true
   },
   "outputs": [],
   "source": [
    "parameters = {\"q\": \"%23grammys+OR%23grammy\", \"count\":100, \"until\": \"2017-02-13\", \"lang\":\"en\", \"max_id\": \"830816541583278080\"}\n",
    "response = requests.get(\"https://api.twitter.com/1.1/search/tweets.json\",\n",
    "                        params = parameters,\n",
    "                        auth=oauth)"
   ]
  },
  {
   "cell_type": "code",
   "execution_count": 91,
   "metadata": {
    "collapsed": false
   },
   "outputs": [
    {
     "name": "stdout",
     "output_type": "stream",
     "text": [
      "?max_id=830816492459540479&q=%2523grammys%2BOR%2523grammy%20until%3A2017-02-13&lang=en&count=100&include_entities=1\n"
     ]
    }
   ],
   "source": [
    "n_params = response.json()[\"search_metadata\"]['next_results']\n",
    "print(n_params)"
   ]
  },
  {
   "cell_type": "code",
   "execution_count": 92,
   "metadata": {
    "collapsed": false
   },
   "outputs": [],
   "source": [
    "twitter_response = response.json()['statuses']\n",
    "for tweet in twitter_response:\n",
    "    insertTweet(grammy_col, tweet)"
   ]
  },
  {
   "cell_type": "code",
   "execution_count": 35,
   "metadata": {
    "collapsed": true
   },
   "outputs": [],
   "source": [
    "import time"
   ]
  },
  {
   "cell_type": "code",
   "execution_count": 93,
   "metadata": {
    "collapsed": false
   },
   "outputs": [
    {
     "name": "stdout",
     "output_type": "stream",
     "text": [
      "?max_id=830816444669636607&q=%2523grammys%2BOR%2523grammy%20until%3A2017-02-13&lang=en&count=100&include_entities=1\n",
      "?max_id=830816386414899199&q=%2523grammys%2BOR%2523grammy%20until%3A2017-02-13&lang=en&count=100&include_entities=1\n",
      "?max_id=830816314511986687&q=%2523grammys%2BOR%2523grammy%20until%3A2017-02-13&lang=en&count=100&include_entities=1\n",
      "?max_id=830816237680680961&q=%2523grammys%2BOR%2523grammy%20until%3A2017-02-13&lang=en&count=100&include_entities=1\n",
      "?max_id=830816146752409600&q=%2523grammys%2BOR%2523grammy%20until%3A2017-02-13&lang=en&count=100&include_entities=1\n",
      "?max_id=830816072290938879&q=%2523grammys%2BOR%2523grammy%20until%3A2017-02-13&lang=en&count=100&include_entities=1\n",
      "?max_id=830815982469910527&q=%2523grammys%2BOR%2523grammy%20until%3A2017-02-13&lang=en&count=100&include_entities=1\n",
      "?max_id=830815900685066239&q=%2523grammys%2BOR%2523grammy%20until%3A2017-02-13&lang=en&count=100&include_entities=1\n",
      "?max_id=830815818279694336&q=%2523grammys%2BOR%2523grammy%20until%3A2017-02-13&lang=en&count=100&include_entities=1\n",
      "?max_id=830815730673315841&q=%2523grammys%2BOR%2523grammy%20until%3A2017-02-13&lang=en&count=100&include_entities=1\n",
      "?max_id=830815647231729663&q=%2523grammys%2BOR%2523grammy%20until%3A2017-02-13&lang=en&count=100&include_entities=1\n",
      "?max_id=830815568492130303&q=%2523grammys%2BOR%2523grammy%20until%3A2017-02-13&lang=en&count=100&include_entities=1\n",
      "?max_id=830815486401208324&q=%2523grammys%2BOR%2523grammy%20until%3A2017-02-13&lang=en&count=100&include_entities=1\n",
      "?max_id=830815405811855363&q=%2523grammys%2BOR%2523grammy%20until%3A2017-02-13&lang=en&count=100&include_entities=1\n",
      "?max_id=830815308847865855&q=%2523grammys%2BOR%2523grammy%20until%3A2017-02-13&lang=en&count=100&include_entities=1\n",
      "?max_id=830815206884438017&q=%2523grammys%2BOR%2523grammy%20until%3A2017-02-13&lang=en&count=100&include_entities=1\n",
      "?max_id=830815125250650111&q=%2523grammys%2BOR%2523grammy%20until%3A2017-02-13&lang=en&count=100&include_entities=1\n",
      "?max_id=830815038088822784&q=%2523grammys%2BOR%2523grammy%20until%3A2017-02-13&lang=en&count=100&include_entities=1\n",
      "?max_id=830814955888848895&q=%2523grammys%2BOR%2523grammy%20until%3A2017-02-13&lang=en&count=100&include_entities=1\n",
      "?max_id=830814872636108799&q=%2523grammys%2BOR%2523grammy%20until%3A2017-02-13&lang=en&count=100&include_entities=1\n",
      "?max_id=830814781166776319&q=%2523grammys%2BOR%2523grammy%20until%3A2017-02-13&lang=en&count=100&include_entities=1\n",
      "?max_id=830814690997575681&q=%2523grammys%2BOR%2523grammy%20until%3A2017-02-13&lang=en&count=100&include_entities=1\n",
      "?max_id=830814637667004421&q=%2523grammys%2BOR%2523grammy%20until%3A2017-02-13&lang=en&count=100&include_entities=1\n",
      "?max_id=830814594889289729&q=%2523grammys%2BOR%2523grammy%20until%3A2017-02-13&lang=en&count=100&include_entities=1\n",
      "?max_id=830814514870362111&q=%2523grammys%2BOR%2523grammy%20until%3A2017-02-13&lang=en&count=100&include_entities=1\n",
      "?max_id=830814426014085120&q=%2523grammys%2BOR%2523grammy%20until%3A2017-02-13&lang=en&count=100&include_entities=1\n",
      "?max_id=830814331994505215&q=%2523grammys%2BOR%2523grammy%20until%3A2017-02-13&lang=en&count=100&include_entities=1\n",
      "?max_id=830814238314733569&q=%2523grammys%2BOR%2523grammy%20until%3A2017-02-13&lang=en&count=100&include_entities=1\n",
      "?max_id=830814157909925887&q=%2523grammys%2BOR%2523grammy%20until%3A2017-02-13&lang=en&count=100&include_entities=1\n",
      "?max_id=830814086422224895&q=%2523grammys%2BOR%2523grammy%20until%3A2017-02-13&lang=en&count=100&include_entities=1\n",
      "?max_id=830814004390088703&q=%2523grammys%2BOR%2523grammy%20until%3A2017-02-13&lang=en&count=100&include_entities=1\n",
      "?max_id=830813907090538497&q=%2523grammys%2BOR%2523grammy%20until%3A2017-02-13&lang=en&count=100&include_entities=1\n",
      "?max_id=830813832037691391&q=%2523grammys%2BOR%2523grammy%20until%3A2017-02-13&lang=en&count=100&include_entities=1\n",
      "?max_id=830813750571724799&q=%2523grammys%2BOR%2523grammy%20until%3A2017-02-13&lang=en&count=100&include_entities=1\n",
      "?max_id=830813673442643967&q=%2523grammys%2BOR%2523grammy%20until%3A2017-02-13&lang=en&count=100&include_entities=1\n",
      "?max_id=830813590311534592&q=%2523grammys%2BOR%2523grammy%20until%3A2017-02-13&lang=en&count=100&include_entities=1\n",
      "?max_id=830813506740031488&q=%2523grammys%2BOR%2523grammy%20until%3A2017-02-13&lang=en&count=100&include_entities=1\n",
      "?max_id=830813420756819969&q=%2523grammys%2BOR%2523grammy%20until%3A2017-02-13&lang=en&count=100&include_entities=1\n",
      "?max_id=830813326410149889&q=%2523grammys%2BOR%2523grammy%20until%3A2017-02-13&lang=en&count=100&include_entities=1\n",
      "?max_id=830813234043113471&q=%2523grammys%2BOR%2523grammy%20until%3A2017-02-13&lang=en&count=100&include_entities=1\n",
      "?max_id=830813139394523136&q=%2523grammys%2BOR%2523grammy%20until%3A2017-02-13&lang=en&count=100&include_entities=1\n",
      "?max_id=830813051666460671&q=%2523grammys%2BOR%2523grammy%20until%3A2017-02-13&lang=en&count=100&include_entities=1\n",
      "?max_id=830812958783578112&q=%2523grammys%2BOR%2523grammy%20until%3A2017-02-13&lang=en&count=100&include_entities=1\n",
      "?max_id=830812881402859520&q=%2523grammys%2BOR%2523grammy%20until%3A2017-02-13&lang=en&count=100&include_entities=1\n",
      "?max_id=830812805917974528&q=%2523grammys%2BOR%2523grammy%20until%3A2017-02-13&lang=en&count=100&include_entities=1\n"
     ]
    },
    {
     "ename": "KeyError",
     "evalue": "'next_results'",
     "output_type": "error",
     "traceback": [
      "\u001b[0;31m---------------------------------------------------------------------------\u001b[0m",
      "\u001b[0;31mKeyError\u001b[0m                                  Traceback (most recent call last)",
      "\u001b[0;32m<ipython-input-93-70992d38e4b3>\u001b[0m in \u001b[0;36m<module>\u001b[0;34m()\u001b[0m\n\u001b[1;32m      2\u001b[0m     \u001b[0;32mfor\u001b[0m \u001b[0mi\u001b[0m \u001b[0;32min\u001b[0m \u001b[0mrange\u001b[0m\u001b[0;34m(\u001b[0m\u001b[0;36m49\u001b[0m\u001b[0;34m)\u001b[0m\u001b[0;34m:\u001b[0m\u001b[0;34m\u001b[0m\u001b[0m\n\u001b[1;32m      3\u001b[0m         \u001b[0mresponse\u001b[0m \u001b[0;34m=\u001b[0m \u001b[0mrequests\u001b[0m\u001b[0;34m.\u001b[0m\u001b[0mget\u001b[0m\u001b[0;34m(\u001b[0m\u001b[0;34m\"https://api.twitter.com/1.1/search/tweets.json\"\u001b[0m \u001b[0;34m+\u001b[0m \u001b[0mn_params\u001b[0m\u001b[0;34m,\u001b[0m \u001b[0mauth\u001b[0m\u001b[0;34m=\u001b[0m\u001b[0moauth\u001b[0m\u001b[0;34m)\u001b[0m\u001b[0;34m\u001b[0m\u001b[0m\n\u001b[0;32m----> 4\u001b[0;31m         \u001b[0mn_params\u001b[0m \u001b[0;34m=\u001b[0m \u001b[0mresponse\u001b[0m\u001b[0;34m.\u001b[0m\u001b[0mjson\u001b[0m\u001b[0;34m(\u001b[0m\u001b[0;34m)\u001b[0m\u001b[0;34m[\u001b[0m\u001b[0;34m\"search_metadata\"\u001b[0m\u001b[0;34m]\u001b[0m\u001b[0;34m[\u001b[0m\u001b[0;34m\"next_results\"\u001b[0m\u001b[0;34m]\u001b[0m\u001b[0;34m\u001b[0m\u001b[0m\n\u001b[0m\u001b[1;32m      5\u001b[0m         \u001b[0mtwitter_response\u001b[0m \u001b[0;34m=\u001b[0m \u001b[0mresponse\u001b[0m\u001b[0;34m.\u001b[0m\u001b[0mjson\u001b[0m\u001b[0;34m(\u001b[0m\u001b[0;34m)\u001b[0m\u001b[0;34m[\u001b[0m\u001b[0;34m'statuses'\u001b[0m\u001b[0;34m]\u001b[0m\u001b[0;34m\u001b[0m\u001b[0m\n\u001b[1;32m      6\u001b[0m         \u001b[0;32mfor\u001b[0m \u001b[0mtweet\u001b[0m \u001b[0;32min\u001b[0m \u001b[0mtwitter_response\u001b[0m\u001b[0;34m:\u001b[0m\u001b[0;34m\u001b[0m\u001b[0m\n",
      "\u001b[0;31mKeyError\u001b[0m: 'next_results'"
     ]
    }
   ],
   "source": [
    "for i in range(100):\n",
    "    for i in range(50):\n",
    "        response = requests.get(\"https://api.twitter.com/1.1/search/tweets.json\" + n_params, auth=oauth)\n",
    "        n_params = response.json()[\"search_metadata\"][\"next_results\"]\n",
    "        twitter_response = response.json()['statuses']\n",
    "        for tweet in twitter_response:\n",
    "            insertTweet(grammy_col, tweet)\n",
    "        print(n_params)\n",
    "    time.sleep(15*60) # sleep for 15 minutes"
   ]
  },
  {
   "cell_type": "code",
   "execution_count": 94,
   "metadata": {
    "collapsed": true
   },
   "outputs": [],
   "source": [
    "twitter_response = response.json()['statuses']"
   ]
  },
  {
   "cell_type": "code",
   "execution_count": 95,
   "metadata": {
    "collapsed": false
   },
   "outputs": [
    {
     "data": {
      "text/plain": [
       "98"
      ]
     },
     "execution_count": 95,
     "metadata": {},
     "output_type": "execute_result"
    }
   ],
   "source": [
    "len(twitter_response)"
   ]
  },
  {
   "cell_type": "code",
   "execution_count": 96,
   "metadata": {
    "collapsed": true
   },
   "outputs": [],
   "source": [
    "for tweet in twitter_response:\n",
    "    insertTweet(grammy_col, tweet)"
   ]
  },
  {
   "cell_type": "code",
   "execution_count": 98,
   "metadata": {
    "collapsed": false
   },
   "outputs": [
    {
     "data": {
      "text/plain": [
       "'RT @ArianatorIsland: THIS WOMAN DESERVES A GRAMMY TONIGHT 🗣🗣🗣🗣🗣 #GRAMMYs https://t.co/sF5raGHjIG'"
      ]
     },
     "execution_count": 98,
     "metadata": {},
     "output_type": "execute_result"
    }
   ],
   "source": [
    "twitter_response[-1]['text']"
   ]
  },
  {
   "cell_type": "code",
   "execution_count": 99,
   "metadata": {
    "collapsed": false
   },
   "outputs": [
    {
     "data": {
      "text/plain": [
       "203336"
      ]
     },
     "execution_count": 99,
     "metadata": {},
     "output_type": "execute_result"
    }
   ],
   "source": [
    "grammy_col.count()"
   ]
  },
  {
   "cell_type": "code",
   "execution_count": 6,
   "metadata": {
    "collapsed": false
   },
   "outputs": [],
   "source": [
    "tweets = []\n",
    "for tweet in grammy_col.find():\n",
    "    tweets.append(tweet['text'])"
   ]
  },
  {
   "cell_type": "code",
   "execution_count": 12,
   "metadata": {
    "collapsed": false
   },
   "outputs": [
    {
     "data": {
      "text/plain": [
       "['RT @OnlyHipHopFacts: Tonight. #Grammys https://t.co/b4jMEQX5Mf',\n",
       " 'A star-studded #RocNationBrunch ahead of the #Grammys https://t.co/Bqnz8QFOlv',\n",
       " 'RT @eionclarke: This album is a winner #GRAMMYs https://t.co/UtkmYnvBoH',\n",
       " 'RT @BieberFanAlan: This is stan twitter tonight #GRAMMYs https://t.co/iKNfO5uAIQ',\n",
       " 'RT @JustinItalyHelp: Retweet if you think that @justinbieber deserves to win the #GRAMMYs',\n",
       " 'RT @RecordingAcad: The final touches are being added to the red carpet! ♥ Who is ready for the #GRAMMYs tonight? https://t.co/zFBYoWWtOD',\n",
       " 'RT @ArmaanMalik22: Best of luck @justinbieber for the #GRAMMYs | Hope #Purpose &amp; you as an artiste get the recognition that is deserved! 🙌🏼❤',\n",
       " 'RT @BieberFanAlan: This album is a winner #GRAMMYs\\xa0 #Beliebers #BestFanArmy #iHeartsAwards https://t.co/sPh1uhINRq',\n",
       " \"RT @ItsFajarBaig: Remember when this pic was Justin's icon? #Beliebers #BestFanArmy #iHeartAwards #GRAMMYs https://t.co/OrPRqMLbMk\",\n",
       " 'RT @Bey_Legion: #Throwback: Tina Turner &amp; Beyoncé performing \"Proud Mary\" at the 2008 #GRAMMYs. 💎 https://t.co/K60N8pH4fU',\n",
       " 'HAPPY #GRAMMYs DAY!! 🎵🎶🎤🎹🎷🎺🎼🎸🎻\\U0001f941',\n",
       " 'RT @JustinChartStat: Retweet if @justinbieber  deserve to win at the #Grammys \\n#Beliebers #BestFanArmy #iHeartAwards',\n",
       " 'RT @estherwuff: Last year at the #GRAMMYs https://t.co/njyh4luiPK',\n",
       " \"RT @latelateshow: It's #GRAMMYs day! https://t.co/iv2ueoqamo\",\n",
       " 'Best Pop Vocal Album #GRAMMYs \\n\\nRT for Demi Lovato - Confident \\nLIKE for Ariana Grande - Dangerous Woman https://t.co/Tjz3lXDh0w',\n",
       " \"ddlovato good luck today, be confident and go with everything !! YOU DESERVE, YOU DID IT!! It's your night, I love you. 💗💪 #GRAMMYs\",\n",
       " 'RT @JDBVoteSpree: Does Justin deserve to win #Grammys ?\\n#Beliebers #BestFanArmy #iHeartAwards',\n",
       " \"RT @JBPT2016_2017: What if he secretly shows up to the #GRAMMYs ... I'll lose my shit for sure.\\nWeAllAreJustinBieber\\n#Beliebers #BestFanArm…\",\n",
       " 'All eyes on Beyonce as pregnant powerhouse leads #Grammys charge https://t.co/lCNCzJ9FnO via @STcom @PlacidPri @dollylama__',\n",
       " 'RT @JDBVoteSpree: Last year was unforgettable, but tonight he will make history again #GRAMMYs \\n#Beliebers #BestFanArmy #iHeartAwards\\nhttps…',\n",
       " \"RT @BeyonceCapital: Destiny's Child winning their first ever Grammy Award, back in 2001! #GRAMMYs #BeyonceGrammys https://t.co/wGCKuvuysw\",\n",
       " \"RT @drunkwithrauhl: dear justin don't play with my feelings this year, white suit makes me emotional. thanks u #GRAMMYs https://t.co/87JrDl…\",\n",
       " 'RT @SonyMusicGlobal: Get ready for tonight by re-living some of the best moments in #GRAMMYs history 🙌🏼 https://t.co/2PSkxhFWQ0',\n",
       " 'RT @OnlyVocalists: RT if you believe Demi will win her first Grammy tonight. \\n\\n#GRAMMYs https://t.co/u46eUC33cF',\n",
       " 'TONIGHT KATYCATS! @katyperry will perform #ChainedToTheRhythm for the FIRST TIME at the #GRAMMYs tonight!',\n",
       " 'RT @TicketmasterUK: .@justinbieber is nominated for four #GRAMMYs! Good luck, Biebs 😘 https://t.co/aBh4vaNu2b https://t.co/m1Hjdd4745',\n",
       " 'RT @MusicNewsRumors: Which #GRAMMYs performance are you looking forward to most?',\n",
       " 'RT @dixiechicks: #TBT to 2007 #GRAMMYs @RecordingAcad where Not Ready to Make Nice won Record of the Year, Song of the Year &amp; Best Country…',\n",
       " 'RT @TicketmasterUK: .@justinbieber is nominated for four #GRAMMYs! Good luck, Biebs 😘 https://t.co/aBh4vaNu2b https://t.co/m1Hjdd4745',\n",
       " 'RT @JBFollowHelp04: the legend @justinbieber is nominated for four #GRAMMYs i hope you win!\\n\\n#Beliebers #BestFanArmy #iHeartAwards',\n",
       " 'RT @RecordingAcad: The final touches are being added to the red carpet! ♥ Who is ready for the #GRAMMYs tonight? https://t.co/zFBYoWWtOD',\n",
       " 'RT @purposemane: Best of lucks for #GRAMMYs tonight @justinbieber. \\nAOTY... is ours for sure\\n\\n#Beliebers #BestFanArmy #iHeartAwards https:/…',\n",
       " 'RT @ariaerzabieber: Retweet if you r excited.....for how many Grammy @justinbieber will win.#Grammys https://t.co/8tk6jRzD2W',\n",
       " \"RT @RepublicRecords: #GRAMMYs nom Max Martin!\\n\\nMake sure to follow #RepublicGrammys on music's biggest night! https://t.co/3wlSUjD9wc\",\n",
       " 'RT @GRAMMYzChoice: Which group should get a #grammy nomination? #onedirection #LittleMix #fifthharmony #GRAMMYs #grammys2017 #GrammyAwards…',\n",
       " 'RT @JustinItalyHelp: Retweet if you think that @justinbieber deserves to win the #GRAMMYs',\n",
       " 'RT @Jeffery_8O8: Refuse to watch the Grammys until Young Thug wins one #GRAMMYs',\n",
       " 'RT @OnlyHipHopFacts: Tonight. #Grammys https://t.co/b4jMEQX5Mf',\n",
       " 'RT @JustinItalyHelp: Retweet if you think that @justinbieber deserves to win the #GRAMMYs',\n",
       " 'Happy Grammy Sunday 🎈 #Grammys https://t.co/56YEFAcyBj',\n",
       " 'RT @JDBVoteSpree: #Beliebers, Justin is nominated for 4 #GRAMMYs \\nHow many do you think he will win tonight?\\n\\n#BestFanArmy #iHeartAwards',\n",
       " 'RT @biebshawtie: Purpose deserves to win AOTY, he put everything he had into that masterpiece. #GRAMMYs https://t.co/xwKHNrC4uR',\n",
       " 'RT @bizzlecute_: Last year was unforgettable, but tonight he will make history again #GRAMMYs https://t.co/ZpRx5EMqva',\n",
       " 'RT @TheUndefeated: With the #GRAMMYs coming up, Drake is looking to maintain that summer 2016 momentum. \\nhttps://t.co/qsUHmuIb9R',\n",
       " 'RT @PTXVotes: PENTATONIX WILL WIN A GRAMMY RT AND QUOTE TO PASS IT ON. #GRAMMYs\\xa0 \\n\\n#KCAFavMusicGroup #Pentatonix https://t.co/vaM5ei15pW',\n",
       " \"RT @bizzlexfenty: Watching everyone get excited because their favs are attending #GRAMMYs while i'm stuck with Justin's confusing ass https…\",\n",
       " \"Tonight is Beyoncé, Justin Bieber and Kanye West's night 😏😏 #GRAMMYs\",\n",
       " 'Who should win the #Grammy for #AOTY ?',\n",
       " \"ddlovato good luck today, be confident and go with everything !! YOU DESERVE, YOU DID IT!! It's your night, I love you. 💗💪 #GRAMMYs\",\n",
       " 'RT @OnlyHipHopFacts: Tonight. #Grammys https://t.co/b4jMEQX5Mf',\n",
       " 'RT @TheBRITSchool: Good luck tonight @Adele nominated for 5 #GRAMMYs #AlwaysBRIT',\n",
       " 'RT @JustinChartStat: Remember #Grammys \\n#Beliebers #BestFanArmy #iHeartAwards https://t.co/pCpoKhIRlt',\n",
       " 'RT @RoyalSkeleton21: Twenty One Pilots will be sitting in the isle way at the #GRAMMYs which traditional means that they have won one or ev…',\n",
       " 'RT @DivulgueArianaB: Ariana you deserve this #GRAMMYs look at these vocals💕\\n\\n(RT to give good luck to Ariana today at GRAMMYs)\\n\\n#KCAFavFema…',\n",
       " \"RT @drunkwithrauhl: dear justin don't play with my feelings this year, white suit makes me emotional. thanks u #GRAMMYs https://t.co/87JrDl…\",\n",
       " 'RT @JustinItalyHelp: Retweet if you think that @justinbieber deserves to win the #GRAMMYs',\n",
       " \"@RecordingAcad - Facebook feed's most popular request: To spare the public from political rants tonight - I agree. #GRAMMYs #CBS\",\n",
       " 'RT @RecordingAcad: The #GRAMMYs are TONIGHT! Get the 2017 GRAMMY Nominees album and enter to win a trip to the 2018 Awards! https://t.co/Kc…',\n",
       " 'RT @TSwiftLA: In honor of the #GRAMMYs today, throwback to last year when Taylor won three Grammys including Album of the Year! https://t.c…',\n",
       " 'RT @billboard: 2017 #GRAMMYs nominees for Album of the Year! 🌟 https://t.co/euMFVn62uc',\n",
       " \"I'm so excited for #GRAMMYs tonight!!!\",\n",
       " \"Lmao at Gaga's outfit 😂😂😂 Hopefully, this performance won't be a disaster... I HOPE 🙏🏻\\n#metallica #ladygaga #grammys https://t.co/qs17duccws\",\n",
       " \"#GRAMMYs\\nI'm Still Angry 👊😡 That They Did Not Nominate  #FifthHarmony\",\n",
       " 'RT @wokefenty: stan twitter tommorow night #GRAMMYs https://t.co/GMkGRmCwNt',\n",
       " 'RT @JDBVoteSpree: Last year was unforgettable, but tonight he will make history again #GRAMMYs \\n#Beliebers #BestFanArmy #iHeartAwards\\nhttps…',\n",
       " \"RT @Hipsterlovato3: #GRAMMYs @ddlovato is performing for the 2nd time. She's also nominated for best pop vocal. Tune in at 8pm et and 5pt,…\",\n",
       " 'RT @BeyonceHard: Beyoncé no Grammy 2008. 😍😍 #GRAMMYs https://t.co/UMLnaJRrSa',\n",
       " \"RT @CBS: #GRAMMYs host James Corden can't wait for an amazing night of legends and icons celebrating the best of the best in music. Pres. b…\",\n",
       " 'RT @OnlyHipHopFacts: Tonight. #Grammys https://t.co/b4jMEQX5Mf',\n",
       " 'RT @eionclarke: This album is a winner #GRAMMYs https://t.co/UtkmYnvBoH',\n",
       " \"RT @1989TUpdates: In honor of the 2017 #GRAMMYs happening tonight, here's a look back at Taylor's past red carpet looks! https://t.co/0lMd3…\",\n",
       " 'RT @bizzlecute_: Throwback to his outfit. #GRAMMYs https://t.co/Kuebr7JluB',\n",
       " 'RT @1DConcertVideos: #GRAMMYs \\n\\n#OneDirectionWeMissYou more than anyone could imagine... https://t.co/FYXg9FPEAl',\n",
       " 'RT @TeamCyrusHD: In honour of the #Grammys tonight, here is Miley at the 2015 Grammy Awards: https://t.co/sjwXRjTlXN',\n",
       " 'RT @YondalisJr: STAN TWITTER DURING #GRAMMYs TONIGHT https://t.co/VpnUZU665Z',\n",
       " 'Some great performances are expected tonight! Check out the full list here: https://t.co/K9ROOrGFUE #FullSailGRAMMYS #Grammys #MusicBusiness',\n",
       " 'RT @JBFollowHelp04: the legend @justinbieber is nominated for four #GRAMMYs i hope you win!\\n\\n#Beliebers #BestFanArmy #iHeartAwards',\n",
       " 'RT @JDBVoteSpree: Good luck, @justinbieber #Grammys\\n\\n#Beliebers #BestFanArmy #iHeartAwards https://t.co/PvysqaG09O',\n",
       " 'RT @_sexualgrande: The only real thing Donald Trump says #GRAMMYs \\nhttps://t.co/AeYyvjNL3q',\n",
       " 'RT @YondalisJr: STAN TWITTER DURING #GRAMMYs TONIGHT https://t.co/VpnUZU665Z',\n",
       " 'RT @1DConcertVideos: #GRAMMYs \\n\\n#OneDirectionWeMissYou more than anyone could imagine... https://t.co/FYXg9FPEAl',\n",
       " 'RT @JDBVoteSpree: Does Justin deserve to win #Grammys ?\\n#Beliebers #BestFanArmy #iHeartAwards',\n",
       " 'RT @enews: Paris Jackson and Camila Cabello are set to present at the #GRAMMYs: https://t.co/qr5xpbEmV9 https://t.co/Qsh3IcbiU0',\n",
       " 'RT @1Kidrauhl_Biebz: I made this header for tonight.\\n#GRAMMYs https://t.co/DTPd5uaYHy',\n",
       " 'RT @OnlyHipHopFacts: Tonight. #Grammys https://t.co/b4jMEQX5Mf',\n",
       " 'RT @YondalisJr: STAN TWITTER DURING #GRAMMYs TONIGHT https://t.co/VpnUZU665Z',\n",
       " 'RT @ShaniaTwain: 59th @RecordingAcad #GRAMMYs tonight! Good luck to all the nominees, one of my favourite memories from 1998... https://t.c…',\n",
       " 'RT @ColdplayAtlas: Good luck to @coldplay at the #GRAMMYs tonight! #BestMusicVideo #UpAndUp https://t.co/vO08jdztKm https://t.co/gn5Rv5FIoG',\n",
       " 'RT @RoyalSkeleton21: Twenty One Pilots will be sitting in the isle way at the #GRAMMYs which traditional means that they have won one or ev…',\n",
       " 'RT @RoyalSkeleton21: Twenty One Pilots will be sitting in the isle way at the #GRAMMYs which traditional means that they have won one or ev…',\n",
       " 'RT @Trends5World: Top 5:\\n1: #YouNeverWalkAlone\\n2: #TheVoiceKids\\n3: #GRAMMYs\\n4: #GGVPusuanMo\\n5: Burnley +6',\n",
       " 'RT @OnlyHipHopFacts: Tonight. #Grammys https://t.co/b4jMEQX5Mf',\n",
       " \"RT @CBS: Tonight's the night! The #GRAMMYs are at 8pm ET/5pm PT. Watch the show on CBS All Access for FREE w/ a 1 week trial. https://t.co/…\",\n",
       " 'RT @TSwiftLA: In honor of the #GRAMMYs today, throwback to last year when Taylor won three Grammys including Album of the Year! https://t.c…',\n",
       " 'RT @badg4lrihanna: The Rihanna Navy tonight for the #GRAMMYs https://t.co/SuwoUBJteg',\n",
       " \"RT @_turntjuju: let's not forget #Grammys https://t.co/GLiCw4i1Md\",\n",
       " 'Good luck my angel 😍 #GRAMMYs #JustinBieber @justinbieber Love u so much babe ❤',\n",
       " 'RT @17BLAVKSWIFT: In honor of the #GRAMMYs I have to post the performance that will be always rembered as one of the most iconic in the Gra…',\n",
       " 'RT @_turntjuju: Remember when jaxon was so nervous justin was trying to make him feel better #Grammys https://t.co/KdQZcxcTal',\n",
       " 'RT @ArianatorIsland: THIS WOMAN DESERVES A GRAMMY TONIGHT 🗣🗣🗣🗣🗣 #GRAMMYs https://t.co/sF5raGHjIG']"
      ]
     },
     "execution_count": 12,
     "metadata": {},
     "output_type": "execute_result"
    }
   ],
   "source": [
    "tweets[-100:]"
   ]
  },
  {
   "cell_type": "code",
   "execution_count": null,
   "metadata": {
    "collapsed": true
   },
   "outputs": [],
   "source": []
  }
 ],
 "metadata": {
  "anaconda-cloud": {},
  "kernelspec": {
   "display_name": "Python [default]",
   "language": "python",
   "name": "python3"
  },
  "language_info": {
   "codemirror_mode": {
    "name": "ipython",
    "version": 3
   },
   "file_extension": ".py",
   "mimetype": "text/x-python",
   "name": "python",
   "nbconvert_exporter": "python",
   "pygments_lexer": "ipython3",
   "version": "3.5.2"
  }
 },
 "nbformat": 4,
 "nbformat_minor": 1
}
